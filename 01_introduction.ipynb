{
 "cells": [
  {
   "cell_type": "markdown",
   "id": "db45f83b-6ec1-4785-ae8c-dc23a6b779d9",
   "metadata": {},
   "source": [
    "<h1 style='font-size:40px'> Introduction</h1>\n",
    "<div> \n",
    "    <ul style='font-size:20px'> \n",
    "        <li> \n",
    "            Este curso tem o enfoque de nos preparar para a CLF-C01 (Cloud Practitioner Exam), a certificação da AWS para iniciantes.\n",
    "        </li>\n",
    "        <li>\n",
    "            Ao longo dele, vamos ser introduzidos a cerca de 40 dos mais de 200 serviços da marca.\n",
    "        </li>\n",
    "        <li>\n",
    "            A maior parte das aulas usarão a <a href='https://aws.amazon.com/free'> camada gratuita</a> da AWS. Caso recursos pagos venham a ser trabalhados, o instrutor nos avisará.\n",
    "        </li>\n",
    "    </ul>\n",
    "</div>"
   ]
  },
  {
   "cell_type": "markdown",
   "id": "97e31588-21d4-4c67-b265-dbc502af16a6",
   "metadata": {},
   "source": [
    "<center style='margin-top:20px'>\n",
    "    <h1> Certificações AWS</h1>\n",
    "    <img src='img/00_aws_journey.png'> \n",
    "</center>"
   ]
  },
  {
   "cell_type": "markdown",
   "id": "c46b30f2-6bab-4de4-b61b-a662c405527b",
   "metadata": {},
   "source": [
    "<p style='color:red'> Section 2</p>"
   ]
  }
 ],
 "metadata": {
  "kernelspec": {
   "display_name": "Python 3 (ipykernel)",
   "language": "python",
   "name": "python3"
  },
  "language_info": {
   "codemirror_mode": {
    "name": "ipython",
    "version": 3
   },
   "file_extension": ".py",
   "mimetype": "text/x-python",
   "name": "python",
   "nbconvert_exporter": "python",
   "pygments_lexer": "ipython3",
   "version": "3.8.10"
  }
 },
 "nbformat": 4,
 "nbformat_minor": 5
}
