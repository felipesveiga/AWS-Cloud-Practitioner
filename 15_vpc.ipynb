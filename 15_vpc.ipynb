{
 "cells": [
  {
   "cell_type": "markdown",
   "id": "73de7200-0e2a-41f8-a319-7974af88d557",
   "metadata": {},
   "source": [
    "<h1 style='font-size:40px'> VPC & Networking</h1>"
   ]
  },
  {
   "cell_type": "markdown",
   "id": "1f4055df-8e94-4981-a515-7536dcc5f37f",
   "metadata": {},
   "source": [
    "<h2 style='font-size:30px'> VPC Overview</h2>\n",
    "<div> \n",
    "    <ul style='font-size:20px'> \n",
    "        <li>   \n",
    "            Marek explica que o CCP-02 espera apenas um entendimento alto-nível sobre VPC. Exames como o de Arquiteto de Soluções são os que exigem mais sobre esse assuto.  \n",
    "        </li>\n",
    "    </ul>\n",
    " </div>"
   ]
  },
  {
   "cell_type": "markdown",
   "id": "27d95b01-04ac-4c70-bfe4-88284874bcd9",
   "metadata": {},
   "source": [
    "<h2 style='font-size:30px'> IP Addresses in AWS</h2>\n",
    "<div> \n",
    "    <ul style='font-size:20px'> \n",
    "        <li>   \n",
    "            A AWS nos possibilita conferir tanto IPv4's, quanto IPv6's em nossas VM's. \n",
    "        </li>\n",
    "        <li>\n",
    "            No caso do IPv4, podemos ter tanto uma versão pública, quanto privada dele. Ademais, podemos usar o Elastic IP, que conferirá um IPv4 fixo para nossa instância, mesmo se a desligarmos.\n",
    "        </li>\n",
    "        <li>\n",
    "            O IPv6 possui apenas versões de acesso público na AWS.\n",
    "        </li>\n",
    "    </ul>\n",
    " </div>"
   ]
  },
  {
   "cell_type": "markdown",
   "id": "65bb1939-1db0-4aea-8a89-2afebe66548d",
   "metadata": {},
   "source": [
    "<h2 style='font-size:30px'> VPC, Subnet, Internet Gateway & NAT Gateways</h2>\n",
    "<div> \n",
    "    <ul style='font-size:20px'> \n",
    "        <li>   \n",
    "            VPC's são redes regionais privadas dentro das quais você poderá inserir os seus recursos AWS. Nas VPC's, podemos criar subnets, que são particionamentos dessas redes por AZ.\n",
    "        </li>\n",
    "        <li>\n",
    "            As subnets podem ser tanto públicas -acessíveis pela internet-, quanto privadas - não acessíveis.\n",
    "        </li>\n",
    "        <li>\n",
    "            Para definirmos o acesso de nossas subnets à internet, ou a outra subnet, devemos utilizar as Route Tables.\n",
    "        </li>\n",
    "    </ul>\n",
    " </div>"
   ]
  },
  {
   "cell_type": "markdown",
   "id": "6a95e9ef-ccef-4dd5-93d8-f3792d8a0abb",
   "metadata": {},
   "source": [
    "<figure>\n",
    "    <center style='margin-top:20px'>\n",
    "                <img src='img/15_vpc_diagram.png'>\n",
    "        <figcaption> Demonstração da arquitetura de uma VPC</figcaption>\n",
    "            </center>\n",
    "</figure>"
   ]
  },
  {
   "cell_type": "markdown",
   "id": "2921f6ed-4e44-48e9-aff4-0df25972b7f5",
   "metadata": {},
   "source": [
    "<h3 style='font-size:30px;font-style:italic'> Internet Gateway & NAT Gateways</h3>\n",
    "<div> \n",
    "    <ul style='font-size:20px'> \n",
    "        <li> \n",
    "            O acesso de uma subnet pública à internet é conduzido com um Internet Gateway. Toda instância deverá ter uma rota configurada a ele para que possa tanto acessar a internet, quanto também receber acessos.\n",
    "        </li>\n",
    "        <li>\n",
    "            Caso deseje que uma instância de uma rede privada acesse a internet, você deverá criar um NAT Gateway. Ele será um intermediador entre a instância e o Internet Gateway.\n",
    "        </li>\n",
    "        <li>\n",
    "            Observe que o NAT Gateway não habilita o acesso <strong>à</strong> VM via internet.\n",
    "        </li>\n",
    "    </ul>\n",
    " </div>"
   ]
  },
  {
   "cell_type": "markdown",
   "id": "0f31ae25-2f7a-40bf-8c2d-bdb9bb25777f",
   "metadata": {},
   "source": [
    "<h2 style='font-size:30px'> Security Groups & Network Access Control List (NACL)</h2>\n",
    "<div> \n",
    "    <ul style='font-size:20px'> \n",
    "        <li>   \n",
    "            A AWS nos permite criar duas entidades que protegerão os recursos de nossas redes. A primeira é a NACL, e a segunda, os Security Groups.\n",
    "        </li>\n",
    "    </ul>\n",
    " </div>"
   ]
  },
  {
   "cell_type": "markdown",
   "id": "47ae8aa8-e216-4a16-afd3-85c1096f3fd2",
   "metadata": {},
   "source": [
    "<h3 style='font-size:30px;font-style:italic'> NACL (Network ACL)</h3>\n",
    "<div> \n",
    "    <ul style='font-size:20px'> \n",
    "        <li> \n",
    "            \n",
    "        </li>\n",
    "    </ul>\n",
    " </div>"
   ]
  },
  {
   "cell_type": "markdown",
   "id": "c8fafea5-14ed-4ea7-8aeb-04a1090e26cc",
   "metadata": {},
   "source": [
    "<p style='color:red'> Vi aula 172 e iniciei 173; Aula 173 (1:15); Explicar NACL e Security Groups; DESLIGAR VM'S ao final da aula!!</p>"
   ]
  }
 ],
 "metadata": {
  "kernelspec": {
   "display_name": "Python 3 (ipykernel)",
   "language": "python",
   "name": "python3"
  },
  "language_info": {
   "codemirror_mode": {
    "name": "ipython",
    "version": 3
   },
   "file_extension": ".py",
   "mimetype": "text/x-python",
   "name": "python",
   "nbconvert_exporter": "python",
   "pygments_lexer": "ipython3",
   "version": "3.11.7"
  }
 },
 "nbformat": 4,
 "nbformat_minor": 5
}
