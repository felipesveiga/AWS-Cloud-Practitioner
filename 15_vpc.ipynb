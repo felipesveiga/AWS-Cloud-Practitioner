{
 "cells": [
  {
   "cell_type": "markdown",
   "id": "73de7200-0e2a-41f8-a319-7974af88d557",
   "metadata": {},
   "source": [
    "<h1 style='font-size:40px'> VPC & Networking</h1>"
   ]
  },
  {
   "cell_type": "markdown",
   "id": "1f4055df-8e94-4981-a515-7536dcc5f37f",
   "metadata": {},
   "source": [
    "<h2 style='font-size:30px'> VPC Overview</h2>\n",
    "<div> \n",
    "    <ul style='font-size:20px'> \n",
    "        <li>   \n",
    "            Marek explica que o CCP-02 espera apenas um entendimento alto-nível sobre VPC. Exames como o de Arquiteto de Soluções são os que exigem mais sobre esse assuto.  \n",
    "        </li>\n",
    "    </ul>\n",
    " </div>"
   ]
  },
  {
   "cell_type": "markdown",
   "id": "27d95b01-04ac-4c70-bfe4-88284874bcd9",
   "metadata": {},
   "source": [
    "<h2 style='font-size:30px'> IP Addresses in AWS</h2>\n",
    "<div> \n",
    "    <ul style='font-size:20px'> \n",
    "        <li>   \n",
    "            A AWS nos possibilita conferir tanto IPv4's, quanto IPv6's em nossas VM's. \n",
    "        </li>\n",
    "        <li>\n",
    "            No caso do IPv4, podemos ter tanto uma versão pública, quanto privada dele. Ademais, podemos usar o Elastic IP, que conferirá um IPv4 fixo para nossa instância, mesmo se a desligarmos.\n",
    "        </li>\n",
    "        <li>\n",
    "            O IPv6 possui apenas versões de acesso público na AWS.\n",
    "        </li>\n",
    "    </ul>\n",
    " </div>"
   ]
  },
  {
   "cell_type": "markdown",
   "id": "65bb1939-1db0-4aea-8a89-2afebe66548d",
   "metadata": {},
   "source": [
    "<h2 style='font-size:30px'> VPC, Subnet, Internet Gateway & NAT Gateways</h2>\n",
    "<div> \n",
    "    <ul style='font-size:20px'> \n",
    "        <li>   \n",
    "            VPC's são redes regionais privadas dentro das quais você poderá inserir os seus recursos AWS. Nas VPC's, podemos criar subnets, que são particionamentos dessas redes por AZ.\n",
    "        </li>\n",
    "        <li>\n",
    "            As subnets podem ser tanto públicas -acessíveis pela internet-, quanto privadas - não acessíveis.\n",
    "        </li>\n",
    "        <li>\n",
    "            Para definirmos o acesso de nossas subnets à internet, ou a outra subnet, devemos utilizar as Route Tables.\n",
    "        </li>\n",
    "    </ul>\n",
    " </div>"
   ]
  },
  {
   "cell_type": "markdown",
   "id": "6a95e9ef-ccef-4dd5-93d8-f3792d8a0abb",
   "metadata": {},
   "source": [
    "<figure>\n",
    "    <center style='margin-top:20px'>\n",
    "                <img src='img/15_vpc_diagram.png'>\n",
    "        <figcaption> Demonstração da arquitetura de uma VPC</figcaption>\n",
    "            </center>\n",
    "</figure>"
   ]
  },
  {
   "cell_type": "markdown",
   "id": "2921f6ed-4e44-48e9-aff4-0df25972b7f5",
   "metadata": {},
   "source": [
    "<h3 style='font-size:30px;font-style:italic'> Internet Gateway & NAT Gateways</h3>\n",
    "<div> \n",
    "    <ul style='font-size:20px'> \n",
    "        <li> \n",
    "            O acesso de uma subnet pública à internet é conduzido com um Internet Gateway. Toda instância deverá ter uma rota configurada a ele para que possa tanto acessar a internet, quanto também receber acessos.\n",
    "        </li>\n",
    "        <li>\n",
    "            Caso deseje que uma instância de uma rede privada acesse a internet, você deverá criar um NAT Gateway. Ele será um intermediador entre a instância e o Internet Gateway.\n",
    "        </li>\n",
    "        <li>\n",
    "            Observe que o NAT Gateway não habilita o acesso <strong>à</strong> VM via internet.\n",
    "        </li>\n",
    "    </ul>\n",
    " </div>"
   ]
  },
  {
   "cell_type": "markdown",
   "id": "0f31ae25-2f7a-40bf-8c2d-bdb9bb25777f",
   "metadata": {},
   "source": [
    "<h2 style='font-size:30px'> Security Groups & Network Access Control List (NACL)</h2>\n",
    "<div> \n",
    "    <ul style='font-size:20px'> \n",
    "        <li>   \n",
    "            A AWS nos permite criar duas entidades que protegerão os recursos de nossas redes. A primeira é a NACL, e a segunda, os Security Groups.\n",
    "        </li>\n",
    "    </ul>\n",
    " </div>"
   ]
  },
  {
   "cell_type": "markdown",
   "id": "47ae8aa8-e216-4a16-afd3-85c1096f3fd2",
   "metadata": {},
   "source": [
    "<h3 style='font-size:30px;font-style:italic'> NACL (Network ACL)</h3>\n",
    "<div> \n",
    "    <ul style='font-size:20px'> \n",
    "        <li> \n",
    "            É uma firewall do nível subnet, que especifica quais endereços de IP podem acessá-la.\n",
    "        </li>\n",
    "        <li> \n",
    "            É aplicada automaticamente a todas as máquinas de seu security group.\n",
    "        </li>\n",
    "        <li>\n",
    "            Habilitam regras de ALLOW e DENY.\n",
    "        </li>\n",
    "    </ul>\n",
    " </div>"
   ]
  },
  {
   "cell_type": "markdown",
   "id": "bf86eb53-5a13-4fa8-bd16-9b19cbd40804",
   "metadata": {},
   "source": [
    "<h3 style='font-size:30px;font-style:italic'> Security Groups</h3>\n",
    "<div> \n",
    "    <ul style='font-size:20px'> \n",
    "        <li> \n",
    "            São firewalls no nível da VM. Controlam quais IP's e outros security groups podem acessar a máquina. \n",
    "        </li>\n",
    "        <li> \n",
    "            Apenas são aplicados mediante escolha do usuário.\n",
    "        </li>\n",
    "        <li>\n",
    "            Permitem apenas a especificação de ALLOW rules.\n",
    "        </li>\n",
    "    </ul>\n",
    " </div>"
   ]
  },
  {
   "cell_type": "markdown",
   "id": "d0bf74e1-0e02-4426-8f98-bc6e64e80b5f",
   "metadata": {},
   "source": [
    "<h2 style='font-size:30px'> VPC Flow Logs & VPC Peering</h2>"
   ]
  },
  {
   "cell_type": "markdown",
   "id": "0f232ee1-1671-4d61-b8f8-6bc4b9fe39c0",
   "metadata": {
    "jp-MarkdownHeadingCollapsed": true
   },
   "source": [
    "<h3 style='font-size:30px;font-style:italic'> VPC Flow Logs</h3>\n",
    "<div> \n",
    "    <ul style='font-size:20px'> \n",
    "        <li> \n",
    "            Serviço de logs de suas redes. Com eles, você poderá identificar com maior facilidade a causa de problemas com sua VPC e Subnets.\n",
    "        </li>\n",
    "        <li>\n",
    "            Podemos encaminhar os logs do VPC Flow Logs para outros serviços, como S3 e CloudWatch Logs.\n",
    "        </li>\n",
    "    </ul>\n",
    " </div>"
   ]
  },
  {
   "cell_type": "markdown",
   "id": "a5a629ea-67e9-44aa-8c6a-add2ee691018",
   "metadata": {
    "jp-MarkdownHeadingCollapsed": true
   },
   "source": [
    "<h3 style='font-size:30px;font-style:italic'> VPC Peering</h3>\n",
    "<div> \n",
    "    <ul style='font-size:20px'> \n",
    "        <li> \n",
    "            É um serviço de integração de VPC's que as faz funcionarem como se fossem uma rede só.\n",
    "        </li>\n",
    "        <li>\n",
    "            As VPC's não podem ter CIDR sobrepostos. E a integração deve ser feita entre cada par de rede participante do peering (não é porque a VPC A é peer de B e C, que estas duas redes também serão peers entre si!).\n",
    "        </li>\n",
    "    </ul>\n",
    " </div>"
   ]
  },
  {
   "cell_type": "markdown",
   "id": "4c3e7dde-514d-49e9-99b2-0497b2ac3d6c",
   "metadata": {
    "jp-MarkdownHeadingCollapsed": true
   },
   "source": [
    "<h2 style='font-size:30px'>  VPC EndPoints - Interface & Gateway (S3 & DynamoDB)</h2>\n",
    "<div> \n",
    "    <ul style='font-size:20px'> \n",
    "        <li> \n",
    "            EndPoints são ferramentas que permitem que nossas aplicações interajam com outros serviços AWS usando a rede privada.\n",
    "        </li>\n",
    "        <li>\n",
    "            VPC EndPoint Gateway: EndPoint voltado à interação com o Dynamo DB e S3.\n",
    "        </li>\n",
    "        <li>\n",
    "            VPC EndPoint Interface: EndPoint para os demais serviços da AWS\n",
    "        </li>\n",
    "    </ul>\n",
    " </div>"
   ]
  },
  {
   "cell_type": "markdown",
   "id": "0c956106-7218-45b2-820a-0123a6a008d5",
   "metadata": {},
   "source": [
    "<h2 style='font-size:30px'>  PrivateLink</h2>\n",
    "<div> \n",
    "    <ul style='font-size:20px'> \n",
    "        <li> \n",
    "            Serviço que permite a interligação de VPC's de contas distintas.\n",
    "        </li>\n",
    "        <li>\n",
    "            Ideal para quando desejamos a comunicação entre redes, mas sem induzir uma integração entre elas (peering). Um exemplo disso seria a comunicação entre a rede de uma empresa com as de seus fornecedores.\n",
    "        </li>\n",
    "        <li>\n",
    "            A rede de origem deverá criar uma Elastic Network Interface; já a de destino, um NLB.\n",
    "            <center style='margin-top:20px'>\n",
    "                <img src='img/15_private_link.png'>\n",
    "            </center>\n",
    "        </li>\n",
    "    </ul>\n",
    " </div>"
   ]
  },
  {
   "cell_type": "markdown",
   "id": "3347be01-4b00-4d46-87f3-f23f4e0ec9de",
   "metadata": {},
   "source": [
    "<h2 style='font-size:30px'>  Direct Connect & Site-to-Site VPN</h2>\n",
    "<div> \n",
    "    <ul style='font-size:20px'> \n",
    "        <li> \n",
    "            Em nuvens públicas, podemos estabelecer uma conexão entre nossa rede on-premises com uma VPC de duas formas:    \n",
    "        </li>\n",
    "    </ul>\n",
    " </div>"
   ]
  },
  {
   "cell_type": "markdown",
   "id": "827a069d-9adb-46e5-910a-b88a00624e1b",
   "metadata": {},
   "source": [
    "<h3 style='font-size:30px;font-style:italic'> Site-to-Site VPN</h3>\n",
    "<div> \n",
    "    <ul style='font-size:20px'> \n",
    "        <li> \n",
    "            Site-to-Site VPN consiste em fazer uma conexão via VPN entre essas redes.\n",
    "        </li>\n",
    "        <li>\n",
    "            No caso, a rede on-premises deverá ter um Customer Gateway, enquanto a VPC, um Virtual Private Gateway\n",
    "        </li>\n",
    "    </ul>\n",
    " </div>"
   ]
  },
  {
   "cell_type": "markdown",
   "id": "aef7d435-8229-4e11-a7dd-8e91944ee474",
   "metadata": {},
   "source": [
    "<h3 style='font-size:30px;font-style:italic'> Direct Connect</h3>\n",
    "<div> \n",
    "    <ul style='font-size:20px'> \n",
    "        <li> \n",
    "            Conexão física direta entre sua rede e a VPC.\n",
    "        </li>\n",
    "    </ul>\n",
    " </div>"
   ]
  },
  {
   "cell_type": "markdown",
   "id": "0d20b1f2-47b6-4d7f-b8fa-2b4cdda24caa",
   "metadata": {
    "jp-MarkdownHeadingCollapsed": true
   },
   "source": [
    "<h2 style='font-size:30px'>  Client VPN</h2>\n",
    "<div> \n",
    "    <ul style='font-size:20px'> \n",
    "        <li>\n",
    "            Permite a conexão de máquinas locais à sua VPC. É necessário ter o Open VPN para usufruir do serviço. \n",
    "        </li>\n",
    "        <li>\n",
    "            A conexão é feita via internet. Uma vez estando dentro da VPC, você poderá se conectar a uma VM EC2 com um IP Privado.\n",
    "        </li>\n",
    "    </ul>\n",
    " </div>"
   ]
  },
  {
   "cell_type": "markdown",
   "id": "66c14870-3222-4196-a80a-ef31ec37796f",
   "metadata": {},
   "source": [
    "<h2 style='font-size:30px'>  Transit Gateway Overview</h2>\n",
    "<div> \n",
    "    <ul style='font-size:20px'> \n",
    "        <li>\n",
    "            Permite conexões transitivas entre as diversas VPC's tidas por uma empresa, sua rede on-premises e, até mesmo, rede de clientes.\n",
    "            <center style='margin-top:20px'>\n",
    "                <img src='img/15_transit_gateway.png'>\n",
    "            </center>\n",
    "        </li>\n",
    "    </ul>\n",
    " </div>"
   ]
  },
  {
   "cell_type": "markdown",
   "id": "bece9100-6636-4d72-af69-8117f80c6849",
   "metadata": {},
   "source": [
    "<h2 style='font-size:30px'>  Shared Responsibility Model: Reminders & Examples</h2>\n",
    "<div> \n",
    "    <ul style='font-size:20px'> \n",
    "        <li>\n",
    "            Breve revisão sobre o Shared Responsibility Model da AWS.\n",
    "        </li>\n",
    "        <li>\n",
    "            De maneira geral, a Amazon deve garantir a disponibilidade de seus serviços, enquanto que os clientes devem se preocupar com as suas configurações gerais.\n",
    "        </li>\n",
    "        <li>\n",
    "            A AWS adquire uma quantidade maior de responsabilidades nos serviços serveless. É de obrigação dela ter que lidar com as atualizações dos OS's e softwares dos servidores.\n",
    "        </li>\n",
    "    </ul>\n",
    " </div>"
   ]
  },
  {
   "cell_type": "markdown",
   "id": "2dc6c64d-17c6-48a6-9e14-a778e0e73bc4",
   "metadata": {},
   "source": [
    "<h2 style='font-size:30px'>  DDoS Protection: WAF & Shield</h2>\n",
    "<div> \n",
    "    <ul style='font-size:20px'> \n",
    "        <li>\n",
    "            O Distributed Denial-of-Service é uma modalidade de ataque que busca sobre-onerar os servidores de sua aplicação com múltiplas requisições.\n",
    "        </li>\n",
    "        <li>\n",
    "            A AWS tem alguns produtos que protegem as suas aplicações contra esse tipo de ofensiva.\n",
    "        </li>\n",
    "    </ul>\n",
    " </div>"
   ]
  },
  {
   "cell_type": "markdown",
   "id": "131f1c62-ff67-46ba-86e1-42a0f223e57b",
   "metadata": {},
   "source": [
    "<h3 style='font-size:30px;font-style:italic'> AWS Shield</h3>\n",
    "<div> \n",
    "    <ul style='font-size:20px'> \n",
    "        <li> \n",
    "            Utilizado pelo CloudFront e Route53. Seu serviço padrão previne ataques dirigidos às camdas 3 e 4. \n",
    "        </li>\n",
    "        <li>\n",
    "            Sua versão paga oferece suporte 24/7 e defesa a ataques mais sofisticados. Também evita taxas maiores provenientes dos picos dos DDoS.\n",
    "        </li>\n",
    "    </ul>\n",
    " </div>"
   ]
  },
  {
   "cell_type": "markdown",
   "id": "9d22d538-e16f-47f6-9b0c-db75f15db65a",
   "metadata": {},
   "source": [
    "<h3 style='font-size:30px;font-style:italic'> AWS WAF</h3>\n",
    "<div> \n",
    "    <ul style='font-size:20px'> \n",
    "        <li> \n",
    "            Serviço de camada 7 (HTTP). Nos permite criar uma lista de controle de acesso à nossa aplicação.\n",
    "        </li>\n",
    "        <li>\n",
    "            Essa lista pode mencionar endereços de IP, HTTP Headers e, até mesmo, países.\n",
    "        </li>\n",
    "        <li>\n",
    "            Também podemos definir uma regra para bloquear o acesso de uma máquina, com base na quantidade de requisições já feitas.\n",
    "        </li>\n",
    "    </ul>\n",
    " </div>"
   ]
  },
  {
   "cell_type": "markdown",
   "id": "87e89b89-12b4-4870-9716-b41f48760de0",
   "metadata": {},
   "source": [
    "<h2 style='font-size:30px'>  AWS Network Firewall</h2>\n",
    "<div> \n",
    "    <ul style='font-size:20px'> \n",
    "        <li>\n",
    "            Oferece proteção integral à toda sua VPC (desde camada 3 à 7).\n",
    "        </li>\n",
    "        <li>\n",
    "            Com ele, você poderá monitorar o tráfego entre VPC's (Peer, Direct Connect...) e de sua rede com a internet.\n",
    "        </li>\n",
    "    </ul>\n",
    " </div>"
   ]
  },
  {
   "cell_type": "markdown",
   "id": "9a0f3469-6da1-4ffa-8b1e-0e8dafb9e66d",
   "metadata": {},
   "source": [
    "<h2 style='font-size:30px'>  AWS Firewall Manager</h2>\n",
    "<div> \n",
    "    <ul style='font-size:20px'> \n",
    "        <li>\n",
    "            Possibilita a administração geral das políticas de segurança de todas as contas AWS de sua organização.\n",
    "        </li>\n",
    "        <li>\n",
    "            Com ele, você poderá impor um conjunto de regras que seus Security Groups, WAF's e firewalls deverão seguir.\n",
    "        </li>\n",
    "    </ul>\n",
    " </div>"
   ]
  },
  {
   "cell_type": "markdown",
   "id": "52f4763d-39a6-4fc4-b6a1-e3a4c3c00035",
   "metadata": {
    "jp-MarkdownHeadingCollapsed": true
   },
   "source": [
    "<h2 style='font-size:30px'>  Penetration Testing</h2>\n",
    "<div> \n",
    "    <ul style='font-size:20px'> \n",
    "        <li>\n",
    "             A AWS permite que seus clientes testem a segurança de 8 de seus serviços, sem aviso prévio (EC2, ELB, Lambda).\n",
    "        </li>\n",
    "        <li>\n",
    "            No entanto, desafios de DDoS e outros ataques são expressamente proibidos pela AWS.\n",
    "        </li>\n",
    "    </ul>\n",
    " </div>"
   ]
  },
  {
   "cell_type": "markdown",
   "id": "5a995a3b-414f-42b4-b65c-3d96fc38929d",
   "metadata": {},
   "source": [
    "<h2 style='font-size:30px'> Encryption with KMS & CloudHSM</h2>\n",
    "<div> \n",
    "    <ul style='font-size:20px'> \n",
    "        <li>\n",
    "            A AWS oferece soluções para encriptação de dados sensíveis. Eles podem ser ocultados tanto at rest (quando estão armazenados num servidor), quanto in transit (enquanto estão sendo transferidos de um dispositivo a outro, como ocorre em VPN's).\n",
    "        </li>\n",
    "    </ul>\n",
    " </div>"
   ]
  },
  {
   "cell_type": "markdown",
   "id": "894f474c-bf37-4bd9-a157-cd535bb59d02",
   "metadata": {},
   "source": [
    "<h3 style='font-size:30px;font-style:italic'> AWS KMS</h3>\n",
    "<div> \n",
    "    <ul style='font-size:20px'> \n",
    "        <li> \n",
    "             KMS é o serviço de encriptação de dados da AWS. No caso, a própria Amazon gerencia as chaves de encriptação para nós.\n",
    "        </li>\n",
    "        <li>\n",
    "            Alguns serviços automaticamente encriptam os dados para nós, enquanto que outros o fazem somente sob consentimento do cliente.\n",
    "        </li>\n",
    "    </ul>\n",
    " </div>"
   ]
  },
  {
   "cell_type": "markdown",
   "id": "11885391-2110-49e5-b26d-7dabe6cbabdc",
   "metadata": {},
   "source": [
    "<h3 style='font-size:30px;font-style:italic'> CloudHSM</h3>\n",
    "<div> \n",
    "    <ul style='font-size:20px'> \n",
    "        <li> \n",
    "            É o serviço em que a AWS oferece o próprio hardware de encriptação. Com ele o cliente poderá gerenciar as chaves por si só.\n",
    "        </li>\n",
    "    </ul>\n",
    " </div>"
   ]
  },
  {
   "cell_type": "markdown",
   "id": "c8fafea5-14ed-4ea7-8aeb-04a1090e26cc",
   "metadata": {},
   "source": [
    "<p style='color:red'> Vi aulas 185 e 186; Ver aula 187; DESLIGAR VM'S ao final da aula!!</p>"
   ]
  }
 ],
 "metadata": {
  "kernelspec": {
   "display_name": "Python 3 (ipykernel)",
   "language": "python",
   "name": "python3"
  },
  "language_info": {
   "codemirror_mode": {
    "name": "ipython",
    "version": 3
   },
   "file_extension": ".py",
   "mimetype": "text/x-python",
   "name": "python",
   "nbconvert_exporter": "python",
   "pygments_lexer": "ipython3",
   "version": "3.11.7"
  }
 },
 "nbformat": 4,
 "nbformat_minor": 5
}
