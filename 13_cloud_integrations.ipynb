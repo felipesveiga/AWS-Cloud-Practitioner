{
 "cells": [
  {
   "cell_type": "markdown",
   "id": "0941c9b5-4fe7-40fd-b31b-a4834a5d634b",
   "metadata": {},
   "source": [
    "<h1 style='font-size:40px'> Cloud Integrations</h1>"
   ]
  },
  {
   "cell_type": "markdown",
   "id": "4a65e2ed-323b-4691-9eb0-3776cccb295a",
   "metadata": {},
   "source": [
    "<h2 style='font-size:30px'> Cloud Integrations Overview</h2>\n",
    "<div> \n",
    "    <ul style='font-size:20px'> \n",
    "        <li>   \n",
    "            É muito comum desejarmos integrar os diversos serviços da AWS na montagem de uma aplicação/produto.\n",
    "        </li>\n",
    "        <li>\n",
    "            Existem dois padrões principais de integração, o síncrono ou assíncrono, que aprenderemos a seguir.\n",
    "        </li>\n",
    "    </ul>\n",
    " </div>"
   ]
  },
  {
   "cell_type": "markdown",
   "id": "7a006fa6-d6b4-43a3-90f0-5b6d85285fb8",
   "metadata": {},
   "source": [
    "<h4 style='font-size:30px;font-style:italic;text-decoration:underline'> Integração Síncrona</h4>\n",
    "<div> \n",
    "    <ul style='font-size:20px'> \n",
    "        <li> \n",
    "            É a ligação direta entre serviços. Apesar de ser mais rápida, pode ter problemas, caso haja um pico de requisições.\n",
    "        </li>\n",
    "    </ul>\n",
    " </div>"
   ]
  },
  {
   "cell_type": "markdown",
   "id": "5d170425-1124-4b78-a28d-a9d2a8fb7757",
   "metadata": {},
   "source": [
    "<h4 style='font-size:30px;font-style:italic;text-decoration:underline'> Integração Assíncrona</h4>\n",
    "<div> \n",
    "    <ul style='font-size:20px'> \n",
    "        <li> \n",
    "            Consiste em pôr uma fila entre os serviços, que organizará a distribuição do tráfego ao seu alvo.\n",
    "        </li>\n",
    "    </ul>\n",
    " </div>"
   ]
  },
  {
   "cell_type": "markdown",
   "id": "5e07bc60-847d-4173-9349-381af2e7ced8",
   "metadata": {},
   "source": [
    "<h2 style='font-size:30px'> SQS Overview</h2>\n",
    "<div> \n",
    "    <ul style='font-size:20px'> \n",
    "        <li>   \n",
    "             O Simple Queue Service (SQS) é o serviço de enfileiramento de requisições padrão da AWS. É um produto serveless\n",
    "        </li>\n",
    "        <li>\n",
    "            As requisições podem permanecer na fila de 4 a 14 dias. Uma vez lidas, elas serão apagadas da queue.\n",
    "        </li>\n",
    "        <li>\n",
    "            As queues podem ser do tipo FIFO, se o dev preferir.\n",
    "        </li>\n",
    "    </ul>\n",
    " </div>"
   ]
  },
  {
   "cell_type": "markdown",
   "id": "71445337-1038-4eb5-916d-24d97a9c0161",
   "metadata": {},
   "source": [
    "<h2 style='font-size:30px'> SQS Hands On</h2>\n",
    "<div> \n",
    "    <ul style='font-size:20px'> \n",
    "        <li>   \n",
    "            A montagem de um SQS é extremamente simples. A queue é basicamente uma fila de mensagens de texto que podem ter atributos a serem explorados pela aplicação-alvo.\n",
    "        </li>\n",
    "        <li>\n",
    "            Uma vez criada a mensagem, devemos clicar no botão Poll Messages para extrai-la e poder deletá-la. \n",
    "        </li>\n",
    "    </ul>\n",
    " </div>"
   ]
  },
  {
   "cell_type": "markdown",
   "id": "23a42a46-0759-47bb-aeae-d4cd3030a8ff",
   "metadata": {},
   "source": [
    "<figure>\n",
    "    <center style='margin-top:20px'>\n",
    "        <img src='img/13_sqs_panel.png'>\n",
    "        <figcaption> Exemplo de criação de uma mensagem via SQS</figcaption>\n",
    "    </center>\n",
    "</figure>"
   ]
  },
  {
   "cell_type": "markdown",
   "id": "83ad29d5-9eaa-4cf1-be7a-3e1e72b7fc5e",
   "metadata": {},
   "source": [
    "<h2 style='font-size:30px'> Kinesis Overview</h2>\n",
    "<div> \n",
    "    <ul style='font-size:20px'> \n",
    "        <li>   \n",
    "            O Kinesis é um serviço gerenciado voltado à coleta, processamento e análise de dados em tempo real.\n",
    "        </li>\n",
    "        <li>\n",
    "            Possui um conjunto de sub-serviços, cada qual com sua especialização:\n",
    "                <center style='margin-top:20px'>\n",
    "                    <img src='img/13_kinesis_services.png'>\n",
    "                </center>\n",
    "        </li>\n",
    "    </ul>\n",
    " </div>"
   ]
  },
  {
   "cell_type": "markdown",
   "id": "e065ad8f-d1d0-47ed-bafd-666ffdf25e89",
   "metadata": {},
   "source": [
    "<h2 style='font-size:30px'> SNS Overview</h2>\n",
    "<div> \n",
    "    <ul style='font-size:20px'> \n",
    "        <li>   \n",
    "            O Simple Notification Service (SNS) é um serviço que centraliza o envio de notificações/mensagens de uma aplicação a diversos destinatários.\n",
    "        </li>\n",
    "        <li>\n",
    "            Uma vez recebida a mensagem, o SNS a encaminhará a <strong>todos</strong> os seus alvos (sejam eles Lambda's, servidores HTTP,...). Isso é diferente do SQS, em que os destinatários recebem mensagens diferentes.\n",
    "        </li>\n",
    "    </ul>\n",
    " </div>"
   ]
  },
  {
   "cell_type": "markdown",
   "id": "4f0b96ef-98be-435c-99a5-884e660cd389",
   "metadata": {},
   "source": [
    "<h2 style='font-size:30px'> SNS Hands On</h2>\n",
    "<div> \n",
    "    <ul style='font-size:20px'> \n",
    "        <li>   \n",
    "            A criação de um SNS é extremamente simples. Apenas informe o nome da sua aplicação e cadastre os destinatários.\n",
    "        </li>\n",
    "        <li>\n",
    "            O serviço tem suporte para uma série de tipos de destinatários. \n",
    "            <center style='margin-top:20px'>\n",
    "                <img src='img/13_sns_options.png'>\n",
    "            </center>\n",
    "        </li>\n",
    "        <li style='margin-top:20px'>\n",
    "            Uma vez cadastrado o assinante, ele deverá confirmar a sua inscrição. Para enviar uma notificação, clique em \"Publish message\".\n",
    "        </li>\n",
    "    </ul>\n",
    " </div>"
   ]
  },
  {
   "cell_type": "markdown",
   "id": "f812d414-c83d-4f3e-a61b-0717ade4c762",
   "metadata": {},
   "source": [
    "<figure>\n",
    "    <center style='margin-top:20px'>\n",
    "        <img src='img/13_sns_options.png'>\n",
    "        <figcaption> Exemplo de criação de uma mensagem via SQS</figcaption>\n",
    "    </center>\n",
    "</figure>"
   ]
  },
  {
   "cell_type": "markdown",
   "id": "0a4888ab-ff36-4d23-81c4-de96de53a152",
   "metadata": {},
   "source": [
    "<p style='color:red'> Vi Aula 154; Praticar SNS; DESLIGAR VM'S ao final da aula!!</p>"
   ]
  }
 ],
 "metadata": {
  "kernelspec": {
   "display_name": "Python 3 (ipykernel)",
   "language": "python",
   "name": "python3"
  },
  "language_info": {
   "codemirror_mode": {
    "name": "ipython",
    "version": 3
   },
   "file_extension": ".py",
   "mimetype": "text/x-python",
   "name": "python",
   "nbconvert_exporter": "python",
   "pygments_lexer": "ipython3",
   "version": "3.11.7"
  }
 },
 "nbformat": 4,
 "nbformat_minor": 5
}
