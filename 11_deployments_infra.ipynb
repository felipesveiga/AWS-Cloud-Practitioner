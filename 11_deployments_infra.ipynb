{
 "cells": [
  {
   "cell_type": "markdown",
   "id": "9f450489-1c39-44de-9d11-447e76574a47",
   "metadata": {},
   "source": [
    "<h1 style='font-size:40px'> Deployments & Managing Infrastructure at Scale</h1>"
   ]
  },
  {
   "cell_type": "markdown",
   "id": "e511ea47-fc7e-4239-9087-7f2ad634d3cf",
   "metadata": {},
   "source": [
    "<h2 style='font-size:30px'> CloudFormation Overview</h2>\n",
    "<div> \n",
    "    <ul style='font-size:20px'> \n",
    "        <li> \n",
    "            O CloudFormation é uma maneira declarativa de solicitarmos recursos da AWS (infra as code).\n",
    "        </li>\n",
    "        <li>\n",
    "            Possibilita um controle mais preciso sobre nossas ferramentas. Podemos, por exemplo, solictiar a deleção dos recursos dentro de um intervalo de tempo (21:00-07:00).\n",
    "        </li>\n",
    "        <li>\n",
    "            O CloudFormation gerenciará automaticamente a ordem de criação dos recursos!\n",
    "        </li>\n",
    "    </ul>\n",
    " </div>"
   ]
  },
  {
   "cell_type": "markdown",
   "id": "58c6cfb1-80d1-402b-a17f-947612c649cb",
   "metadata": {},
   "source": [
    "<h2 style='font-size:30px'> CloudFormation Hands On</h2>\n",
    "<div> \n",
    "    <ul style='font-size:20px'> \n",
    "        <li> \n",
    "            Nessa aula, aprendemos a executar um script .yaml na interface do CloudFormation para o provisionamento de instâncias EC2. Acesse o menu do serviço e crie um stack, informando o arquivo a ser usado.\n",
    "        </li>\n",
    "        <li>\n",
    "            Se desejar atualizar o seu .yaml, existe um botão de Update na tela do seu Stack. Nele, você pode inserir um novo arquivo. No caso, o CloudFormation conseguirá distinguir quais recursos ele deverá provisionar, e quais apenas substituir (evitando assim recursos duplicados).\n",
    "        </li>\n",
    "        <li>\n",
    "            A deleção de um stack levará à exclusão de todos os recursos por ele provisionados.\n",
    "        </li>\n",
    "    </ul>\n",
    " </div>"
   ]
  },
  {
   "cell_type": "markdown",
   "id": "62dcf7e2-637e-4a42-9a48-bf73fed82125",
   "metadata": {},
   "source": [
    "<h2 style='font-size:30px'>CDK Overview </h2>\n",
    "<div> \n",
    "    <ul style='font-size:20px'> \n",
    "        <li> \n",
    "            CDK's são libs que permitem criarmos scripts de Infra as Code com uma linguagem de programação.\n",
    "        </li>\n",
    "        <li>\n",
    "            A CLI do CDK converterá o programa em um .yaml, ou .json.\n",
    "        </li>\n",
    "        <li>\n",
    "            Isso visa facilitar a criação de scripts Infra as Code para devs com pouca experiência em CloudFormation ou Terraform.\n",
    "        </li>\n",
    "    </ul>\n",
    " </div>"
   ]
  },
  {
   "cell_type": "markdown",
   "id": "cd871a25-2e8f-4d31-a5b6-35fac6b83a5e",
   "metadata": {},
   "source": [
    "<h2 style='font-size:30px'> Beanstalk Overview </h2>\n",
    "<div> \n",
    "    <ul style='font-size:20px'> \n",
    "        <li> \n",
    "            O Beanstalk é um serviço da AWS voltado a 3-Tier Web-App Applications (ELB, Auto-Scaling de VM's e bases de dados).\n",
    "        </li>\n",
    "        <li>\n",
    "            A ideia do serviço é de que o usuário precise apenas uploadar o código, enquanto o Beanstalk cuida das configurações dos servidores.  \n",
    "        </li>\n",
    "        <li>\n",
    "            Tem suporte para diversas linguagens de programação e uso de Docker.\n",
    "        </li>\n",
    "    </ul>\n",
    " </div>"
   ]
  },
  {
   "cell_type": "markdown",
   "id": "dbcd4d1a-3dbc-4d2d-8bf3-ab13696d8dab",
   "metadata": {},
   "source": [
    "<h3 style='font-size:30px;font-style:italic'> Modelos de Arquitetura</h3>\n",
    "<div> \n",
    "    <ul style='font-size:20px'> \n",
    "        <li> \n",
    "            Instância única.\n",
    "        </li>\n",
    "        <li>\n",
    "            LB + ASG.\n",
    "        </li>\n",
    "        <li>\n",
    "            Apenas ASG.\n",
    "        </li>\n",
    "    </ul>\n",
    " </div>"
   ]
  },
  {
   "cell_type": "markdown",
   "id": "66ef9e4e-cfb1-4e13-9eb2-d69e33b64285",
   "metadata": {},
   "source": [
    "<h3 style='font-size:30px;font-style:italic'> Elastic Beanstalk - Health Monitoring</h3>\n",
    "<div> \n",
    "    <ul style='font-size:20px'> \n",
    "        <li> \n",
    "            O Beanstalk possui agentes próprios que enviam dados sobre a saúde dos seus servidores ao CloudWatch.\n",
    "        </li>\n",
    "    </ul>\n",
    " </div>"
   ]
  },
  {
   "cell_type": "markdown",
   "id": "0268d0a1-2b6f-4406-b588-7dbf04d6a604",
   "metadata": {},
   "source": [
    "<p style='color:red'> Terminei Aula 124 e comecei 125; Aula 125 (2:00);DESLIGAR VM'S ao final da aula!!</p>"
   ]
  }
 ],
 "metadata": {
  "kernelspec": {
   "display_name": "Python 3 (ipykernel)",
   "language": "python",
   "name": "python3"
  },
  "language_info": {
   "codemirror_mode": {
    "name": "ipython",
    "version": 3
   },
   "file_extension": ".py",
   "mimetype": "text/x-python",
   "name": "python",
   "nbconvert_exporter": "python",
   "pygments_lexer": "ipython3",
   "version": "3.11.7"
  }
 },
 "nbformat": 4,
 "nbformat_minor": 5
}
