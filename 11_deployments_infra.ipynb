{
 "cells": [
  {
   "cell_type": "markdown",
   "id": "9f450489-1c39-44de-9d11-447e76574a47",
   "metadata": {},
   "source": [
    "<h1 style='font-size:40px'> Deployments & Managing Infrastructure at Scale</h1>"
   ]
  },
  {
   "cell_type": "markdown",
   "id": "0268d0a1-2b6f-4406-b588-7dbf04d6a604",
   "metadata": {},
   "source": [
    "<p style='color:red'> Fiz o quiz de serveless computing; Aula 121; DESLIGAR VM'S ao final da aula!!</p>"
   ]
  }
 ],
 "metadata": {
  "kernelspec": {
   "display_name": "Python 3 (ipykernel)",
   "language": "python",
   "name": "python3"
  },
  "language_info": {
   "codemirror_mode": {
    "name": "ipython",
    "version": 3
   },
   "file_extension": ".py",
   "mimetype": "text/x-python",
   "name": "python",
   "nbconvert_exporter": "python",
   "pygments_lexer": "ipython3",
   "version": "3.11.7"
  }
 },
 "nbformat": 4,
 "nbformat_minor": 5
}
