{
 "cells": [
  {
   "cell_type": "markdown",
   "id": "9f450489-1c39-44de-9d11-447e76574a47",
   "metadata": {},
   "source": [
    "<h1 style='font-size:40px'> Deployments & Managing Infrastructure at Scale</h1>"
   ]
  },
  {
   "cell_type": "markdown",
   "id": "e511ea47-fc7e-4239-9087-7f2ad634d3cf",
   "metadata": {},
   "source": [
    "<h2 style='font-size:30px'> CloudFormation Overview</h2>\n",
    "<div> \n",
    "    <ul style='font-size:20px'> \n",
    "        <li> \n",
    "            O CloudFormation é uma maneira declarativa de solicitarmos recursos da AWS (infra as code).\n",
    "        </li>\n",
    "        <li>\n",
    "            Possibilita um controle mais preciso sobre nossas ferramentas. Podemos, por exemplo, solictiar a deleção dos recursos dentro de um intervalo de tempo (21:00-07:00).\n",
    "        </li>\n",
    "        <li>\n",
    "            O CloudFormation gerenciará automaticamente a ordem de criação dos recursos!\n",
    "        </li>\n",
    "    </ul>\n",
    " </div>"
   ]
  },
  {
   "cell_type": "markdown",
   "id": "58c6cfb1-80d1-402b-a17f-947612c649cb",
   "metadata": {},
   "source": [
    "<h2 style='font-size:30px'> CloudFormation Hands On</h2>\n",
    "<div> \n",
    "    <ul style='font-size:20px'> \n",
    "        <li> \n",
    "            Nessa aula, aprendemos a executar um script .yaml na interface do CloudFormation para o provisionamento de instâncias EC2. Acesse o menu do serviço e crie um stack, informando o arquivo a ser usado.\n",
    "        </li>\n",
    "        <li>\n",
    "            Se desejar atuaizar o seu .yaml, existe um botão de Update na tela do seu Stack. Nele, você pode inserir um novo arquivo. No caso, o CloudFormation conseguirá distinguir quais recursos ele deverá provisionar, e quais apenas substituir (evitando assim recursos duplicados).\n",
    "        </li>\n",
    "        <li>\n",
    "            A deleção de um stack levará à exclusão de todos os recursos por ele provisionados.\n",
    "        </li>\n",
    "    </ul>\n",
    " </div>"
   ]
  },
  {
   "cell_type": "markdown",
   "id": "0268d0a1-2b6f-4406-b588-7dbf04d6a604",
   "metadata": {},
   "source": [
    "<p style='color:red'> Praticar CloudFormation; DESLIGAR VM'S ao final da aula!!</p>"
   ]
  },
  {
   "cell_type": "code",
   "execution_count": null,
   "id": "526bf6ba-d269-49fd-85cc-53322d7bb01c",
   "metadata": {},
   "outputs": [],
   "source": []
  }
 ],
 "metadata": {
  "kernelspec": {
   "display_name": "Python 3 (ipykernel)",
   "language": "python",
   "name": "python3"
  },
  "language_info": {
   "codemirror_mode": {
    "name": "ipython",
    "version": 3
   },
   "file_extension": ".py",
   "mimetype": "text/x-python",
   "name": "python",
   "nbconvert_exporter": "python",
   "pygments_lexer": "ipython3",
   "version": "3.11.7"
  }
 },
 "nbformat": 4,
 "nbformat_minor": 5
}
