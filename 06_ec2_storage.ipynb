{
 "cells": [
  {
   "cell_type": "markdown",
   "id": "071d9e61-28ef-4418-8abc-4b19c7cbc575",
   "metadata": {},
   "source": [
    "<h1 style='font-size:40px'>EC2 Instance Storage</h1>"
   ]
  },
  {
   "cell_type": "markdown",
   "id": "f51de84a-a45a-4a4c-a55c-10afb19160f6",
   "metadata": {
    "tags": []
   },
   "source": [
    "<h2 style='font-size:30px'> EBS Overview</h2>\n",
    "<div> \n",
    "    <ul style='font-size:20px'> \n",
    "        <li> \n",
    "            V\n",
    "        </li>\n",
    "    </ul>\n",
    "</div>"
   ]
  },
  {
   "cell_type": "markdown",
   "id": "75203a06-c0ed-4ff1-ab5b-fc4b18aaf3b7",
   "metadata": {},
   "source": [
    "<p style='color:red'> Aula 49</p>"
   ]
  }
 ],
 "metadata": {
  "kernelspec": {
   "display_name": "Python 3 (ipykernel)",
   "language": "python",
   "name": "python3"
  },
  "language_info": {
   "codemirror_mode": {
    "name": "ipython",
    "version": 3
   },
   "file_extension": ".py",
   "mimetype": "text/x-python",
   "name": "python",
   "nbconvert_exporter": "python",
   "pygments_lexer": "ipython3",
   "version": "3.8.10"
  }
 },
 "nbformat": 4,
 "nbformat_minor": 5
}
