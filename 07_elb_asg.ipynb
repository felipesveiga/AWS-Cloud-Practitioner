{
 "cells": [
  {
   "cell_type": "markdown",
   "id": "2a29e53a-f219-4670-aa6c-d69eb53c9274",
   "metadata": {},
   "source": [
    "<h1 style='font-size:40px'> ELB & ASG - Elastic Load Balancing & Auto Scaling Groups</h1>"
   ]
  },
  {
   "cell_type": "markdown",
   "id": "3aafa501-b510-402b-a2dd-5c13416a9c0d",
   "metadata": {
    "tags": []
   },
   "source": [
    "<h2 style='font-size:30px'> High Availability, Scalability, Elasticity</h2>\n",
    "<div> \n",
    "    <ul style='font-size:20px'> \n",
    "        <li> \n",
    "            Aprenderemos aqui o significado de alguns dos jargões de Cloud Computing. \n",
    "        </li>\n",
    "    </ul>\n",
    "</div>"
   ]
  },
  {
   "cell_type": "markdown",
   "id": "df665ef7-5632-4640-a4b3-453aba1470c9",
   "metadata": {},
   "source": [
    "<h3 style='font-size:30px;font-style:italic'> Escalabilidade</h3>\n",
    "<div> \n",
    "    <ul style='font-size:20px'> \n",
    "        <li> \n",
    "            Consiste na capacidade de um sistema de se adaptar a maiores volumes de trabalho.\n",
    "        </li>\n",
    "    </ul>\n",
    "</div>"
   ]
  },
  {
   "cell_type": "markdown",
   "id": "3d5866f3-1124-4df0-a97c-0c7c75807795",
   "metadata": {},
   "source": [
    "<h4 style='font-size:30px;font-style:italic;text-decoration:underline'> Escalabilidade Vertical</h4>\n",
    "<div> \n",
    "    <ul style='font-size:20px'> \n",
    "        <li> \n",
    "            Aumento da capacidade de processamento com a expansão da própria instância.\n",
    "        </li>\n",
    "        <li> \n",
    "            Ideal para sistemas não distribuídos, como bases de dados.\n",
    "        </li>\n",
    "    </ul>\n",
    "</div>"
   ]
  },
  {
   "cell_type": "markdown",
   "id": "05eff110-18cf-4ee7-8a30-833abff2f245",
   "metadata": {},
   "source": [
    "<h4 style='font-size:30px;font-style:italic;text-decoration:underline'> Escalabilidade Horizontal</h4>\n",
    "<div> \n",
    "    <ul style='font-size:20px'> \n",
    "        <li> \n",
    "            Aumento da capacidade de processamento com o provisionamento de novas instâncias.\n",
    "        </li>\n",
    "        <li> \n",
    "            Recomendado quando usamos sistemas distribuídos, como aplicações web e ML.\n",
    "        </li>\n",
    "    </ul>\n",
    "</div>"
   ]
  },
  {
   "cell_type": "markdown",
   "id": "d0dae0fa-ecbd-4930-b8c1-18a109fadd07",
   "metadata": {},
   "source": [
    "<h3 style='font-size:30px;font-style:italic'> High Availability</h3>\n",
    "<div> \n",
    "    <ul style='font-size:20px'> \n",
    "        <li> \n",
    "            Criar uma aplicação altamente disponível significa disponibilizá-la em vários locais concomitantemente.\n",
    "        </li>\n",
    "        <li> \n",
    "            Dessa maneira, havendo um problema em uma das zonas, o sistema ainda estará disponível nos servidores da outra.\n",
    "        </li>\n",
    "    </ul>\n",
    "</div>"
   ]
  },
  {
   "cell_type": "markdown",
   "id": "86bef508-2703-49ed-b886-2ca843079079",
   "metadata": {},
   "source": [
    "<h3 style='font-size:30px;font-style:italic'> Scalability x Elasticity x Agility</h3>\n",
    "<div> \n",
    "    <ul style='font-size:20px'> \n",
    "        <li> \n",
    "            O exame espera que o candidato saiba distinguir os conceitos de Escalabilidade, Elasticidade e Agilidade em Cloud Computing\n",
    "            <ul> \n",
    "                <li>\n",
    "                    <i> Escalabilidade:</i> Capacidade do sistema de se adaptar a maiores cargas de processamento, seja fortalecendo o hardware (scale up), ou acrescentando nós (scale out).\n",
    "                </li>\n",
    "                <li>\n",
    "                    <i> Elasticidade:</i> Um sistema elástico é aquele que gerencia a sua escalabilidade automaticamente.\n",
    "                </li>\n",
    "                <li>\n",
    "                    <i> Agilidade:</i> Habilidade de tornar recursos de TI facilmente acessíveis. Por exemplo, o EC2 pode ser considerado um serviço ágil, porque consegue providenciar VM's de qualquer sorte em um curto período de tempo.\n",
    "                </li>\n",
    "            </ul>\n",
    "        </li>\n",
    "    </ul>\n",
    "</div>"
   ]
  },
  {
   "cell_type": "markdown",
   "id": "aaff789d-bb68-4ea2-9cf3-da578d3ed9ba",
   "metadata": {},
   "source": [
    "<h2 style='font-size:30px'> Elastic Load Balancing (ELB) Overview</h2>\n",
    "<div> \n",
    "    <ul style='font-size:20px'> \n",
    "        <li> \n",
    "            Os Elastic Load Balancers são servidores que gerenciam o direcionamento de carga às instâncias da sua aplicação. \n",
    "        </li>\n",
    "        <li> \n",
    "            Eles conseguem manter a nossa aplicação disponível aos usuários finais, mesmo quando desejarmos interromper alguma VM para manutenção.\n",
    "        </li>\n",
    "        <li> \n",
    "            Oferecem terminação SSL para os seus websites.\n",
    "        </li>\n",
    "    </ul>\n",
    "</div>"
   ]
  },
  {
   "cell_type": "markdown",
   "id": "2a4f6956-ebfb-4d13-b3e9-6b186b720283",
   "metadata": {},
   "source": [
    "<h3 style='font-size:30px;font-style:italic'> Vantagens</h3>\n",
    "<div> \n",
    "    <ul style='font-size:20px'> \n",
    "        <li> \n",
    "            Apesar de você poder criar um Load Balancer com uma VM, a manutenção dos ELB's é de inteira responsabilidade da AWS. \n",
    "        </li>\n",
    "        <li> \n",
    "            Os ELB's são bastante fáceis de serem configurados.\n",
    "        </li>\n",
    "    </ul>\n",
    "</div>"
   ]
  },
  {
   "cell_type": "markdown",
   "id": "bf499fa1-e736-49e7-b1b9-141bff6d8c04",
   "metadata": {},
   "source": [
    "<h3 style='font-size:30px;font-style:italic'> Tipos de ELB'</h3>\n",
    "<div> \n",
    "    <ul style='font-size:20px'> \n",
    "        <li> \n",
    "            <i> Application Load Balancer:</i> Voltado a protocolos de camada 7 (HTTP, HTTPS, gRPC). Providencia uma URL estática.\n",
    "        </li>\n",
    "        <li> \n",
    "            <i> Network Load Balancer:</i> Voltado a protocolos de camada 4 (TCP, UDP). Providencia um IP estático. Consegue lidar com milhões de requisições por segundo.\n",
    "        </li>\n",
    "        <li> \n",
    "            <i> Gateway Load Balancer:</i> Direciona o tráfego a instâncias que rodam softwares de monitoramento e firewalls. Com ele, conseguimos inspecionar packets ou impedir acessos suspeitos às nossas VM's. Suporte a protocolos de camada 3 (GENEVE).\n",
    "        </li>\n",
    "    </ul>\n",
    "</div>"
   ]
  },
  {
   "cell_type": "markdown",
   "id": "65749862-b2ff-40af-8a2a-90bcee494eb4",
   "metadata": {},
   "source": [
    "<h2 style='font-size:30px'> Application Load Balancer (ALB) Hands On</h2>\n",
    "<div> \n",
    "    <ul style='font-size:20px'> \n",
    "        <li> \n",
    "            As instâncias que quisermos utilizar como alvos de nosso Load Balancer deverão ser alocadas a um Target Group. É com ele que nosso servidor saberá a quais VM's ele deverá direcionar o tráfego. \n",
    "        </li>\n",
    "        <li> \n",
    "            O ALB é capaz de saber quais VM's estão incapazes de receber sinais (por estarem desligadas, por exemplo). Com isso, ele apenas encaminha requisições a instâncias consideradas \"saudáveis\".\n",
    "        </li>\n",
    "    </ul>\n",
    "</div>"
   ]
  },
  {
   "cell_type": "markdown",
   "id": "6296d3a5-204b-4198-a062-b7ad8f4181b9",
   "metadata": {},
   "source": [
    "<p style='color:red'> Aula 66</p>"
   ]
  }
 ],
 "metadata": {
  "kernelspec": {
   "display_name": "Python 3 (ipykernel)",
   "language": "python",
   "name": "python3"
  },
  "language_info": {
   "codemirror_mode": {
    "name": "ipython",
    "version": 3
   },
   "file_extension": ".py",
   "mimetype": "text/x-python",
   "name": "python",
   "nbconvert_exporter": "python",
   "pygments_lexer": "ipython3",
   "version": "3.12.0"
  }
 },
 "nbformat": 4,
 "nbformat_minor": 5
}
