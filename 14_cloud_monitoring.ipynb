{
 "cells": [
  {
   "cell_type": "markdown",
   "id": "202f84d7-2223-403e-ad98-52fcfafcc5bc",
   "metadata": {},
   "source": [
    "<h1 style='font-size:40px'> Cloud Monitoring</h1>"
   ]
  },
  {
   "cell_type": "markdown",
   "id": "25de2204-1f7d-4966-a005-6c53b57bb4c8",
   "metadata": {},
   "source": [
    "<h2 style='font-size:30px'> CloudWatch Metrics & CloudWatch Alarms Overview</h2>\n",
    "<div> \n",
    "    <ul style='font-size:20px'> \n",
    "        <li>   \n",
    "            O CloudWatch é um serviço de acompanhamento de métricas de uso de todos os serviços da AWS. Ele é dividido no CloudWatch Metrics e e CloudWatch Alarms.\n",
    "        </li>\n",
    "    </ul>\n",
    " </div>"
   ]
  },
  {
   "cell_type": "markdown",
   "id": "63b9dd47-6bc9-4aac-8f49-a76d2a7d1994",
   "metadata": {},
   "source": [
    "<h3 style='font-size:30px;font-style:italic'> CloudWatch Metrics</h3>\n",
    "<div> \n",
    "    <ul style='font-size:20px'> \n",
    "        <li> \n",
    "            Disponibiliza dashboards sobre usabilidade de todas as suas aplicações (consumo de CPU, número de requisições...)\n",
    "        </li>\n",
    "    </ul>\n",
    " </div>"
   ]
  },
  {
   "cell_type": "markdown",
   "id": "b01b6e31-d82c-4134-9ca7-a20121dec7d5",
   "metadata": {},
   "source": [
    "<h3 style='font-size:30px;font-style:italic'> CloudWatch Alarms</h3>\n",
    "<div> \n",
    "    <ul style='font-size:20px'> \n",
    "        <li> \n",
    "            Encaminha notificações de consumo das suas aplicações. Consegue inclusive executar certas ações em face de eventos (reiniciar uma VM devido a alguma falha).\n",
    "        </li>\n",
    "        <li>\n",
    "            Também é capaz de encaminhar alarmes de custos.\n",
    "        </li>\n",
    "    </ul>\n",
    " </div>"
   ]
  },
  {
   "cell_type": "markdown",
   "id": "8325eae2-672e-4761-8c3e-2d91b575ec03",
   "metadata": {},
   "source": [
    "<h2 style='font-size:30px'> CloudWatch Metrics & CloudWatch Alarms Hands On</h2>\n",
    "<div> \n",
    "    <ul style='font-size:20px'> \n",
    "        <li>   \n",
    "            Para criar um alarme próprio, entre no CloudWatch e clique em \"All Alarms\". No menu que se abrir, você poderá criar um novo alarme para a sua aplicação.\n",
    "        </li>\n",
    "        <li>\n",
    "            Escolha a métrica a ser utilizada e seu respectivo threshold. O seu alarme será depositado em um SNS cujos dados você deverá preencher no formulário.\n",
    "        </li>\n",
    "        <li>\n",
    "            Para VM's, você pode criar alarmes para elas diretamente via console EC2. O instrutor demonstra também que os alarmes de billing estão disponíveis apenas na us-east-1.\n",
    "        </li>\n",
    "    </ul>\n",
    " </div>"
   ]
  },
  {
   "cell_type": "markdown",
   "id": "f30fe8d7-f086-46a3-83e9-8d73ca36d5f2",
   "metadata": {},
   "source": [
    "<p style='color:red'> Vi Aula 158; Aula 159; DESLIGAR VM'S ao final da aula!!</p>"
   ]
  }
 ],
 "metadata": {
  "kernelspec": {
   "display_name": "Python 3 (ipykernel)",
   "language": "python",
   "name": "python3"
  },
  "language_info": {
   "codemirror_mode": {
    "name": "ipython",
    "version": 3
   },
   "file_extension": ".py",
   "mimetype": "text/x-python",
   "name": "python",
   "nbconvert_exporter": "python",
   "pygments_lexer": "ipython3",
   "version": "3.11.7"
  }
 },
 "nbformat": 4,
 "nbformat_minor": 5
}
