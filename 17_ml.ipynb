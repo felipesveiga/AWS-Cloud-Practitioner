{
 "cells": [
  {
   "cell_type": "markdown",
   "id": "bb50ca86-dec4-4ae1-8296-52093ab71298",
   "metadata": {},
   "source": [
    "<h1 style='font-size:40px'> Machine Learning</h1>"
   ]
  },
  {
   "cell_type": "markdown",
   "id": "f64ae733-88b0-4022-b811-50f3c2185f0e",
   "metadata": {
    "jp-MarkdownHeadingCollapsed": true
   },
   "source": [
    "<h2 style='font-size:30px'> Rekognition</h2>\n",
    "<div> \n",
    "    <ul style='font-size:20px'> \n",
    "        <li>\n",
    "             Rekognition é o serviço de detecção de entidades com modelos de Computer Vision.\n",
    "        </li>\n",
    "    </ul>\n",
    " </div>"
   ]
  },
  {
   "cell_type": "markdown",
   "id": "9305cea6-db01-4c4e-aaac-8fdf9439a82e",
   "metadata": {},
   "source": [
    "<h2 style='font-size:30px'> Transcribe Overview</h2>\n",
    "<div> \n",
    "    <ul style='font-size:20px'> \n",
    "        <li>\n",
    "             Serviço de transcrição de áudios, por meio de Automatic Speech Recognition (ASR).\n",
    "        </li>\n",
    "        <li>\n",
    "            Capaz de remover qualquer Personal Identifiable Information (PII) da transcrição.\n",
    "        </li>\n",
    "        <li>\n",
    "            Capaz de fazer a transcrição de múltiplas línguas, simultaneamente.\n",
    "        </li>\n",
    "    </ul>\n",
    " </div>"
   ]
  },
  {
   "cell_type": "markdown",
   "id": "1d42baf3-c38d-4a10-9bd7-6be982830942",
   "metadata": {},
   "source": [
    "<h2 style='font-size:30px'> Polly Overview</h2>\n",
    "<div> \n",
    "    <ul style='font-size:20px'> \n",
    "        <li>\n",
    "            Modelo text-to-audio capaz de reproduzir vozes humanas pronunciando a sentença informada.\n",
    "        </li>\n",
    "    </ul>\n",
    " </div>"
   ]
  },
  {
   "cell_type": "markdown",
   "id": "a0fed18b-86fa-4daa-8e85-02d6fa6d5651",
   "metadata": {},
   "source": [
    "<h2 style='font-size:30px'> Translate Overview</h2>\n",
    "<div> \n",
    "    <ul style='font-size:20px'> \n",
    "        <li>\n",
    "            Serviço de tradução de idiomas via NMT.\n",
    "        </li>\n",
    "    </ul>\n",
    " </div>"
   ]
  },
  {
   "cell_type": "markdown",
   "id": "b7d2d8c2-38e9-4e5c-9040-a2c1e099f7b7",
   "metadata": {},
   "source": [
    "<h2 style='font-size:30px'> Lex & Connect Overview</h2>"
   ]
  },
  {
   "cell_type": "markdown",
   "id": "ae5d0b65-d942-4038-ad49-62a4783c5178",
   "metadata": {},
   "source": [
    "<h3 style='font-size:30px;font-style:italic'> Amazon Lex</h3>\n",
    "<div> \n",
    "    <ul style='font-size:20px'> \n",
    "        <li> \n",
    "            Servico de Automatic Speech Recognition (ASR) da Amazon. É tambem utilizado na Alexa.\n",
    "        </li>\n",
    "        <li>\n",
    "            Pode ser utilizado na montagem de Chat Bots.\n",
    "        </li>\n",
    "    </ul>\n",
    " </div>"
   ]
  },
  {
   "cell_type": "markdown",
   "id": "3746d49c-5f5f-44eb-bc5e-e9ef8be6f2f8",
   "metadata": {},
   "source": [
    "<h3 style='font-size:30px;font-style:italic'> Amazon Connect</h3>\n",
    "<div> \n",
    "    <ul style='font-size:20px'> \n",
    "        <li> \n",
    "            Servico de recebimento de chamadas telefonicas e criacao de fluxos de contato.\n",
    "        </li>\n",
    "        <li>\n",
    "            Facil integracao com sistemas de CRM, e outros servicos da AWS.\n",
    "        </li>\n",
    "    </ul>\n",
    " </div>"
   ]
  },
  {
   "cell_type": "markdown",
   "id": "f52303d3-e914-477a-a83b-5458015b8243",
   "metadata": {},
   "source": [
    "<h2 style='font-size:30px'> Comprehend Overview</h2>\n",
    "<div> \n",
    "    <ul style='font-size:20px'> \n",
    "        <li> \n",
    "            Serviço de NLP com múltiplas funcionalidades.\n",
    "        </li>\n",
    "        <li>\n",
    "            Capaz de executar diferentes atividades, como agrupamento de documentos por tópico, análise de sentimentos, e tokenização e POS tagging.\n",
    "        </li>\n",
    "    </ul>\n",
    " </div>"
   ]
  },
  {
   "cell_type": "markdown",
   "id": "c9c77d5b-2651-4764-a36b-3d536b4c629f",
   "metadata": {},
   "source": [
    "<h2 style='font-size:30px'> SageMaker Overview</h2>\n",
    "<div> \n",
    "    <ul style='font-size:20px'> \n",
    "        <li> \n",
    "            Serviço totalmente gerenciado para a criação de modelos de ML.\n",
    "        </li>\n",
    "    </ul>\n",
    " </div>"
   ]
  },
  {
   "cell_type": "markdown",
   "id": "f3bd2701-7885-45df-8828-50c22688faeb",
   "metadata": {},
   "source": [
    "<h2 style='font-size:30px'> Forecast Overview</h2>\n",
    "<div> \n",
    "    <ul style='font-size:20px'> \n",
    "        <li> \n",
    "            Serviço de montagem de modelos voltados à previsão de séries temporais.\n",
    "        </li>\n",
    "        <li>\n",
    "            O cliente deverá depositar os dados a serem usados pelo modelo (treinamento, deploy) no S3.\n",
    "        </li>\n",
    "    </ul>\n",
    " </div>"
   ]
  },
  {
   "cell_type": "markdown",
   "id": "4765be5d-c804-4069-b95f-d5262bb130b2",
   "metadata": {},
   "source": [
    "<h2 style='font-size:30px'> Kendra Overview</h2>\n",
    "<div> \n",
    "    <ul style='font-size:20px'> \n",
    "        <li> \n",
    "            Serviço de pesquisa de documentos capaz de responder perguntas do usuário, com base em arquivos disponíveis.\n",
    "        </li>\n",
    "    </ul>\n",
    " </div>"
   ]
  },
  {
   "cell_type": "markdown",
   "id": "be4c72e2-305c-453e-8b4f-0c89cbe8e60e",
   "metadata": {
    "jp-MarkdownHeadingCollapsed": true
   },
   "source": [
    "<h2 style='font-size:30px'> Personalize Overview</h2>\n",
    "<div> \n",
    "    <ul style='font-size:20px'> \n",
    "        <li> \n",
    "            Sistema totalmente gerenciado de ML voltado à geração de recomendações.\n",
    "        </li>\n",
    "        <li>\n",
    "            Pode ser facilmente integrado a sites, aplicativos e serviļcos de SMS.\n",
    "        </li>\n",
    "    </ul>\n",
    " </div>"
   ]
  },
  {
   "cell_type": "markdown",
   "id": "503b151c-618d-4c6b-b3af-18f1d4ad2933",
   "metadata": {},
   "source": [
    "<h2 style='font-size:30px'> Textract Overview</h2>\n",
    "<div> \n",
    "    <ul style='font-size:20px'> \n",
    "        <li> \n",
    "            Serviço de extração de textos a partir de documentos escaneados (.png, .pdf).\n",
    "        </li>\n",
    "        <li>\n",
    "            Capaz de coletar textos a partir de tabelas e formulários, também.\n",
    "        </li>\n",
    "    </ul>\n",
    " </div>"
   ]
  }
 ],
 "metadata": {
  "kernelspec": {
   "display_name": "Python 3 (ipykernel)",
   "language": "python",
   "name": "python3"
  },
  "language_info": {
   "codemirror_mode": {
    "name": "ipython",
    "version": 3
   },
   "file_extension": ".py",
   "mimetype": "text/x-python",
   "name": "python",
   "nbconvert_exporter": "python",
   "pygments_lexer": "ipython3",
   "version": "3.12.3"
  }
 },
 "nbformat": 4,
 "nbformat_minor": 5
}
