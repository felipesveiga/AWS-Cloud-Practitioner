{
 "cells": [
  {
   "cell_type": "markdown",
   "id": "bb50ca86-dec4-4ae1-8296-52093ab71298",
   "metadata": {},
   "source": [
    "<h1 style='font-size:40px'> Machine Learning</h1>"
   ]
  },
  {
   "cell_type": "markdown",
   "id": "f64ae733-88b0-4022-b811-50f3c2185f0e",
   "metadata": {
    "jp-MarkdownHeadingCollapsed": true
   },
   "source": [
    "<h2 style='font-size:30px'> Rekognition</h2>\n",
    "<div> \n",
    "    <ul style='font-size:20px'> \n",
    "        <li>\n",
    "             Rekognition é o serviço de detecção de entidades com modelos de Computer Vision.\n",
    "        </li>\n",
    "    </ul>\n",
    " </div>"
   ]
  },
  {
   "cell_type": "markdown",
   "id": "9305cea6-db01-4c4e-aaac-8fdf9439a82e",
   "metadata": {},
   "source": [
    "<h2 style='font-size:30px'> Transcribe Overview</h2>\n",
    "<div> \n",
    "    <ul style='font-size:20px'> \n",
    "        <li>\n",
    "             Serviço de transcrição de áudios, por meio de Automatic Speech Recognition (ASR).\n",
    "        </li>\n",
    "        <li>\n",
    "            Capaz de remover qualquer Personal Identifiable Information (PII) da transcrição.\n",
    "        </li>\n",
    "        <li>\n",
    "            Capaz de fazer a transcrição de múltiplas línguas, simultaneamente.\n",
    "        </li>\n",
    "    </ul>\n",
    " </div>"
   ]
  },
  {
   "cell_type": "markdown",
   "id": "1d42baf3-c38d-4a10-9bd7-6be982830942",
   "metadata": {},
   "source": [
    "<h2 style='font-size:30px'> Polly Overview</h2>\n",
    "<div> \n",
    "    <ul style='font-size:20px'> \n",
    "        <li>\n",
    "            Modelo text-to-audio capaz de reproduzir vozes humanas pronunciando a sentenca informada.\n",
    "        </li>\n",
    "    </ul>\n",
    " </div>"
   ]
  },
  {
   "cell_type": "markdown",
   "id": "a0fed18b-86fa-4daa-8e85-02d6fa6d5651",
   "metadata": {},
   "source": [
    "<h2 style='font-size:30px'> Translate Overview</h2>\n",
    "<div> \n",
    "    <ul style='font-size:20px'> \n",
    "        <li>\n",
    "            Servico de traducao de idiomas via NMT.\n",
    "        </li>\n",
    "    </ul>\n",
    " </div>"
   ]
  },
  {
   "cell_type": "markdown",
   "id": "b7d2d8c2-38e9-4e5c-9040-a2c1e099f7b7",
   "metadata": {},
   "source": [
    "<h2 style='font-size:30px'> Lex & Connect Overview</h2>"
   ]
  },
  {
   "cell_type": "markdown",
   "id": "ae5d0b65-d942-4038-ad49-62a4783c5178",
   "metadata": {},
   "source": [
    "<h3 style='font-size:30px;font-style:italic'> Amazon Lex</h3>\n",
    "<div> \n",
    "    <ul style='font-size:20px'> \n",
    "        <li> \n",
    "            Servico de Automatic Speech Recognition (ASR) da Amazon. E tambem utilizado na Alexa.\n",
    "        </li>\n",
    "        <li>\n",
    "            Pode ser utilizado na montagem de Chat Bots.\n",
    "        </li>\n",
    "    </ul>\n",
    " </div>"
   ]
  },
  {
   "cell_type": "markdown",
   "id": "3746d49c-5f5f-44eb-bc5e-e9ef8be6f2f8",
   "metadata": {},
   "source": [
    "<h3 style='font-size:30px;font-style:italic'> Amazon Connect</h3>\n",
    "<div> \n",
    "    <ul style='font-size:20px'> \n",
    "        <li> \n",
    "            Servico de recebimento de chamadas telefonicas e criacao de fluxos de contato.\n",
    "        </li>\n",
    "        <li>\n",
    "            Facil integracao com sistemas de CRM, e outros servicos da AWS.\n",
    "        </li>\n",
    "    </ul>\n",
    " </div>"
   ]
  },
  {
   "cell_type": "markdown",
   "id": "589a81f7-b2fe-4626-865d-6755f9dbb8c0",
   "metadata": {},
   "source": [
    "<p style='color:red'> Vi aulas 203 a 205; Aula 206; DESLIGAR VM'S ao final da aula!!</p>"
   ]
  }
 ],
 "metadata": {
  "kernelspec": {
   "display_name": "Python 3 (ipykernel)",
   "language": "python",
   "name": "python3"
  },
  "language_info": {
   "codemirror_mode": {
    "name": "ipython",
    "version": 3
   },
   "file_extension": ".py",
   "mimetype": "text/x-python",
   "name": "python",
   "nbconvert_exporter": "python",
   "pygments_lexer": "ipython3",
   "version": "3.12.3"
  }
 },
 "nbformat": 4,
 "nbformat_minor": 5
}
