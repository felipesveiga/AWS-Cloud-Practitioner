{
 "cells": [
  {
   "cell_type": "markdown",
   "id": "694e1a17-6fa2-475a-bdca-76f6477ce2fa",
   "metadata": {},
   "source": [
    "<h1 style='font-size:40px'> Databases & Analytics</h1>"
   ]
  },
  {
   "cell_type": "markdown",
   "id": "e2b33cfe-1baa-45fc-98a6-7e3dd23cad84",
   "metadata": {},
   "source": [
    "<h2 style='font-size:30px'> Databases Introduction</h2>\n",
    "<div> \n",
    "    <ul style='font-size:20px'> \n",
    "        <li> \n",
    "            As empresas podem não se contentar em armazenar os seus dados em sistemas de gerenciamento de arquivos, preferindo recorrer a base de dados em determinados casos.\n",
    "        </li>\n",
    "        <li>\n",
    "            A AWS oferece uma série de serviços voltados a diferentes tipos de bases de dados.\n",
    "        </li>\n",
    "    </ul>\n",
    " </div>"
   ]
  },
  {
   "cell_type": "markdown",
   "id": "a6c2c231-6f14-46fa-834d-a88bcf70881d",
   "metadata": {},
   "source": [
    "<h3 style='font-size:30px;font-style:italic'> Benefícios das Bases de Dados AWS</h3>\n",
    "<div> \n",
    "    <ul style='font-size:20px'> \n",
    "        <li> \n",
    "            Provisionamento rápido, com recursos prontos para escalabilidade.\n",
    "        </li>\n",
    "        <li>\n",
    "            Backups e restores automatizados. Atualizações de OS lidados pela AWS.\n",
    "        </li>\n",
    "        <li>\n",
    "            Recursos de monitoramento e alerta.\n",
    "        </li>\n",
    "    </ul>\n",
    "</div>"
   ]
  },
  {
   "cell_type": "markdown",
   "id": "82e48872-38b3-4826-bf71-3a023a2f3247",
   "metadata": {},
   "source": [
    "<h2 style='font-size:30px'> RDS & Aurora Overview</h2>\n",
    "<div> \n",
    "    <ul style='font-size:20px'> \n",
    "        <li> \n",
    "            RDS é o serviço de gerenciamento de bases de dados relacionais da AWS.\n",
    "        </li>\n",
    "        <li>\n",
    "            Suporta todos os principais bancos de dados do mercado (SQL Server, Oracle, MySQL).\n",
    "        </li>\n",
    "    </ul>\n",
    " </div>"
   ]
  },
  {
   "cell_type": "markdown",
   "id": "bee33d9a-439d-4e1c-b429-ef650da507eb",
   "metadata": {},
   "source": [
    "<h3 style='font-size:30px;font-style:italic'> Vantagens do RDS</h3>\n",
    "<div> \n",
    "    <ul style='font-size:20px'> \n",
    "        <li> \n",
    "            Além de todos os benefícios já mencionados, vale dizer que o RDS suporta a replicação de suas bases de dados em múltiplas AZ's (Disaster Recovery), além da criação de backups com EBS Volumes.\n",
    "        </li>\n",
    "        <li>\n",
    "            No entanto, você não pode acessar os servidores do RDS via SSH...\n",
    "        </li>\n",
    "    </ul>\n",
    "</div>"
   ]
  },
  {
   "cell_type": "markdown",
   "id": "c30ce97b-2736-467a-b843-ce5c15368f88",
   "metadata": {},
   "source": [
    "<h3 style='font-size:30px;font-style:italic'> RDS Solution Architecture</h3>\n",
    "<div> \n",
    "    <ul style='font-size:20px'> \n",
    "        <li> \n",
    "            As bases de dados vão estar hospedadas em várias instâncias EC2. Elas estarão por trás de um ELB, que gerenciará o direcionamento do tráfego.\n",
    "            <center style='margin-top:20px'> \n",
    "                <img src='img/09_rds_architecture.png'>\n",
    "            </center>\n",
    "        </li>\n",
    "    </ul>\n",
    "</div>"
   ]
  },
  {
   "cell_type": "markdown",
   "id": "3c5ba8ac-4780-4e1a-b348-5948235a3628",
   "metadata": {},
   "source": [
    "<h3 style='font-size:30px;font-style:italic'> Amazon Aurora</h3>\n",
    "<div> \n",
    "    <ul style='font-size:20px'> \n",
    "        <li> \n",
    "            Aurora é a solução de criação de bancos de dados relacionais com otimização para Cloud Computing. Tem suporte para PostgreSQL e MySQL, com performance superior em comparação com esses bancos no RDS.\n",
    "        </li>\n",
    "        <li>\n",
    "            O armazenamento do Aurora se expande automaticamente em passos de 10 GB até 128 TB.\n",
    "        </li>\n",
    "        <li>\n",
    "            É 20% mais caro do que o RDS, mas é mais eficiente a custos.\n",
    "        </li>\n",
    "    </ul>\n",
    "</div>"
   ]
  },
  {
   "cell_type": "markdown",
   "id": "18602ef4-2a57-4bdd-83bc-2ff77e7886d0",
   "metadata": {},
   "source": [
    "<h3 style='font-size:30px;font-style:italic'> Amazon Aurora Serveless</h3>\n",
    "<div> \n",
    "    <ul style='font-size:20px'> \n",
    "        <li> \n",
    "            É uma modalidade do Amazon Aurora com instanciação de bases de dados automática. O serviço instanciará novas bases de dados Aurora de acordo com a demanda. Todas elas compartilharão o mesmo volume de armazenamento.\n",
    "        </li>\n",
    "        <li>\n",
    "            Garante menos overhead de gerenciamento. Pagamento por segundo usado. \n",
    "        </li>\n",
    "        <li>\n",
    "            Adequado para workloads pouco frequentes, ou intermitentes.\n",
    "        </li>\n",
    "    </ul>\n",
    "</div>"
   ]
  },
  {
   "cell_type": "markdown",
   "id": "456cd8e2-de6e-4aac-bb15-e6175ca8bbc0",
   "metadata": {},
   "source": [
    "<h2 style='font-size:30px'> RDS Hands On</h2>\n",
    "<div> \n",
    "    <ul style='font-size:20px'> \n",
    "        <li> \n",
    "            O RDS possibilita a criação de bases de dados relacionais rapidamente. Em poucos cliques, sua aplicação já estará disponível para uso.\n",
    "        </li>\n",
    "        <li>\n",
    "            Você consegue, inclusive, definir se a DB vai ser pública ou privada.\n",
    "        </li>\n",
    "    </ul>\n",
    " </div>"
   ]
  },
  {
   "cell_type": "markdown",
   "id": "8c3ebf0b-57a1-404d-8c57-b3b9f038ac39",
   "metadata": {},
   "source": [
    "<h3 style='font-size:30px;font-style:italic'> Snapshots</h3>\n",
    "<div> \n",
    "    <ul style='font-size:20px'> \n",
    "        <li> \n",
    "            Podemos também resgatar snapshots das DB's. A Amazon permite que nós criemos novas bases a partir deles (restores), compartilhá-lo com outras contas, movê-lo para outra região, ou até pô-lo em um S3! \n",
    "        </li>\n",
    "    </ul>\n",
    "</div>"
   ]
  },
  {
   "cell_type": "markdown",
   "id": "e25a01a4-ab08-466f-9b4b-c6ca2a532c7a",
   "metadata": {},
   "source": [
    "<p style='color:red'>Praticar criação RDS, Aula 94;  DESLIGAR VM'S ao final da aula!!</p>"
   ]
  }
 ],
 "metadata": {
  "kernelspec": {
   "display_name": "Python 3 (ipykernel)",
   "language": "python",
   "name": "python3"
  },
  "language_info": {
   "codemirror_mode": {
    "name": "ipython",
    "version": 3
   },
   "file_extension": ".py",
   "mimetype": "text/x-python",
   "name": "python",
   "nbconvert_exporter": "python",
   "pygments_lexer": "ipython3",
   "version": "3.11.7"
  }
 },
 "nbformat": 4,
 "nbformat_minor": 5
}
