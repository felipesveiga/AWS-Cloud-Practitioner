{
 "cells": [
  {
   "cell_type": "markdown",
   "id": "694e1a17-6fa2-475a-bdca-76f6477ce2fa",
   "metadata": {},
   "source": [
    "<h1 style='font-size:40px'> Databases & Analytics</h1>"
   ]
  },
  {
   "cell_type": "markdown",
   "id": "e25a01a4-ab08-466f-9b4b-c6ca2a532c7a",
   "metadata": {},
   "source": [
    "<p style='color:red'> Aula 91;  DESLIGAR VM'S ao final da aula!!</p>"
   ]
  }
 ],
 "metadata": {
  "kernelspec": {
   "display_name": "Python 3 (ipykernel)",
   "language": "python",
   "name": "python3"
  },
  "language_info": {
   "codemirror_mode": {
    "name": "ipython",
    "version": 3
   },
   "file_extension": ".py",
   "mimetype": "text/x-python",
   "name": "python",
   "nbconvert_exporter": "python",
   "pygments_lexer": "ipython3",
   "version": "3.11.7"
  }
 },
 "nbformat": 4,
 "nbformat_minor": 5
}
