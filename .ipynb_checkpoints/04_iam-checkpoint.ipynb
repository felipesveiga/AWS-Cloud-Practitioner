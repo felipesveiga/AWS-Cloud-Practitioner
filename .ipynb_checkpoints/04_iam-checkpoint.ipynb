{
 "cells": [
  {
   "cell_type": "markdown",
   "id": "07c8b965-1c0a-448f-9f9f-ec6c94a2d570",
   "metadata": {},
   "source": [
    "<h1 style='font-size:40px'> IAM - Identity and Access Management</h1>"
   ]
  },
  {
   "cell_type": "markdown",
   "id": "cb306c8f-a346-4551-ac63-f792730f46ba",
   "metadata": {},
   "source": [
    "<p style='color:red'> Primeira aula do módulo</p>"
   ]
  }
 ],
 "metadata": {
  "kernelspec": {
   "display_name": "Python 3 (ipykernel)",
   "language": "python",
   "name": "python3"
  },
  "language_info": {
   "codemirror_mode": {
    "name": "ipython",
    "version": 3
   },
   "file_extension": ".py",
   "mimetype": "text/x-python",
   "name": "python",
   "nbconvert_exporter": "python",
   "pygments_lexer": "ipython3",
   "version": "3.8.10"
  }
 },
 "nbformat": 4,
 "nbformat_minor": 5
}
