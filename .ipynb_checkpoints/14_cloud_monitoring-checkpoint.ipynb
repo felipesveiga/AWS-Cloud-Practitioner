{
 "cells": [
  {
   "cell_type": "markdown",
   "id": "202f84d7-2223-403e-ad98-52fcfafcc5bc",
   "metadata": {},
   "source": [
    "<h1 style='font-size:40px'> Cloud Monitoring</h1>"
   ]
  },
  {
   "cell_type": "markdown",
   "id": "f30fe8d7-f086-46a3-83e9-8d73ca36d5f2",
   "metadata": {},
   "source": [
    "<p style='color:red'> Vi Aula 155, 156 e fiz o quiz; Iniciar Seção 14; DESLIGAR VM'S ao final da aula!!</p>"
   ]
  }
 ],
 "metadata": {
  "kernelspec": {
   "display_name": "Python 3 (ipykernel)",
   "language": "python",
   "name": "python3"
  },
  "language_info": {
   "codemirror_mode": {
    "name": "ipython",
    "version": 3
   },
   "file_extension": ".py",
   "mimetype": "text/x-python",
   "name": "python",
   "nbconvert_exporter": "python",
   "pygments_lexer": "ipython3",
   "version": "3.11.7"
  }
 },
 "nbformat": 4,
 "nbformat_minor": 5
}
