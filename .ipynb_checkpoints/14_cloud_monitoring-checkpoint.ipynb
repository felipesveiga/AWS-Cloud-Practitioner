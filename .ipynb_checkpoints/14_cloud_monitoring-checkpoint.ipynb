{
 "cells": [
  {
   "cell_type": "markdown",
   "id": "202f84d7-2223-403e-ad98-52fcfafcc5bc",
   "metadata": {},
   "source": [
    "<h1 style='font-size:40px'> Cloud Monitoring</h1>"
   ]
  },
  {
   "cell_type": "markdown",
   "id": "25de2204-1f7d-4966-a005-6c53b57bb4c8",
   "metadata": {},
   "source": [
    "<h2 style='font-size:30px'> CloudWatch Metrics & CloudWatch Alarms Overview</h2>\n",
    "<div> \n",
    "    <ul style='font-size:20px'> \n",
    "        <li>   \n",
    "            O CloudWatch é um serviço de acompanhamento de métricas de uso de todos os serviços da AWS. Ele é dividido no CloudWatch Metrics e e CloudWatch Alarms.\n",
    "        </li>\n",
    "    </ul>\n",
    " </div>"
   ]
  },
  {
   "cell_type": "markdown",
   "id": "63b9dd47-6bc9-4aac-8f49-a76d2a7d1994",
   "metadata": {},
   "source": [
    "<h3 style='font-size:30px;font-style:italic'> CloudWatch Metrics</h3>\n",
    "<div> \n",
    "    <ul style='font-size:20px'> \n",
    "        <li> \n",
    "            Disponibiliza dashboards sobre usabilidade de todas as suas aplicações (consumo de CPU, número de requisições...)\n",
    "        </li>\n",
    "    </ul>\n",
    " </div>"
   ]
  },
  {
   "cell_type": "markdown",
   "id": "b01b6e31-d82c-4134-9ca7-a20121dec7d5",
   "metadata": {},
   "source": [
    "<h3 style='font-size:30px;font-style:italic'> CloudWatch Alarms</h3>\n",
    "<div> \n",
    "    <ul style='font-size:20px'> \n",
    "        <li> \n",
    "            Encaminha notificações de consumo das suas aplicações. Consegue inclusive executar certas ações em face de eventos (reiniciar uma VM devido a alguma falha).\n",
    "        </li>\n",
    "        <li>\n",
    "            Também é capaz de encaminhar alarmes de custos.\n",
    "        </li>\n",
    "    </ul>\n",
    " </div>"
   ]
  },
  {
   "cell_type": "markdown",
   "id": "8325eae2-672e-4761-8c3e-2d91b575ec03",
   "metadata": {},
   "source": [
    "<h2 style='font-size:30px'> CloudWatch Metrics & CloudWatch Alarms Hands On</h2>\n",
    "<div> \n",
    "    <ul style='font-size:20px'> \n",
    "        <li>   \n",
    "            Para criar um alarme próprio, entre no CloudWatch e clique em \"All Alarms\". No menu que se abrir, você poderá criar um novo alarme para a sua aplicação.\n",
    "        </li>\n",
    "        <li>\n",
    "            Escolha a métrica a ser utilizada e seu respectivo threshold. O seu alarme será depositado em um SNS cujos dados você deverá preencher no formulário.\n",
    "        </li>\n",
    "        <li>\n",
    "            Para VM's, você pode criar alarmes para elas diretamente via console EC2. O instrutor demonstra também que os alarmes de billing estão disponíveis apenas na us-east-1.\n",
    "        </li>\n",
    "    </ul>\n",
    " </div>"
   ]
  },
  {
   "cell_type": "markdown",
   "id": "0711dcfe-6c88-417c-835e-39013e10b21e",
   "metadata": {},
   "source": [
    "<h2 style='font-size:30px'> CloudWatch Logs Overview</h2>\n",
    "<div> \n",
    "    <ul style='font-size:20px'> \n",
    "        <li>   \n",
    "            O CloudWatch Logs é o serviço que centraliza a coleta de logs de suas aplicações.\n",
    "        </li>\n",
    "        <li>\n",
    "            Ele pode resgatar esses registros de boa parte dos serviços da AWS, como Lambda, Route 53.\n",
    "        </li>\n",
    "        <li>\n",
    "            O usuário é capaz de definir o período de retenção dos logs.\n",
    "        </li>\n",
    "    </ul>\n",
    " </div>"
   ]
  },
  {
   "cell_type": "markdown",
   "id": "abb0325f-d7c9-408d-9bef-4a382e924aac",
   "metadata": {},
   "source": [
    "<h3 style='font-size:30px;font-style:italic'> CloudWatch Logs for EC2 Instances/On-Premises</h3>\n",
    "<div> \n",
    "    <ul style='font-size:20px'> \n",
    "        <li> \n",
    "            Caso deseje que suas instâncias EC2, ou servidores on-premises também encaminhem logs ao CloudWatch, você deverá baixar o CloudWatch Logs Agent nas máquinas.\n",
    "        </li>\n",
    "        <li>\n",
    "            No caso das VM's do EC2, garanta também que elas tenham as policies necessárias para o envio de logs!\n",
    "        </li>\n",
    "    </ul>\n",
    " </div>"
   ]
  },
  {
   "cell_type": "markdown",
   "id": "48183b8e-62a8-4c38-9024-452cc1358275",
   "metadata": {},
   "source": [
    "<h2 style='font-size:30px'> CloudWatch Logs Hands On</h2>\n",
    "<div> \n",
    "    <ul style='font-size:20px'> \n",
    "        <li>   \n",
    "            Cada aplicação que temos pode ter um log group no CloudWatch, dentro do qual criaremos streams contendo as mensagens de execução.\n",
    "        </li>\n",
    "        <li>\n",
    "            Observe que certos serviços como o Lambda podem já criar automaticamente um log group, quando você cria uma nova aplicação!\n",
    "        </li>\n",
    "    </ul>\n",
    " </div>"
   ]
  },
  {
   "cell_type": "markdown",
   "id": "e494b68b-8487-495b-bea7-eb9bc7316ba1",
   "metadata": {},
   "source": [
    "<h2 style='font-size:30px'> EventBridge Overview (formerly CloudWatch Events)</h2>\n",
    "<div> \n",
    "    <ul style='font-size:20px'> \n",
    "        <li>   \n",
    "            EventBridge é um serviço-ponte que busca acionar suas aplicações, em face de algum evento.\n",
    "        </li>\n",
    "        <li>\n",
    "            Esse evento poderia ser algo como a criação de uma VM, ou a chegada de um horário específico (Cron Jobs).\n",
    "        </li>\n",
    "        <li>\n",
    "            Você é capaz de armazenar os eventos recebidos pelo seu receptor de eventos (event bus) para testes futuros.\n",
    "        </li>\n",
    "    </ul>\n",
    " </div>"
   ]
  },
  {
   "cell_type": "markdown",
   "id": "d2fa946b-7ef7-49ea-9055-7092452ddf61",
   "metadata": {},
   "source": [
    "<h3 style='font-size:30px;font-style:italic'> Integrações do EventBridge</h3>\n",
    "<div> \n",
    "    <ul style='font-size:20px'> \n",
    "        <li> \n",
    "            Além dos serviços internos, o EventBridge pode se comunicar com produtos de empresas parceiras da AWS (zendesk, Datadog) e aplicativos customizados.\n",
    "        </li>\n",
    "    </ul>\n",
    " </div>"
   ]
  },
  {
   "cell_type": "markdown",
   "id": "7d821052-11f0-4a90-9dd8-e4df64d40b7b",
   "metadata": {},
   "source": [
    "<h2 style='font-size:30px'>EventBridge Hands On</h2>\n",
    "<div> \n",
    "    <ul style='font-size:20px'> \n",
    "        <li>   \n",
    "            Criação de uma regra e um agendamento que acionam um outro serviço.\n",
    "        </li>\n",
    "        <li>\n",
    "            A interface do EventBridge é bastante simples de manipular.\n",
    "        </li>\n",
    "    </ul>\n",
    " </div>"
   ]
  },
  {
   "cell_type": "markdown",
   "id": "984a2f6f-39dd-4c49-8b3f-01f4c13404aa",
   "metadata": {
    "jp-MarkdownHeadingCollapsed": true
   },
   "source": [
    "<h2 style='font-size:30px'> CloudTrail Overview</h2>\n",
    "<div> \n",
    "    <ul style='font-size:20px'> \n",
    "        <li>   \n",
    "            É um serviço de registro de todas as atividades de suas conta AWS, sejam elas feitas via Console, SDK ou CLI.\n",
    "        </li>\n",
    "        <li>\n",
    "            Seus logs podem ser replicados no CloudWatch ou S3. Conseguimos fazê-lo funcionar especificamente para uma certa região.\n",
    "        </li>\n",
    "    </ul>\n",
    " </div>"
   ]
  },
  {
   "cell_type": "markdown",
   "id": "850c5f13-2eea-4da6-9a4a-6477fe5504dc",
   "metadata": {},
   "source": [
    "<h2 style='font-size:30px'> CloudTrail Hands On</h2>\n",
    "<div> \n",
    "    <ul style='font-size:20px'> \n",
    "        <li>   \n",
    "            Somos apresentados à aba Event History do CloudTrail, onde podemos enxergar os logs de todas as ações realizadas em nossa conta.\n",
    "            <center style='margin-top:20px'> \n",
    "                <img src='img/14_cloud_trail.png'>\n",
    "            </center>\n",
    "        </li>\n",
    "    </ul>\n",
    " </div>"
   ]
  },
  {
   "cell_type": "markdown",
   "id": "dd7aafa6-98ec-478b-9040-7b00c9d1374e",
   "metadata": {},
   "source": [
    "<h2 style='font-size:30px'> X-Ray Overview</h2>\n",
    "<div> \n",
    "    <ul style='font-size:20px'> \n",
    "        <li>   \n",
    "            O X-Ray é um serviço que possibilita o monitoramento dos componentes de nossas aplicações em um ambiente centralizado. Ele nos oferece um grafo que revela a interdependência dos serviços e os seus respectivos status.\n",
    "            <center style='margin-top:20px'> \n",
    "                <img src='img/14_x_ray_graph.png'>\n",
    "            </center>\n",
    "        </li>\n",
    "    </ul>\n",
    " </div>"
   ]
  },
  {
   "cell_type": "markdown",
   "id": "7950f1ac-e69e-4ace-9fe6-d499cfaf55c5",
   "metadata": {},
   "source": [
    "<h2 style='font-size:30px'> CodeGuru Overview</h2>\n",
    "<div> \n",
    "    <ul style='font-size:20px'> \n",
    "        <li> \n",
    "            O CodeGuru é um serviço de análise/recomendação de códigos.\n",
    "        </li>\n",
    "        <li>\n",
    "            Ele contempla dois sub-serviços (CodeGuru Reviewer e CodeGuru Profiler).\n",
    "        </li>\n",
    "    </ul>\n",
    " </div>"
   ]
  },
  {
   "cell_type": "markdown",
   "id": "3539bea7-ef59-41da-8d5a-35ec26439654",
   "metadata": {
    "jp-MarkdownHeadingCollapsed": true
   },
   "source": [
    "<h3 style='font-size:30px;font-style:italic'> CodeGuru Reviewer</h3>\n",
    "<div> \n",
    "    <ul style='font-size:20px'> \n",
    "        <li> \n",
    "            A cada push que você fizer ao seu repositório, o CodeGuru Reviewer analisará o seu código buscando antecipar possíveis bugs.\n",
    "        </li>\n",
    "        <li>\n",
    "            Suporte para Java e Python. \n",
    "        </li>\n",
    "    </ul>\n",
    " </div>"
   ]
  },
  {
   "cell_type": "markdown",
   "id": "e95ca914-4738-412c-b276-ea2059ad5ef9",
   "metadata": {},
   "source": [
    "<h3 style='font-size:30px;font-style:italic'> CodeGuru Profiler</h3>\n",
    "<div> \n",
    "    <ul style='font-size:20px'> \n",
    "        <li> \n",
    "            Voltado ao código do ambiente de produção. Detecta partes do seu programa que mais consomem recursos e tenta otimizá-las.\n",
    "        </li>\n",
    "    </ul>\n",
    " </div>"
   ]
  },
  {
   "cell_type": "markdown",
   "id": "f30fe8d7-f086-46a3-83e9-8d73ca36d5f2",
   "metadata": {},
   "source": [
    "<p style='color:red'> Vi aulas 165 e 166; Aula 167; DESLIGAR VM'S ao final da aula!!</p>"
   ]
  }
 ],
 "metadata": {
  "kernelspec": {
   "display_name": "Python 3 (ipykernel)",
   "language": "python",
   "name": "python3"
  },
  "language_info": {
   "codemirror_mode": {
    "name": "ipython",
    "version": 3
   },
   "file_extension": ".py",
   "mimetype": "text/x-python",
   "name": "python",
   "nbconvert_exporter": "python",
   "pygments_lexer": "ipython3",
   "version": "3.11.7"
  }
 },
 "nbformat": 4,
 "nbformat_minor": 5
}
