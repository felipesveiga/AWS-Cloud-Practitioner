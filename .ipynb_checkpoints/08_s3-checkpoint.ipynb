{
 "cells": [
  {
   "cell_type": "markdown",
   "id": "88476927-7de4-4e85-8306-25f2b4a4bb43",
   "metadata": {},
   "source": [
    "<h1 style='font-size:40px'> Amazon S3</h1>"
   ]
  },
  {
   "cell_type": "markdown",
   "id": "52c31f61-6a15-42b8-b080-a108f0911ca9",
   "metadata": {
    "tags": []
   },
   "source": [
    "<h2 style='font-size:30px'> S3 Overview</h2>\n",
    "<h3 style='font-size:30px;font-style:italic'> Section Introduction</h3>\n",
    "<div> \n",
    "    <ul style='font-size:20px'> \n",
    "        <li> \n",
    "            O S3 é o serviço de armazenamento da AWS, um dos mais famosos da plataforma. \n",
    "        </li>\n",
    "    </ul>\n",
    "</div>"
   ]
  },
  {
   "cell_type": "markdown",
   "id": "eb8f907e-ee50-4c1e-bb67-242d226b9eb4",
   "metadata": {},
   "source": [
    "<h3 style='font-size:30px;font-style:italic'> Amazon S3 Use Cases</h3>\n",
    "<div> \n",
    "    <ul style='font-size:20px'> \n",
    "        <li> \n",
    "            O S3 pode ser usado tanto no armazenamento de arquivos, quanto para hospedagem de sites e aplicativos.\n",
    "        </li>\n",
    "        <li>\n",
    "            É bastante popular na criação de data lakes, no contexto de Engenharia de Dados.\n",
    "        </li>\n",
    "    </ul>\n",
    "</div>"
   ]
  },
  {
   "cell_type": "markdown",
   "id": "a50b20f1-cc10-4dd2-b1a8-c86df812d8b5",
   "metadata": {},
   "source": [
    "<h3 style='font-size:30px;font-style:italic'> Amazon S3 - Buckets</h3>\n",
    "<div> \n",
    "    <ul style='font-size:20px'> \n",
    "        <li> \n",
    "            Buckets são diretórios do S3 dentro dos quais podemos armazenar objetos (arquivos). \n",
    "        </li>\n",
    "        <li>\n",
    "            Os buckets são definidos ao nível de região. Dentro dela, eles devem ter um nome único entre todos os outros buckets das demais contas da AWS.\n",
    "        </li>\n",
    "    </ul>\n",
    "</div>"
   ]
  },
  {
   "cell_type": "markdown",
   "id": "1148f32e-73e7-447b-959c-410e267c021b",
   "metadata": {},
   "source": [
    "<h3 style='font-size:30px;font-style:italic'> Amazon S3 - Objects</h3>\n",
    "<div> \n",
    "    <ul style='font-size:20px'> \n",
    "        <li> \n",
    "            Os objetos são identificados por um path. Ele sempre começará como s3://&lt;nome_bucket&gt;\n",
    "        </li>\n",
    "        <li>\n",
    "            Após esse caminho padrão, haverá a <strong>key</strong>, que é a localização do objeto dentro desse bucket. Ela poderá conter um prefixo (caminho com \"subdiretórios\") e o nome do objeto.\n",
    "        </li>\n",
    "        <li>\n",
    "            Vale notar que o conceito de subdiretório não existe no S3. Você deve imaginar tudo como chaves.\n",
    "            <center style='margin-top:20px'> \n",
    "                <img src='img/07_key.png'>\n",
    "            </center>\n",
    "        </li>\n",
    "    </ul>\n",
    "</div>"
   ]
  },
  {
   "cell_type": "markdown",
   "id": "a5e10e93-4290-4e07-a88d-6c9bd18b0672",
   "metadata": {},
   "source": [
    "<h3 style='font-size:30px;font-style:italic'> Amazon S3 - Objects (Propriedades)</h3>\n",
    "<div> \n",
    "    <ul style='font-size:20px'> \n",
    "        <li> \n",
    "            O S3 admite arquivos de até 5TB de tamanho. Caso o objeto tenha mais de 5GB, o upload deverá ser feito por chunks. \n",
    "        </li>\n",
    "        <li>\n",
    "            Os metadados dos objetos são armazenados no formato &lt;chave&gt;:&lt;valor&gt;. Você também pode vincular tags a eles, da mesma forma que em outros produtos da AWS. \n",
    "        </li>\n",
    "        <li>\n",
    "            Podemos habilitar o versionamento do arquivo também. Nesse caso, um ID será alocado a cada versão dele.\n",
    "        </li>\n",
    "    </ul>\n",
    "</div>"
   ]
  },
  {
   "cell_type": "markdown",
   "id": "166e80aa-c202-41d9-a31d-6619437361a0",
   "metadata": {},
   "source": [
    "<p style='color:red'> Aula 72 (1:45);  DESLIGAR VM'S ao final da aula!!</p>"
   ]
  }
 ],
 "metadata": {
  "kernelspec": {
   "display_name": "Python 3 (ipykernel)",
   "language": "python",
   "name": "python3"
  },
  "language_info": {
   "codemirror_mode": {
    "name": "ipython",
    "version": 3
   },
   "file_extension": ".py",
   "mimetype": "text/x-python",
   "name": "python",
   "nbconvert_exporter": "python",
   "pygments_lexer": "ipython3",
   "version": "3.11.7"
  }
 },
 "nbformat": 4,
 "nbformat_minor": 5
}
