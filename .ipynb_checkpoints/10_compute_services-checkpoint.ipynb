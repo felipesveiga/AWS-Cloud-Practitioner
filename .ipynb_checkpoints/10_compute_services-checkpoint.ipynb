{
 "cells": [
  {
   "cell_type": "markdown",
   "id": "fe6a2788-4f23-423b-adf4-06b9b81ed791",
   "metadata": {},
   "source": [
    "<h1 style='font-size:40px'> Other Compute Services: ECS, Lambda, Batch, Lightsail</h1>"
   ]
  },
  {
   "cell_type": "markdown",
   "id": "038a67e3-96a1-469c-9d6e-afba95416a92",
   "metadata": {},
   "source": [
    "<h2 style='font-size:30px'> What is Docker?</h2>\n",
    "<div> \n",
    "    <ul style='font-size:20px'> \n",
    "        <li> \n",
    "            Docker é uma plataforma de desenvolvimento de software voltada ao deploy de apps. Nós implantamos nossos projetos dentro de containers - ambientes isolados com seu próprio OS e softwares próprios.\n",
    "        </li>\n",
    "        <li>\n",
    "            Com os containers em mãos, podemos acionar nosso projeto em qualquer máquina, sem nos preocuparmos com problemas de compatibilidade ou de execução.\n",
    "        </li>\n",
    "        <li>\n",
    "            Sua principal vantagem é que podemos encaminhar diversos projetos para uma única VM, ao invés de termos que criar uma máquina para cada um.\n",
    "        </li>\n",
    "    </ul>\n",
    " </div>"
   ]
  },
  {
   "cell_type": "markdown",
   "id": "6f151cd1-296e-478e-8d2a-ab23dba48489",
   "metadata": {},
   "source": [
    "<h3 style='font-size:30px;font-style:italic'> Where are Docker Images Stored?</h3>\n",
    "<div> \n",
    "    <ul style='font-size:20px'> \n",
    "        <li> \n",
    "            O Docker possui um repositório público, de onde imagens de OS's e softwares podem ser baixados.\n",
    "        </li>\n",
    "        <li>\n",
    "            A AWS ainda tem um repositório próprio, de onde podemos também baixar essas imagens (ECR).\n",
    "        </li>\n",
    "    </ul>\n",
    "</div>"
   ]
  },
  {
   "cell_type": "markdown",
   "id": "5dbc2cd1-795a-4d1c-8d02-e744c41edf2f",
   "metadata": {},
   "source": [
    "<p style='color:red'> Vi aula de Docker; Aula 112. DESLIGAR VM'S ao final da aula!!</p>"
   ]
  }
 ],
 "metadata": {
  "kernelspec": {
   "display_name": "Python 3 (ipykernel)",
   "language": "python",
   "name": "python3"
  },
  "language_info": {
   "codemirror_mode": {
    "name": "ipython",
    "version": 3
   },
   "file_extension": ".py",
   "mimetype": "text/x-python",
   "name": "python",
   "nbconvert_exporter": "python",
   "pygments_lexer": "ipython3",
   "version": "3.11.7"
  }
 },
 "nbformat": 4,
 "nbformat_minor": 5
}
