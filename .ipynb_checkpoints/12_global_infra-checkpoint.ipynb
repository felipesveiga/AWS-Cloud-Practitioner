{
 "cells": [
  {
   "cell_type": "markdown",
   "id": "2af93731-1df4-420f-9a90-c438650811a2",
   "metadata": {},
   "source": [
    "<h1 style='font-size:40px'> Leveraging the AWS Global Infrastructure</h1>\n",
    "<div> \n",
    "    <ul style='font-size:20px'> \n",
    "        <li>   \n",
    "            Aprenderemos nessa seção a utilizar os recursos da AWS voltados a aplicações multi/regiões.\n",
    "        </li>\n",
    "    </ul>\n",
    " </div>"
   ]
  },
  {
   "cell_type": "markdown",
   "id": "7092c3cf-ab72-486b-8b14-2558dfb5f127",
   "metadata": {},
   "source": [
    "<h2 style='font-size:30px'> Why Global Applications?</h2>\n",
    "<div> \n",
    "    <ul style='font-size:20px'> \n",
    "        <li>   \n",
    "            Globalizar nossas aplicações possibilita uma menor latência para usuários de outras partes do mundo, assim como diminui as chances de queda do serviço, em caso de desastres. \n",
    "        </li>\n",
    "        <li>\n",
    "            Vale também mencionar que disponibilizar o software em diversas localizações decresce o risco de quedas por ataques hackers.\n",
    "        </li>\n",
    "    </ul>\n",
    " </div>"
   ]
  },
  {
   "cell_type": "markdown",
   "id": "f408a7a5-d483-48d1-a22e-2dbaf29d9c94",
   "metadata": {},
   "source": [
    "<h3 style='font-size:30px;font-style:italic'> Edge Locations</h3>\n",
    "<div> \n",
    "    <ul style='font-size:20px'> \n",
    "        <li> \n",
    "            Edge Locations são data centers normalmente localizados em grandes centros urbanos cuja função é garantir uma rápida distribuição de conteúdo.\n",
    "        </li>\n",
    "        <li>\n",
    "            Esses servidores são de uso exclusivo dos serviços da AWS, e não podem ser acessados diretamente pelo usuário.\n",
    "        </li>\n",
    "    </ul>\n",
    " </div>"
   ]
  },
  {
   "cell_type": "markdown",
   "id": "a78c474d-8eab-4d56-bc87-e1a032191165",
   "metadata": {},
   "source": [
    "<h2 style='font-size:30px'> Route 53 Overview</h2>\n",
    "<div> \n",
    "    <ul style='font-size:20px'> \n",
    "        <li>   \n",
    "            O Route 53 é um serviço de DNS próprio da Amazon. Ele funciona para uma variedade de requisições (IPv4, IPv6, hostname-hostname...).\n",
    "        </li>\n",
    "    </ul>\n",
    " </div>"
   ]
  },
  {
   "cell_type": "markdown",
   "id": "3d10818a-76fa-4571-b4bd-aed6bb447bb1",
   "metadata": {},
   "source": [
    "<figure><center style='margin-top:20px'> \n",
    "    <img src='img/12_dns_diagram.png'>\n",
    "    <figcaption> Exemplo do funcionamento do Route 53.</figcaption>\n",
    "    </center>\n",
    "</figure>"
   ]
  },
  {
   "cell_type": "markdown",
   "id": "d7a97adf-b825-44de-b70b-2a7e29c6dd1b",
   "metadata": {},
   "source": [
    "<h3 style='font-size:30px;font-style:italic'> O que é DNS?</h3>\n",
    "<div> \n",
    "    <ul style='font-size:20px'> \n",
    "        <li> \n",
    "            O Domain Name System é um sistema de conversão de URL's para o IP do servidor que hospeda o site desejado.\n",
    "        </li>\n",
    "    </ul>\n",
    " </div>"
   ]
  },
  {
   "cell_type": "markdown",
   "id": "f56b5e36-042f-4734-ad35-7b713df357bf",
   "metadata": {},
   "source": [
    "<p style='color:red'> Defini DNS; Aula 138 (2:00); DESLIGAR VM'S ao final da aula!!</p>"
   ]
  }
 ],
 "metadata": {
  "kernelspec": {
   "display_name": "Python 3 (ipykernel)",
   "language": "python",
   "name": "python3"
  },
  "language_info": {
   "codemirror_mode": {
    "name": "ipython",
    "version": 3
   },
   "file_extension": ".py",
   "mimetype": "text/x-python",
   "name": "python",
   "nbconvert_exporter": "python",
   "pygments_lexer": "ipython3",
   "version": "3.11.7"
  }
 },
 "nbformat": 4,
 "nbformat_minor": 5
}
