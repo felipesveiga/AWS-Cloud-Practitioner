{
 "cells": [
  {
   "cell_type": "markdown",
   "id": "2af93731-1df4-420f-9a90-c438650811a2",
   "metadata": {},
   "source": [
    "<h1 style='font-size:40px'> Leveraging the AWS Global Infrastructure</h1>\n",
    "<div> \n",
    "    <ul style='font-size:20px'> \n",
    "        <li>   \n",
    "            Aprenderemos nessa seção a utilizar os recursos da AWS voltados a aplicações multi/regiões.\n",
    "        </li>\n",
    "    </ul>\n",
    " </div>"
   ]
  },
  {
   "cell_type": "markdown",
   "id": "7092c3cf-ab72-486b-8b14-2558dfb5f127",
   "metadata": {},
   "source": [
    "<h2 style='font-size:30px'> Why Global Applications?</h2>\n",
    "<div> \n",
    "    <ul style='font-size:20px'> \n",
    "        <li>   \n",
    "            Globalizar nossas aplicações possibilita uma menor latência para usuários de outras partes do mundo, assim como diminui as chances de queda do serviço, em caso de desastres. \n",
    "        </li>\n",
    "        <li>\n",
    "            Vale também mencionar que disponibilizar o software em diversas localizações decresce o risco de quedas por ataques hackers.\n",
    "        </li>\n",
    "    </ul>\n",
    " </div>"
   ]
  },
  {
   "cell_type": "markdown",
   "id": "f56b5e36-042f-4734-ad35-7b713df357bf",
   "metadata": {},
   "source": [
    "<p style='color:red'> Vi Aula 137; Explicar o que são os Points of Presence; Aula 138; DESLIGAR VM'S ao final da aula!!</p>"
   ]
  }
 ],
 "metadata": {
  "kernelspec": {
   "display_name": "Python 3 (ipykernel)",
   "language": "python",
   "name": "python3"
  },
  "language_info": {
   "codemirror_mode": {
    "name": "ipython",
    "version": 3
   },
   "file_extension": ".py",
   "mimetype": "text/x-python",
   "name": "python",
   "nbconvert_exporter": "python",
   "pygments_lexer": "ipython3",
   "version": "3.11.7"
  }
 },
 "nbformat": 4,
 "nbformat_minor": 5
}
