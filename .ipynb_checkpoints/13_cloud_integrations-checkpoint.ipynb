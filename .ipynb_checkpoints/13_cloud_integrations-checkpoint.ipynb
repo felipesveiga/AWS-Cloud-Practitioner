{
 "cells": [
  {
   "cell_type": "markdown",
   "id": "0941c9b5-4fe7-40fd-b31b-a4834a5d634b",
   "metadata": {},
   "source": [
    "<h1 style='font-size:40px'> Cloud Integrations</h1>"
   ]
  },
  {
   "cell_type": "markdown",
   "id": "4a65e2ed-323b-4691-9eb0-3776cccb295a",
   "metadata": {},
   "source": [
    "<h2 style='font-size:30px'> Cloud Integrations Overview</h2>\n",
    "<div> \n",
    "    <ul style='font-size:20px'> \n",
    "        <li>   \n",
    "            É muito comum desejarmos integrar os diversos serviços da AWS na montagem de uma aplicação/produto.\n",
    "        </li>\n",
    "        <li>\n",
    "            Existem dois padrões principais de integração, o síncrono ou assíncrono, que aprenderemos a seguir.\n",
    "        </li>\n",
    "    </ul>\n",
    " </div>"
   ]
  },
  {
   "cell_type": "markdown",
   "id": "7a006fa6-d6b4-43a3-90f0-5b6d85285fb8",
   "metadata": {},
   "source": [
    "<h4 style='font-size:30px;font-style:italic;text-decoration:underline'> Integração Síncrona</h4>\n",
    "<div> \n",
    "    <ul style='font-size:20px'> \n",
    "        <li> \n",
    "            É a ligação direta entre serviços. Apesar de ser mais rápida, pode ter problemas, caso haja um pico de requisições.\n",
    "        </li>\n",
    "    </ul>\n",
    " </div>"
   ]
  },
  {
   "cell_type": "markdown",
   "id": "5d170425-1124-4b78-a28d-a9d2a8fb7757",
   "metadata": {},
   "source": [
    "<h4 style='font-size:30px;font-style:italic;text-decoration:underline'> Integração Assíncrona</h4>\n",
    "<div> \n",
    "    <ul style='font-size:20px'> \n",
    "        <li> \n",
    "            Consiste em pôr uma fila entre os serviços, que organizará a distribuição do tráfego ao seu alvo.\n",
    "        </li>\n",
    "    </ul>\n",
    " </div>"
   ]
  },
  {
   "cell_type": "markdown",
   "id": "5e07bc60-847d-4173-9349-381af2e7ced8",
   "metadata": {},
   "source": [
    "<h2 style='font-size:30px'> SQS Overview</h2>\n",
    "<div> \n",
    "    <ul style='font-size:20px'> \n",
    "        <li>   \n",
    "             O Simple Queue Service (SQS) é o serviço de enfileiramento de requisições padrão da AWS. É um produto serveless\n",
    "        </li>\n",
    "        <li>\n",
    "            As requisições podem permanecer na fila de 4 a 14 dias. Uma vez lidas, elas serão apagadas da queue.\n",
    "        </li>\n",
    "        <li>\n",
    "            As queues podem ser do tipo FIFO, se o dev preferir.\n",
    "        </li>\n",
    "    </ul>\n",
    " </div>"
   ]
  },
  {
   "cell_type": "markdown",
   "id": "0a4888ab-ff36-4d23-81c4-de96de53a152",
   "metadata": {},
   "source": [
    "<p style='color:red'> Iniciei seção 13; Aula 151;DESLIGAR VM'S ao final da aula!!</p>"
   ]
  }
 ],
 "metadata": {
  "kernelspec": {
   "display_name": "Python 3 (ipykernel)",
   "language": "python",
   "name": "python3"
  },
  "language_info": {
   "codemirror_mode": {
    "name": "ipython",
    "version": 3
   },
   "file_extension": ".py",
   "mimetype": "text/x-python",
   "name": "python",
   "nbconvert_exporter": "python",
   "pygments_lexer": "ipython3",
   "version": "3.11.7"
  }
 },
 "nbformat": 4,
 "nbformat_minor": 5
}
