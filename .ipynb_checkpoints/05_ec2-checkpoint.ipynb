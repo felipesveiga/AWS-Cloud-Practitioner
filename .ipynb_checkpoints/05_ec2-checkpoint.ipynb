{
 "cells": [
  {
   "cell_type": "markdown",
   "id": "80ae916c-46be-4639-a9a6-3f72bca88772",
   "metadata": {},
   "source": [
    "<h1 style='font-size:40px'> EC2 - Elastic Compute Cloud</h1>"
   ]
  },
  {
   "cell_type": "markdown",
   "id": "7b2f1c11-fab1-4822-89b4-7f2c28714aac",
   "metadata": {
    "tags": []
   },
   "source": [
    "<h2 style='font-size:30px'> AWS Budget Setup</h2>\n",
    "<div> \n",
    "    <ul style='font-size:20px'> \n",
    "        <li> \n",
    "            Vamos, primeiramente, entender e configurar o nosso dashboard de custos.\n",
    "        </li>\n",
    "        <li> \n",
    "            Por padrão, os usuários IAM não terão acesso a esse painel, mesmo sendo administradores da conta. Para permitir isso, entre em \"Account\" ao clicar no nome do seu root user e deslize a tela até encontrar a opção \"IAM user and role access to Billing information\".\n",
    "            <center style='margin-top:20px'> \n",
    "                <img src='img/05_iam_costs.png'>\n",
    "            </center>\n",
    "        </li>\n",
    "    </ul>\n",
    "</div>"
   ]
  },
  {
   "cell_type": "markdown",
   "id": "e2828728-f1c7-4698-9001-7777e214f186",
   "metadata": {
    "tags": []
   },
   "source": [
    "<h3 style='font-size:30px;font-style:italic'> Bills</h3>\n",
    "<div> \n",
    "    <ul style='font-size:20px'> \n",
    "        <li> \n",
    "            A seção \"Bills\" do dashboard disponibiliza uma variedade de detalhes sobre os gastos produzidos pela sua conta. Por exemplo, a Tab \"Charges by Service\" discrima os custos por serviço utilizado.\n",
    "            <center style='margin-top:20px'> \n",
    "                <img src='img/05_charges_service.png'>\n",
    "            </center>\n",
    "        </li>\n",
    "    </ul>\n",
    "</div>"
   ]
  },
  {
   "cell_type": "markdown",
   "id": "230f6220-1dde-4a35-a49f-1212473ce3bc",
   "metadata": {
    "tags": []
   },
   "source": [
    "<h3 style='font-size:30px;font-style:italic'> Free Tier e Budget</h3>\n",
    "<div> \n",
    "    <ul style='font-size:20px'> \n",
    "        <li> \n",
    "            A seção \"Free Tier\" o informa sobre o seu consumo dos recursos gratuitos da AWS.\n",
    "        </li>\n",
    "        <li>\n",
    "            Caso deseje ter alguma espécie de aviso a respeito do consumo disso, você pode criar um Budget em \"Budgets\". Se trata de um alerta de gastos do serviço.\n",
    "        </li>\n",
    "        <li>\n",
    "            No menu, especifique o email dos destinatários do alerta.\n",
    "            <center style='margin-top:20px'> \n",
    "                <img src='img/05_budgets.png'>\n",
    "            </center>\n",
    "        </li>\n",
    "    </ul>\n",
    "</div>"
   ]
  },
  {
   "cell_type": "markdown",
   "id": "59ee4644-3b65-435b-b87b-2bb18fa4655a",
   "metadata": {
    "tags": []
   },
   "source": [
    "<h2 style='font-size:30px'> EC2 Basics</h2>\n",
    "<div> \n",
    "    <ul style='font-size:20px'> \n",
    "        <li> \n",
    "            O Elastic Compute Cloud é um serviço de IaaS, cujas principais funcionalidades são:\n",
    "            <ul> \n",
    "                <li> \n",
    "                    Aluguel de VM's.\n",
    "                </li>\n",
    "                <li> \n",
    "                    Armazenamento de dados em drives virtuais (EBS).\n",
    "                </li>\n",
    "                <li> \n",
    "                    Distribuição de cargas entre máquinas (ELB).\n",
    "                </li>\n",
    "                <li>\n",
    "                    Escalar os serviços (ASG).\n",
    "                </li>\n",
    "            </ul>\n",
    "        </li>\n",
    "    </ul>\n",
    "</div>"
   ]
  },
  {
   "cell_type": "markdown",
   "id": "e0e6b0e2-2546-464d-b8b0-0c39bf58edf3",
   "metadata": {},
   "source": [
    "<h3 style='font-size:30px;font-style:italic'> EC2 Sizing and Configuration Options</h3>\n",
    "<div> \n",
    "    <ul style='font-size:20px'> \n",
    "        <li> \n",
    "            O EC2 oferece um alto poder de customização das VM's. Podemos escolher o OS, quantidade de cores, RAM e disco.\n",
    "        </li>\n",
    "        <li> \n",
    "            Conseguimos, inclusive, escolher o tipo de hardware que vamos utilizar (armazenamento, placa de rede). \n",
    "        </li>\n",
    "    </ul>\n",
    "</div>"
   ]
  },
  {
   "cell_type": "markdown",
   "id": "8f748e07-7161-4e3a-b488-df16075cab78",
   "metadata": {},
   "source": [
    "<h3 style='font-size:30px;font-style:italic'> EC2 User Data</h3>\n",
    "<div> \n",
    "    <ul style='font-size:20px'> \n",
    "        <li> \n",
    "            O EC2 User Data é um programa utilizado no bootstrap das nossas VM's. \n",
    "        </li>\n",
    "        <li> \n",
    "            <i> Bootstrap</i> é a execução de um comando na inicialização de um computador.\n",
    "        </li>\n",
    "        <li>\n",
    "            Essa operação apenas deve ser realizada pelo root user (ou seja, utilizando o comando \"sudo\").\n",
    "        </li>\n",
    "    </ul>\n",
    "</div>"
   ]
  },
  {
   "cell_type": "markdown",
   "id": "2744625b-147c-4a91-aaa2-ab35ce511c0d",
   "metadata": {
    "tags": []
   },
   "source": [
    "<h2 style='font-size:30px'> Create an EC2 Instance with EC2 User Data to have a Website Hands On</h2>\n",
    "<div> \n",
    "    <ul style='font-size:20px'> \n",
    "        <li> \n",
    "            Aqui, lançaremos nossa primeira instância EC2.\n",
    "        </li>\n",
    "        <li> \n",
    "            Em EC2, clique em \"Launch Instance\" e um menu se abrirá. Nele, você poderá aplicar todas as customizações mencionadas.\n",
    "        </li>\n",
    "    </ul>\n",
    "</div>"
   ]
  },
  {
   "cell_type": "markdown",
   "id": "612a8534-bb9b-4be6-a46d-574fc95a02f2",
   "metadata": {},
   "source": [
    "<h3 style='font-size:30px;font-style:italic'> Key Pair Login</h3>\n",
    "<div> \n",
    "    <ul style='font-size:20px'> \n",
    "        <li> \n",
    "            Caso desejemos acessar a VM via SSH, teremos que gerar um par de chaves encriptadas.\n",
    "        </li>\n",
    "        <li> \n",
    "            As configurações padrão possivelmente vão ser adequadas ao seu caso de uso.\n",
    "            <center style='margin-top:20px'> \n",
    "                <img src='img/05_key_pair.png'>\n",
    "            </center>\n",
    "        </li>\n",
    "    </ul>\n",
    "</div>"
   ]
  },
  {
   "cell_type": "markdown",
   "id": "4653281f-08e6-4da7-b3b6-d32afc4165be",
   "metadata": {},
   "source": [
    "<h3 style='font-size:30px;font-style:italic'> Armazenamento EBS</h3>\n",
    "<div> \n",
    "    <ul style='font-size:20px'> \n",
    "        <li> \n",
    "            Somos capazes de perpetuar os nossos dados, mesmo após o encerramento da VM. Para isso, entre nas configurações avançadas de Storage (volumes).\n",
    "            <center style='margin-top:20px'> \n",
    "                <img src='img/05_delete_termination.png'>\n",
    "            </center>\n",
    "        </li>\n",
    "    </ul>\n",
    "</div>"
   ]
  },
  {
   "cell_type": "markdown",
   "id": "b40aa4bb-4db6-4b28-a5dc-14a98a185f67",
   "metadata": {},
   "source": [
    "<h3 style='font-size:30px;font-style:italic'> Lançamento da VM</h3>\n",
    "<div> \n",
    "    <ul style='font-size:20px'> \n",
    "        <li> \n",
    "            Uma vez criada a instância, podemos acessar os seus dados na aba \"Instances\".\n",
    "        </li>\n",
    "        <li> \n",
    "            Iremos receber dois endereços IPv4. O público é voltado a conexões remotas externas (SSH); já o privado, a conexões internas dentro da rede AWS.\n",
    "        </li>\n",
    "        <li> \n",
    "            Preste atenção, porque o IPv4 público pode se alterar quando desligamos e ligamos uma instância!\n",
    "        </li>\n",
    "    </ul>\n",
    "</div>"
   ]
  },
  {
   "cell_type": "markdown",
   "id": "10f3d940-832e-4182-b357-9419d6242444",
   "metadata": {},
   "source": [
    "<h3 style='font-size:30px;font-style:italic'> Cuidados com a Máquina</h3>\n",
    "<div> \n",
    "    <ul style='font-size:20px'> \n",
    "        <li> \n",
    "            A seção Instances permite você interromper a existência de uma instância. Sempre desligue-a quando julgar o seu uso desnecessário.\n",
    "            <center style='margin-top:20px'> \n",
    "                <img src='img/05_stop_instance.png'>\n",
    "            </center>\n",
    "        </li>\n",
    "    </ul>\n",
    "</div>"
   ]
  },
  {
   "cell_type": "markdown",
   "id": "ddebe3e6-5126-4821-a69b-63c6ffb7a5cd",
   "metadata": {
    "tags": []
   },
   "source": [
    "<h2 style='font-size:30px'> EC2 Instance Types Basics</h2>\n",
    "<div> \n",
    "    <ul style='font-size:20px'> \n",
    "        <li> \n",
    "            Buscando agradar a sua gama de clientes, a AWS possui instâncias otimizadas a diferentes casos de usos.\n",
    "        </li>\n",
    "        <li> \n",
    "            Você é capaz de identificar qual tipo de instância estamos usando pelo seu código. A primeira letra sinaliza a espécie da máquina; o dígito à direita, a geração dela; o texto após o ponto revela o tamanho da máquina.  \n",
    "                <img src='img/05_sigla_instancia.png'>\n",
    "        </li>\n",
    "    </ul>\n",
    "</div>"
   ]
  },
  {
   "cell_type": "markdown",
   "id": "4060800c-b4c3-427f-8774-7057dea1fcdb",
   "metadata": {
    "tags": []
   },
   "source": [
    "<h3 style='font-size:30px;font-style:italic'> General Purpose Instances</h3>\n",
    "<div> \n",
    "    <ul style='font-size:20px'> \n",
    "        <li> \n",
    "            Disponibilizam um conjunto equilibrado dos recursos de computação, memória e rede. Ideiais na criação de servidores web e repositórios de códigos.\n",
    "        </li>\n",
    "        <li> \n",
    "            Suas instâncias costumam ter o seu código de classe como T e M. VM's Mac entram nessa categoria também.\n",
    "        </li>\n",
    "    </ul>\n",
    "</div>"
   ]
  },
  {
   "cell_type": "markdown",
   "id": "bb6289b7-7284-4fd9-8203-2ebd14f828aa",
   "metadata": {
    "tags": []
   },
   "source": [
    "<h3 style='font-size:30px;font-style:italic'> Compute Optimized Instances</h3>\n",
    "<div> \n",
    "    <ul style='font-size:20px'> \n",
    "        <li> \n",
    "            Dão ênfase à performance computacional. São pertinentes na criação de processamento em batch, servidores web ou de gaming de alta performance e modelos de machine learning.\n",
    "        </li>\n",
    "        <li> \n",
    "            Suas instâncias costumam ter o seu código de classe como C.\n",
    "        </li>\n",
    "    </ul>\n",
    "</div>"
   ]
  },
  {
   "cell_type": "markdown",
   "id": "338b3977-3e0f-421a-ae2c-ac63d09f8568",
   "metadata": {
    "tags": []
   },
   "source": [
    "<h3 style='font-size:30px;font-style:italic'> Memory Optimized Instances</h3>\n",
    "<div> \n",
    "    <ul style='font-size:20px'> \n",
    "        <li> \n",
    "            Recomendado para atividades de alto processamento de dados na memória.\n",
    "        </li>\n",
    "        <li> \n",
    "            Essas atividades podem ser a criação de bases de dados voltadas a BI, fluxos de processamento de dados não-estruturados e armazenamentos web distribuídos.\n",
    "        </li>\n",
    "        <li> \n",
    "            As instâncias dessa espécie costumam ter as siglas R, X e z em seus nomes.\n",
    "        </li>\n",
    "    </ul>\n",
    "</div>"
   ]
  },
  {
   "cell_type": "markdown",
   "id": "4db0ce97-b797-4d9a-b097-a526d9a02c3e",
   "metadata": {
    "tags": []
   },
   "source": [
    "<h3 style='font-size:30px;font-style:italic'> Storage Optimized Instances</h3>\n",
    "<div> \n",
    "    <ul style='font-size:20px'> \n",
    "        <li> \n",
    "            Ideais na construção de bases de dados, data warehouses, sistemas de transações de alta frequência e sistemas de arquivos distribuídos.\n",
    "        </li>\n",
    "        <li> \n",
    "            Podem pertencer às classes I, D e H.\n",
    "        </li>\n",
    "    </ul>\n",
    "</div>"
   ]
  },
  {
   "cell_type": "markdown",
   "id": "6ea9f4fb-fae4-4bbf-9dfb-86ec25c04b8b",
   "metadata": {
    "tags": []
   },
   "source": [
    "<h2 style='font-size:30px'> Security Groups & Classic Ports Overview</h2>\n",
    "<div> \n",
    "    <ul style='font-size:20px'> \n",
    "        <li> \n",
    "            Os Security Groups atuam como uma firewall das instâncias EC2. Eles controlam o tráfego de fora para dentro e de dentro para fora da VM.\n",
    "        </li>\n",
    "        <li> \n",
    "            Esses grupos possuem apenas regras de permissão; não definimos constraints neles.\n",
    "        </li>\n",
    "    </ul>\n",
    "</div>"
   ]
  },
  {
   "cell_type": "markdown",
   "id": "3b1ceed9-3c6b-4374-915f-ba89f40cb57b",
   "metadata": {},
   "source": [
    "<p style='color:red'> Aula 37<strong> DESLIGAR VM'S</strong> ao final das aulas</p>"
   ]
  }
 ],
 "metadata": {
  "kernelspec": {
   "display_name": "Python 3 (ipykernel)",
   "language": "python",
   "name": "python3"
  },
  "language_info": {
   "codemirror_mode": {
    "name": "ipython",
    "version": 3
   },
   "file_extension": ".py",
   "mimetype": "text/x-python",
   "name": "python",
   "nbconvert_exporter": "python",
   "pygments_lexer": "ipython3",
   "version": "3.8.10"
  }
 },
 "nbformat": 4,
 "nbformat_minor": 5
}
