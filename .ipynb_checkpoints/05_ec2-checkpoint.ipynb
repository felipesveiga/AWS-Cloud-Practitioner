{
 "cells": [
  {
   "cell_type": "markdown",
   "id": "80ae916c-46be-4639-a9a6-3f72bca88772",
   "metadata": {},
   "source": [
    "<h1 style='font-size:40px'> EC2 - Elastic Compute Cloud</h1>"
   ]
  },
  {
   "cell_type": "markdown",
   "id": "7b2f1c11-fab1-4822-89b4-7f2c28714aac",
   "metadata": {
    "tags": []
   },
   "source": [
    "<h2 style='font-size:30px'> AWS Budget Setup</h2>\n",
    "<div> \n",
    "    <ul style='font-size:20px'> \n",
    "        <li> \n",
    "            Vamos, primeiramente, entender e configurar o nosso dashboard de custos.\n",
    "        </li>\n",
    "        <li> \n",
    "            Por padrão, os usuários IAM não terão acesso a esse painel, mesmo sendo administradores da conta. Para permitir isso, entre em \"Account\" ao clicar no nome do seu root user e deslize a tela até encontrar a opção \"IAM user and role access to Billing information\".\n",
    "            <center style='margin-top:20px'> \n",
    "                <img src='img/05_iam_costs.png'>\n",
    "            </center>\n",
    "        </li>\n",
    "    </ul>\n",
    "</div>"
   ]
  },
  {
   "cell_type": "markdown",
   "id": "e2828728-f1c7-4698-9001-7777e214f186",
   "metadata": {
    "tags": []
   },
   "source": [
    "<h3 style='font-size:30px;font-style:italic'> Bills</h3>\n",
    "<div> \n",
    "    <ul style='font-size:20px'> \n",
    "        <li> \n",
    "            A seção \"Bills\" do dashboard disponibiliza uma variedade de detalhes sobre os gastos produzidos pela sua conta. Por exemplo, a Tab \"Charges by Service\" discrima os custos por serviço utilizado.\n",
    "            <center style='margin-top:20px'> \n",
    "                <img src='img/05_charges_service.png'>\n",
    "            </center>\n",
    "        </li>\n",
    "    </ul>\n",
    "</div>"
   ]
  },
  {
   "cell_type": "markdown",
   "id": "230f6220-1dde-4a35-a49f-1212473ce3bc",
   "metadata": {
    "tags": []
   },
   "source": [
    "<h3 style='font-size:30px;font-style:italic'> Free Tier e Budget</h3>\n",
    "<div> \n",
    "    <ul style='font-size:20px'> \n",
    "        <li> \n",
    "            A seção \"Free Tier\" o informa sobre o seu consumo dos recursos gratuitos da AWS.\n",
    "        </li>\n",
    "        <li>\n",
    "            Caso deseje ter alguma espécie de aviso a respeito do consumo disso, você pode criar um Budget em \"Budgets\". Se trata de um alerta de gastos do serviço.\n",
    "        </li>\n",
    "        <li>\n",
    "            No menu, especifique o email dos destinatários do alerta.\n",
    "            <center style='margin-top:20px'> \n",
    "                <img src='img/05_budgets.png'>\n",
    "            </center>\n",
    "        </li>\n",
    "    </ul>\n",
    "</div>"
   ]
  },
  {
   "cell_type": "markdown",
   "id": "59ee4644-3b65-435b-b87b-2bb18fa4655a",
   "metadata": {
    "tags": []
   },
   "source": [
    "<h2 style='font-size:30px'> EC2 Basics</h2>\n",
    "<div> \n",
    "    <ul style='font-size:20px'> \n",
    "        <li> \n",
    "            O Elastic Compute Cloud é um serviço de IaaS, cujas principais funcionalidades são:\n",
    "            <ul> \n",
    "                <li> \n",
    "                    Aluguel de VM's.\n",
    "                </li>\n",
    "                <li> \n",
    "                    Armazenamento de dados em drives virtuais (EBS).\n",
    "                </li>\n",
    "                <li> \n",
    "                    Distribuição de cargas entre máquinas (ELB).\n",
    "                </li>\n",
    "                <li>\n",
    "                    Escalar os serviços (ASG).\n",
    "                </li>\n",
    "            </ul>\n",
    "        </li>\n",
    "    </ul>\n",
    "</div>"
   ]
  },
  {
   "cell_type": "markdown",
   "id": "e0e6b0e2-2546-464d-b8b0-0c39bf58edf3",
   "metadata": {},
   "source": [
    "<h3 style='font-size:30px;font-style:italic'> EC2 Sizing and Configuration Options</h3>\n",
    "<div> \n",
    "    <ul style='font-size:20px'> \n",
    "        <li> \n",
    "            O EC2 oferece um alto poder de customização das VM's. Podemos escolher o OS, quantidade de cores, RAM e disco.\n",
    "        </li>\n",
    "        <li> \n",
    "            Conseguimos, inclusive, escolher o tipo de hardware que vamos utilizar (armazenamento, placa de rede). \n",
    "        </li>\n",
    "    </ul>\n",
    "</div>"
   ]
  },
  {
   "cell_type": "markdown",
   "id": "8f748e07-7161-4e3a-b488-df16075cab78",
   "metadata": {},
   "source": [
    "<h3 style='font-size:30px;font-style:italic'> EC2 User Data</h3>\n",
    "<div> \n",
    "    <ul style='font-size:20px'> \n",
    "        <li> \n",
    "            O EC2 User Data é um programa utilizado no bootstrap das nossas VM's. \n",
    "        </li>\n",
    "        <li> \n",
    "            <i> Bootstrap</i> é a execução de um comando na inicialização de um computador.\n",
    "        </li>\n",
    "        <li>\n",
    "            Essa operação apenas deve ser realizada pelo root user (ou seja, utilizando o comando \"sudo\").\n",
    "        </li>\n",
    "    </ul>\n",
    "</div>"
   ]
  },
  {
   "cell_type": "markdown",
   "id": "2744625b-147c-4a91-aaa2-ab35ce511c0d",
   "metadata": {
    "tags": []
   },
   "source": [
    "<h2 style='font-size:30px'> Create an EC2 Instance with EC2 User Data to have a Website Hands On</h2>\n",
    "<div> \n",
    "    <ul style='font-size:20px'> \n",
    "        <li> \n",
    "            Aqui, lançaremos nossa primeira instância EC2.\n",
    "        </li>\n",
    "        <li> \n",
    "            Em EC2, clique em \"Launch Instance\" e um menu se abrirá. Nele, você poderá aplicar todas as customizações mencionadas.\n",
    "        </li>\n",
    "    </ul>\n",
    "</div>"
   ]
  },
  {
   "cell_type": "markdown",
   "id": "612a8534-bb9b-4be6-a46d-574fc95a02f2",
   "metadata": {},
   "source": [
    "<h3 style='font-size:30px;font-style:italic'> Key Pair Login</h3>\n",
    "<div> \n",
    "    <ul style='font-size:20px'> \n",
    "        <li> \n",
    "            Caso desejemos acessar a VM via SSH, você terá que gerar um par de chaves encriptadas.\n",
    "        </li>\n",
    "        <li> \n",
    "            As configurações padrão possivelmente vão ser adequadas ao seu caso de uso.\n",
    "            <center style='margin-top:20px'> \n",
    "                <img src='img/05_key_pair.png'>\n",
    "            </center>\n",
    "        </li>\n",
    "    </ul>\n",
    "</div>"
   ]
  },
  {
   "cell_type": "markdown",
   "id": "3b1ceed9-3c6b-4374-915f-ba89f40cb57b",
   "metadata": {},
   "source": [
    "<p style='color:red'> Aula 36 (5:00)</p>"
   ]
  }
 ],
 "metadata": {
  "kernelspec": {
   "display_name": "Python 3 (ipykernel)",
   "language": "python",
   "name": "python3"
  },
  "language_info": {
   "codemirror_mode": {
    "name": "ipython",
    "version": 3
   },
   "file_extension": ".py",
   "mimetype": "text/x-python",
   "name": "python",
   "nbconvert_exporter": "python",
   "pygments_lexer": "ipython3",
   "version": "3.8.10"
  }
 },
 "nbformat": 4,
 "nbformat_minor": 5
}
