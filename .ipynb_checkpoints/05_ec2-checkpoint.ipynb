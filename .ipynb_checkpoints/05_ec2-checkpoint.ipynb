{
 "cells": [
  {
   "cell_type": "markdown",
   "id": "80ae916c-46be-4639-a9a6-3f72bca88772",
   "metadata": {},
   "source": [
    "<h1 style='font-size:40px'> EC2 - Elastic Compute Cloud</h1>"
   ]
  },
  {
   "cell_type": "markdown",
   "id": "7b2f1c11-fab1-4822-89b4-7f2c28714aac",
   "metadata": {
    "tags": []
   },
   "source": [
    "<h2 style='font-size:30px'> AWS Budget Setup</h2>\n",
    "<div> \n",
    "    <ul style='font-size:20px'> \n",
    "        <li> \n",
    "            Vamos, primeiramente, entender e configurar o nosso dashboard de custos.\n",
    "        </li>\n",
    "        <li> \n",
    "            Por padrão, os usuários IAM não terão acesso a esse painel, mesmo sendo administradores da conta. Para permitir isso, entre em \"Account\" ao clicar no nome do seu root user e deslize a tela até encontrar a opção \"IAM user and role access to Billing information\".\n",
    "            <center style='margin-top:20px'> \n",
    "                <img src='img/05_iam_costs.png'>\n",
    "            </center>\n",
    "        </li>\n",
    "    </ul>\n",
    "</div>"
   ]
  },
  {
   "cell_type": "markdown",
   "id": "3b1ceed9-3c6b-4374-915f-ba89f40cb57b",
   "metadata": {},
   "source": [
    "<p style='color:red'> Aula 34 (1:40) </p>"
   ]
  }
 ],
 "metadata": {
  "kernelspec": {
   "display_name": "Python 3 (ipykernel)",
   "language": "python",
   "name": "python3"
  },
  "language_info": {
   "codemirror_mode": {
    "name": "ipython",
    "version": 3
   },
   "file_extension": ".py",
   "mimetype": "text/x-python",
   "name": "python",
   "nbconvert_exporter": "python",
   "pygments_lexer": "ipython3",
   "version": "3.8.10"
  }
 },
 "nbformat": 4,
 "nbformat_minor": 5
}
