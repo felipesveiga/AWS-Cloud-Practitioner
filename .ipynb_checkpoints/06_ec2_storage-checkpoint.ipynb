{
 "cells": [
  {
   "cell_type": "markdown",
   "id": "071d9e61-28ef-4418-8abc-4b19c7cbc575",
   "metadata": {},
   "source": [
    "<h1 style='font-size:40px'>EC2 Instance Storage</h1>"
   ]
  },
  {
   "cell_type": "markdown",
   "id": "f51de84a-a45a-4a4c-a55c-10afb19160f6",
   "metadata": {
    "tags": []
   },
   "source": [
    "<h2 style='font-size:30px'> EBS Overview</h2>\n",
    "<div> \n",
    "    <ul style='font-size:20px'> \n",
    "        <li> \n",
    "            Os Elastic Block Store volumes são drives de rede que armazenam dados das suas instâncias durante seu funcionamento. O cliente é responsável por definir o tamanho do volume e sua IOPS. \n",
    "        </li>\n",
    "        <li> \n",
    "            Eles persistem os dados das VM's mesmo após a sua terminação. \n",
    "        </li>\n",
    "        <li> \n",
    "            Cada EBS volume pode ser vinculado a uma única instância por vez; eles também são restritos a uma única AZ, a não ser que você tire um snapshot antes de movê-lo.\n",
    "        </li>\n",
    "    </ul>\n",
    "</div>"
   ]
  },
  {
   "cell_type": "markdown",
   "id": "18633ee7-a503-4dd9-8cbd-1e1db0714115",
   "metadata": {},
   "source": [
    "<h3 style='font-size:30px;font-style:italic'> EBS Volume - Example</h3>\n",
    "<div> \n",
    "    <ul style='font-size:20px'>\n",
    "        <li> \n",
    "            Uma VM pode ser associada a dois EBS Volumes distintos simultaneamente.\n",
    "        </li>\n",
    "        <li> \n",
    "            Também conseguimos manter um Volume desvinculado de qualquer instância para usos futuros.\n",
    "            <center style='margin-top:20px'>\n",
    "                <img src='img/06_ebs_diagram.png'>\n",
    "            </center>\n",
    "        </li>\n",
    "     </ul>\n",
    "</div>"
   ]
  },
  {
   "cell_type": "markdown",
   "id": "e9b3a5ea-99d7-44d9-995e-03ef211bf974",
   "metadata": {},
   "source": [
    "<h3 style='font-size:30px;font-style:italic'> EBS Volume - Delete on Termination Attribute</h3>\n",
    "<div> \n",
    "    <ul style='font-size:20px'>\n",
    "        <li> \n",
    "            Por padrão, o primeiro EBS Volume da VM (o \"root\") será configurado para ser apagado quando a terminamos. Os demais Volumes que desejarmos criar serão mantidos.\n",
    "        </li>\n",
    "        <li> \n",
    "            No entanto, essas preferências podem ser ajustadas no menu de criação da Instância.\n",
    "            <center style='margin-top:20px'> \n",
    "                <img src='img/06_ebs_delete.png'>\n",
    "            </center>\n",
    "        </li>\n",
    "     </ul>\n",
    "</div>"
   ]
  },
  {
   "cell_type": "markdown",
   "id": "b618e41e-00a6-4ded-9057-4f4fd48e6ffa",
   "metadata": {
    "tags": []
   },
   "source": [
    "<h2 style='font-size:30px'> EBS Hands On</h2>\n",
    "<div> \n",
    "    <ul style='font-size:20px'> \n",
    "        <li> \n",
    "            No canto esquerdo do menu EC2, clique em Volumes e será apresentada uma relação dos EBS Volumes disponíveis. Na tela, conseguimos criar novos drives.\n",
    "        </li>\n",
    "        <li> \n",
    "            Uma vez gerado, associe o volume à VM clicando em Actions. Lembre-se de que ele devem sempre ser associado à mesma AZ de sua instância.\n",
    "            <center style='margin-top:20px'> \n",
    "                <img src='img/06_attach_volume.png'>\n",
    "            </center>\n",
    "        </li>\n",
    "    </ul>\n",
    "</div>"
   ]
  },
  {
   "cell_type": "markdown",
   "id": "602b52ff-7e64-4b64-bbd7-b54285186f32",
   "metadata": {
    "tags": []
   },
   "source": [
    "<h2 style='font-size:30px'> EBS Snapshots Overview</h2>\n",
    "<div> \n",
    "    <ul style='font-size:20px'> \n",
    "        <li> \n",
    "            Snapshots são backups dos EBS Volumes. É graças a eles que podemos transferir os dados de uma AZ para outra.\n",
    "        </li>\n",
    "        <li> \n",
    "            É indicado que nós desvinculemos o drive da instância antes de tirarmos o snapshot. \n",
    "        </li>\n",
    "    </ul>\n",
    "</div>"
   ]
  },
  {
   "cell_type": "markdown",
   "id": "5cd46ff2-ac43-4793-93a1-0cf102fc4f24",
   "metadata": {},
   "source": [
    "<h3 style='font-size:30px;font-style:italic'> EBS Snapshot Archive</h3>\n",
    "<div> \n",
    "    <ul style='font-size:20px'>\n",
    "        <li> \n",
    "            Por padrão, snapshots são armazenados no Amazon S3. No entanto, esse serviço pode gerar custos demais em backups para uso de longo prazo. \n",
    "        </li>\n",
    "        <li> \n",
    "            Nessa situação, o EBS Snapshot Archive aparece como a melhor solução. Esse sistema de armazenamento oferece uma redução de 75% nos gastos; a recuperação do backup leva até 72 horas para ser completo.\n",
    "        </li>\n",
    "     </ul>\n",
    "</div>"
   ]
  },
  {
   "cell_type": "markdown",
   "id": "75b8587d-ea65-4e1a-a896-4f2139493996",
   "metadata": {},
   "source": [
    "<h3 style='font-size:30px;font-style:italic'> Recycle Bin for Snapshots</h3>\n",
    "<div> \n",
    "    <ul style='font-size:20px'>\n",
    "        <li> \n",
    "            Podemos criar uma cesta de reciclagem que guardará snapshots deletados. Isso evitará a perda de dados apagados por engano.\n",
    "        </li>\n",
    "        <li> \n",
    "            O usuário é responsável por escolher o tempo de retenção dos backups apagados.\n",
    "        </li>\n",
    "     </ul>\n",
    "</div>"
   ]
  },
  {
   "cell_type": "markdown",
   "id": "3d031add-d89b-4b32-90fe-b837be410106",
   "metadata": {
    "tags": []
   },
   "source": [
    "<h2 style='font-size:30px'> EBS Snapshots Hands On</h2>\n",
    "<div> \n",
    "    <ul style='font-size:20px'> \n",
    "        <li> \n",
    "            O menu do EC2, na seção de Snapshots, oferece todas as utilidades mencionadas. Por lá, conseguimos criar snapshots, assim como gerar Volumes a partir de backups.\n",
    "        </li>\n",
    "    </ul>\n",
    "</div>"
   ]
  },
  {
   "cell_type": "markdown",
   "id": "a2885048-ebbc-44d4-81fd-284c5d62ef9c",
   "metadata": {},
   "source": [
    "<h3 style='font-size:30px;font-style:italic'> Cópia de Snapshots</h3>\n",
    "<div> \n",
    "    <ul style='font-size:20px'>\n",
    "        <li> \n",
    "            Quando criamos uma cópia de nosso backup, podemos escolher a qual região queremos alocá-la. É dessa forma que conseguimos transferir dados de um Volume para outras localidades.\n",
    "            <center style='margin-top:20px'>\n",
    "                <img src='img/06_copy_snapshot.png'>\n",
    "            </center>\n",
    "        </li>\n",
    "     </ul>\n",
    "</div>"
   ]
  },
  {
   "cell_type": "markdown",
   "id": "fbeeb9eb-852d-4f57-9963-3e67ec280370",
   "metadata": {},
   "source": [
    "<h3 style='font-size:30px;font-style:italic'> Recycle Bin</h3>\n",
    "<div> \n",
    "    <ul style='font-size:20px'>\n",
    "        <li> \n",
    "            Na própria interface de Snapshots, há um botão que nos direciona à página de criação dos Recycle Bins. Por lá, você consegue criar as suas lixeiras com seu respectivo tempo de duração.\n",
    "        </li>\n",
    "        <li>\n",
    "            Quando deletarmos o snapshot, ele será direcionado à lixeira que criamos.\n",
    "            <center style='margin-top:20px'> \n",
    "                <img src='img/06_recycle.png'>\n",
    "            </center>\n",
    "        </li>\n",
    "     </ul>\n",
    "</div>"
   ]
  },
  {
   "cell_type": "markdown",
   "id": "0201826a-5fb6-4f9c-ae8d-f1719135ff75",
   "metadata": {},
   "source": [
    "<h2 style='font-size:30px'> AMI Overview</h2>\n",
    "<div> \n",
    "    <ul style='font-size:20px'> \n",
    "        <li> \n",
    "        </li>\n",
    "    </ul>\n",
    "</div>"
   ]
  },
  {
   "cell_type": "markdown",
   "id": "75203a06-c0ed-4ff1-ab5b-fc4b18aaf3b7",
   "metadata": {},
   "source": [
    "<p style='color:red'> AMI Overview</p>"
   ]
  }
 ],
 "metadata": {
  "kernelspec": {
   "display_name": "Python 3 (ipykernel)",
   "language": "python",
   "name": "python3"
  },
  "language_info": {
   "codemirror_mode": {
    "name": "ipython",
    "version": 3
   },
   "file_extension": ".py",
   "mimetype": "text/x-python",
   "name": "python",
   "nbconvert_exporter": "python",
   "pygments_lexer": "ipython3",
   "version": "3.8.10"
  }
 },
 "nbformat": 4,
 "nbformat_minor": 5
}
