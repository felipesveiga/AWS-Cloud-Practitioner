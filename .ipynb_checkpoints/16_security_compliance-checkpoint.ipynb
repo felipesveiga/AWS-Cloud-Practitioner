{
 "cells": [
  {
   "cell_type": "markdown",
   "id": "2a2d6e47-5c26-40ef-97d5-fb26c8baefc7",
   "metadata": {},
   "source": [
    "<h1 style='font-size:40px'> Security & Compliance</h1>"
   ]
  },
  {
   "cell_type": "markdown",
   "id": "43ce3059-1073-4371-86a7-55ab06df0743",
   "metadata": {},
   "source": [
    "<h2 style='font-size:30px'>  DDoS Protection: WAF & Shield</h2>\n",
    "<div> \n",
    "    <ul style='font-size:20px'> \n",
    "        <li>\n",
    "            O Distributed Denial-of-Service é uma modalidade de ataque que busca sobre-onerar os servidores de sua aplicação com múltiplas requisições.\n",
    "        </li>\n",
    "        <li>\n",
    "            A AWS tem alguns produtos que protegem as suas aplicações contra esse tipo de ofensiva.\n",
    "        </li>\n",
    "    </ul>\n",
    " </div>"
   ]
  },
  {
   "cell_type": "markdown",
   "id": "f5b22fc5-bc34-4497-b0fa-8f9d6f20d67f",
   "metadata": {},
   "source": [
    "<h2 style='font-size:30px'>  Shared Responsibility Model: Reminders & Examples</h2>\n",
    "<div> \n",
    "    <ul style='font-size:20px'> \n",
    "        <li>\n",
    "            Breve revisão sobre o Shared Responsibility Model da AWS.\n",
    "        </li>\n",
    "        <li>\n",
    "            De maneira geral, a Amazon deve garantir a disponibilidade de seus serviços, enquanto que os clientes devem se preocupar com as suas configurações gerais.\n",
    "        </li>\n",
    "        <li>\n",
    "            A AWS adquire uma quantidade maior de responsabilidades nos serviços serveless. É de obrigação dela ter que lidar com as atualizações dos OS's e softwares dos servidores.\n",
    "        </li>\n",
    "    </ul>\n",
    " </div>"
   ]
  },
  {
   "cell_type": "markdown",
   "id": "15bef343-950f-4ea0-a87c-9a724090c47f",
   "metadata": {},
   "source": [
    "<h3 style='font-size:30px;font-style:italic'> AWS Shield</h3>\n",
    "<div> \n",
    "    <ul style='font-size:20px'> \n",
    "        <li> \n",
    "            Utilizado pelo CloudFront e Route53. Seu serviço padrão previne ataques dirigidos às camdas 3 e 4. \n",
    "        </li>\n",
    "        <li>\n",
    "            Sua versão paga oferece suporte 24/7 e defesa a ataques mais sofisticados. Também evita taxas maiores provenientes dos picos dos DDoS.\n",
    "        </li>\n",
    "    </ul>\n",
    " </div>"
   ]
  },
  {
   "cell_type": "markdown",
   "id": "030a51f7-e3cd-432c-8f72-8e86b8627c7a",
   "metadata": {},
   "source": [
    "<h3 style='font-size:30px;font-style:italic'> AWS WAF</h3>\n",
    "<div> \n",
    "    <ul style='font-size:20px'> \n",
    "        <li> \n",
    "            Serviço de camada 7 (HTTP). Nos permite criar uma lista de controle de acesso à nossa aplicação.\n",
    "        </li>\n",
    "        <li>\n",
    "            Essa lista pode mencionar endereços de IP, HTTP Headers e, até mesmo, países.\n",
    "        </li>\n",
    "        <li>\n",
    "            Também podemos definir uma regra para bloquear o acesso de uma máquina, com base na quantidade de requisições já feitas.\n",
    "        </li>\n",
    "    </ul>\n",
    " </div>"
   ]
  },
  {
   "cell_type": "markdown",
   "id": "4c1d2792-3d9c-4a40-8d5f-f88223506fd3",
   "metadata": {},
   "source": [
    "<h2 style='font-size:30px'>  AWS Network Firewall</h2>\n",
    "<div> \n",
    "    <ul style='font-size:20px'> \n",
    "        <li>\n",
    "            Oferece proteção integral à toda sua VPC (desde camada 3 à 7).\n",
    "        </li>\n",
    "        <li>\n",
    "            Com ele, você poderá monitorar o tráfego entre VPC's (Peer, Direct Connect...) e de sua rede com a internet.\n",
    "        </li>\n",
    "    </ul>\n",
    " </div>"
   ]
  },
  {
   "cell_type": "markdown",
   "id": "adb7a363-412d-48e4-90f6-978f7c0d5cc0",
   "metadata": {},
   "source": [
    "<h2 style='font-size:30px'>  AWS Firewall Manager</h2>\n",
    "<div> \n",
    "    <ul style='font-size:20px'> \n",
    "        <li>\n",
    "            Possibilita a administração geral das políticas de segurança de todas as contas AWS de sua organização.\n",
    "        </li>\n",
    "        <li>\n",
    "            Com ele, você poderá impor um conjunto de regras que seus Security Groups, WAF's e firewalls deverão seguir.\n",
    "        </li>\n",
    "    </ul>\n",
    " </div>"
   ]
  },
  {
   "cell_type": "markdown",
   "id": "e14b039a-dd8e-430d-8299-74e5285654b5",
   "metadata": {
    "jp-MarkdownHeadingCollapsed": true
   },
   "source": [
    "<h2 style='font-size:30px'>  Penetration Testing</h2>\n",
    "<div> \n",
    "    <ul style='font-size:20px'> \n",
    "        <li>\n",
    "             A AWS permite que seus clientes testem a segurança de 8 de seus serviços, sem aviso prévio (EC2, ELB, Lambda...).\n",
    "        </li>\n",
    "        <li>\n",
    "            No entanto, desafios de DDoS e outros ataques são expressamente proibidos pela AWS.\n",
    "        </li>\n",
    "    </ul>\n",
    " </div>"
   ]
  },
  {
   "cell_type": "markdown",
   "id": "0f106d7b-25f1-4134-9b02-2c46c73598ad",
   "metadata": {},
   "source": [
    "<h2 style='font-size:30px'> Encryption with KMS & CloudHSM</h2>\n",
    "<div> \n",
    "    <ul style='font-size:20px'> \n",
    "        <li>\n",
    "            A AWS oferece soluções para encriptação de dados sensíveis. Eles podem ser ocultados tanto at rest (quando estão armazenados num servidor), quanto in transit (enquanto estão sendo transferidos de um dispositivo a outro, como ocorre em VPN's).\n",
    "        </li>\n",
    "    </ul>\n",
    " </div>"
   ]
  },
  {
   "cell_type": "markdown",
   "id": "eeb87de6-7c47-4db3-b70d-7fd77b5944ca",
   "metadata": {
    "jp-MarkdownHeadingCollapsed": true
   },
   "source": [
    "<h3 style='font-size:30px;font-style:italic'> AWS KMS</h3>\n",
    "<div> \n",
    "    <ul style='font-size:20px'> \n",
    "        <li> \n",
    "             KMS é o serviço de encriptação de dados da AWS. No caso, a própria Amazon gerencia as chaves de encriptação para nós.\n",
    "        </li>\n",
    "        <li>\n",
    "            Alguns serviços automaticamente encriptam os dados, enquanto que outros o fazem somente sob consentimento do cliente.\n",
    "        </li>\n",
    "    </ul>\n",
    " </div>"
   ]
  },
  {
   "cell_type": "markdown",
   "id": "355984d1-2b77-4589-83f7-8319436c19ce",
   "metadata": {},
   "source": [
    "<h3 style='font-size:30px;font-style:italic'> CloudHSM</h3>\n",
    "<div> \n",
    "    <ul style='font-size:20px'> \n",
    "        <li> \n",
    "            É o serviço em que a AWS oferece o próprio hardware de encriptação. Com ele o cliente poderá gerenciar as chaves por si só.\n",
    "        </li>\n",
    "    </ul>\n",
    " </div>"
   ]
  },
  {
   "cell_type": "markdown",
   "id": "61b14bb9-39d2-4fe6-b124-e0fad7421a29",
   "metadata": {},
   "source": [
    "<h2 style='font-size:30px'> AWS Certificate Manager (ACM) Overview</h2>\n",
    "<div> \n",
    "    <ul style='font-size:20px'> \n",
    "        <li>\n",
    "            O AWS Certificate Manager é o serviço voltado à geração de certificados SSL/TLS.\n",
    "        </li>\n",
    "        <li>\n",
    "            Suporte para certificados TLS tanto públicos, quanto privados. \n",
    "        </li>\n",
    "        <li>\n",
    "            Integrado com ELB, CloudFront e API Gateway.\n",
    "        </li>\n",
    "    </ul>\n",
    " </div>"
   ]
  },
  {
   "cell_type": "markdown",
   "id": "f96ed32d-c828-4932-b1b9-e074c6552024",
   "metadata": {},
   "source": [
    "<h2 style='font-size:30px'>  Secrets Manager Overview</h2>\n",
    "<div> \n",
    "    <ul style='font-size:20px'> \n",
    "        <li>\n",
    "             Serviço de gerenciamento de senhas da AWS. Essas são encriptadas pelo KMS.\n",
    "        </li>\n",
    "        <li>\n",
    "            É capaz de impor rotação delas por uma periodicidade pré-determinada.\n",
    "        </li>\n",
    "        <li>\n",
    "            Integração com o RDS.\n",
    "        </li>\n",
    "    </ul>\n",
    " </div>"
   ]
  },
  {
   "cell_type": "markdown",
   "id": "9c02d0db-38b5-4cfa-a869-9fdfa68fd61f",
   "metadata": {},
   "source": [
    "<h2 style='font-size:30px'> Artifact Overview</h2>\n",
    "<div> \n",
    "    <ul style='font-size:20px'> \n",
    "        <li>\n",
    "            Portal dentro do qual você poderá visualizar acordos da AWS e documentos de compliance.\n",
    "        </li>\n",
    "    </ul>\n",
    " </div>"
   ]
  },
  {
   "cell_type": "markdown",
   "id": "e3e419dd-ffe5-4e4a-b380-6ca2720094ae",
   "metadata": {},
   "source": [
    "<h2 style='font-size:30px'> GuardDuty Overview</h2>\n",
    "<div> \n",
    "    <ul style='font-size:20px'> \n",
    "        <li>\n",
    "            Serviço de detecção de ameaças à sua conta AWS. Utiliza ML na análise de logs de serviços como o CloudTrail e VPC.\n",
    "        </li>\n",
    "        <li>\n",
    "            Uma vez detectada a ameaça, podemos acionar o Event Bridge para que ele ative uma Lambda, ou SNS.\n",
    "        </li>\n",
    "        <li>\n",
    "            Capaz de nos proteger contra ataques de Crypto Currency.\n",
    "        </li>\n",
    "    </ul>\n",
    " </div>"
   ]
  },
  {
   "cell_type": "markdown",
   "id": "81c84532-6a9c-4e33-9491-112d69275ab7",
   "metadata": {},
   "source": [
    "<h2 style='font-size:30px'> Inspector Overview</h2>\n",
    "<div> \n",
    "    <ul style='font-size:20px'> \n",
    "        <li>\n",
    "            Serviço de detecção de vulnerabilidades.\n",
    "        </li>\n",
    "        <li>\n",
    "            Pode atuar juntamente com o SSM Agent a fim de detectar possíveis problemas com o OS da máquina. Além disso, consegue conferir imagens de containers e funções Lambda, quando são deployados. \n",
    "        </li>\n",
    "        <li>\n",
    "            Baseia suas avaliações de risco em uma base de dados conhecida como CVE. Confere uma pontuação de periculosidade para cada vulnerabilidade.\n",
    "        </li>\n",
    "    </ul>\n",
    " </div>"
   ]
  },
  {
   "cell_type": "markdown",
   "id": "b1609c93-4823-4034-bf2e-3da78ed50adf",
   "metadata": {},
   "source": [
    "<h2 style='font-size:30px'> Config Overview</h2>\n",
    "<div> \n",
    "    <ul style='font-size:20px'> \n",
    "        <li>\n",
    "             Serviço de registro das configurações aplicadas em cada um de seus serviços da AWS. Com ele, você poderá conferir de maneira centralizada as preferências que você decidiu em cada recurso tido.\n",
    "        </li>\n",
    "        <li>\n",
    "            Com ele, você poderá definir alertas SNS para toda a vez em que uma aplicação sofrer algum ajuste. També, conseguirá encaminhar esses dados de configuração ao S3.\n",
    "        </li>\n",
    "        <li>\n",
    "            Serviço regional, mas pode ser configurado para abranger todas as regiões e contas.\n",
    "        </li>\n",
    "    </ul>\n",
    " </div>"
   ]
  },
  {
   "cell_type": "markdown",
   "id": "47096562-5940-4369-9f90-fb2357c3ce8a",
   "metadata": {},
   "source": [
    "<p style='color:red'> Vi Aulas 191, 192; Iniciei 193; Aula 193 (1:30)</p>"
   ]
  },
  {
   "cell_type": "markdown",
   "id": "f6ed3423-d391-46b8-a5d1-58b0779352ae",
   "metadata": {},
   "source": [
    "<p style='color:red'> Vi aulas 187 e 188; Aula 189; DESLIGAR VM'S ao final da aula!!</p>"
   ]
  }
 ],
 "metadata": {
  "kernelspec": {
   "display_name": "Python 3 (ipykernel)",
   "language": "python",
   "name": "python3"
  },
  "language_info": {
   "codemirror_mode": {
    "name": "ipython",
    "version": 3
   },
   "file_extension": ".py",
   "mimetype": "text/x-python",
   "name": "python",
   "nbconvert_exporter": "python",
   "pygments_lexer": "ipython3",
   "version": "3.11.7"
  }
 },
 "nbformat": 4,
 "nbformat_minor": 5
}
