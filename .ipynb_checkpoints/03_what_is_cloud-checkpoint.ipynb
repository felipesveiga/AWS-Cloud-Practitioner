{
 "cells": [
  {
   "cell_type": "markdown",
   "id": "15fd0b41-bd33-4996-b87f-d0a7801ecce7",
   "metadata": {},
   "source": [
    "<h1 style='font-size:40px'> What is Cloud Computing?</h1>\n",
    "<h2 style='font-size:30px'> Traditional IT Overview</h2>\n",
    "<div> \n",
    "    <ul style='font-size:20px'> \n",
    "        <li> \n",
    "            Quando realizamos uma requisição a um site, nossos dados são primeiramente transferidos a um roteador. Esse equipamento é responsável por emiti-los até o servidor onde a página está hospedada.\n",
    "        </li>\n",
    "        <li> \n",
    "            A fim de garantir que o servidor correto receba o sinal, usa-se aparelhos conhecidos como switch. \n",
    "        </li>\n",
    "    </ul>\n",
    "</div>"
   ]
  },
  {
   "cell_type": "markdown",
   "id": "6cce1afc-41d1-4b9c-99fe-636ca0747ab5",
   "metadata": {},
   "source": [
    "<center> \n",
    "    <img src='img/03_signals.png'>\n",
    "</center>"
   ]
  },
  {
   "cell_type": "markdown",
   "id": "0679ad43-4b6d-43a2-b810-165ca941d4cf",
   "metadata": {},
   "source": [
    "<h3 style='font-size:30px;font-style:italic'> O problema dos Data Centers Locais</h3>\n",
    "<div> \n",
    "    <ul style='font-size:20px'> \n",
    "        <li> \n",
    "            Os donos do website - ou qualquer outro serviço - que é hospedado em um servidor local precisam lidar com uma série de problemas/riscos.\n",
    "        </li>\n",
    "        <li>\n",
    "            Poderíamos mencionar os custos de manutenção, necessidade de uma equipe disponível 24/7 e a possibilidade de desastres na localidade do data center.\n",
    "        </li>\n",
    "    </ul>\n",
    "</div>"
   ]
  },
  {
   "cell_type": "markdown",
   "id": "0630f931-b698-4b55-b248-9167e848ee5c",
   "metadata": {},
   "source": [
    "<h2 style='font-size:30px'> What is Cloud Computing?</h2>\n",
    "<div> \n",
    "    <ul style='font-size:20px'> \n",
    "        <li> \n",
    "            A Computação em Nuvem surgiu como uma solução às questões mencionadas. Essa consiste na utilização de um servidor remoto pertencente a um terceiro.\n",
    "        </li>\n",
    "        <li> \n",
    "            À medida que nossa demanda por processamento ou armazenamento aumenta, podemos requisitar o aumento ou troca de nossos servidores por outros instantaneamente. Dessa forma, nos certificamos de que sempre teremos um poder computacional em linha com nossas necessidades. \n",
    "        </li>\n",
    "    </ul>\n",
    "</div>"
   ]
  },
  {
   "cell_type": "markdown",
   "id": "b654445f-e4e6-4c5d-9a8c-02c810c8e3ed",
   "metadata": {},
   "source": [
    "<h3 style='font-size:30px;font-style:italic'> Modalidades de Nuvem</h3>\n",
    "<div> \n",
    "    <ul style='font-size:20px'> \n",
    "        <li> \n",
    "            <i> Nuvem Privada</i>: É um serviço de nuvem exclusivo a uma organização e não acessível fora dela. Isso não impede que os servidores sejam geridos por uma empresa terceira (ex: Rackspace).\n",
    "            <p style='margin-left:142px'> \n",
    "                Garante maior controle e segurança de dados sensíveis.\n",
    "            </p>\n",
    "        </li>\n",
    "        <li>\n",
    "            <i> Nuvem Pública</i>: É o fornecimento de poder computacional pertencente a um terceiro via Internet. \n",
    "        </li>\n",
    "        <li> \n",
    "            <i> Nuvem Híbrida</i>: É o uso simultâneo de um serviço de nuvem privada com um de núvem pública, garantindo segurança a dados sensíveis e flexibilidade computacional.\n",
    "        </li>\n",
    "    </ul>\n",
    "</div>"
   ]
  },
  {
   "cell_type": "markdown",
   "id": "8a11eb41-7532-4d60-af37-bcbca8ee3b8d",
   "metadata": {},
   "source": [
    "<h3 style='font-size:30px;font-style:italic'> Características do Cloud Computing</h3>\n",
    "<div> \n",
    "    <ul style='font-size:20px'> \n",
    "        <li> \n",
    "            <i> Auto-Serviço Sob Demanda</i>: Os clientes podem obter ou descartar recursos por conta própria, sem a necessidade de interação com um funcionário da AWS.\n",
    "        </li>\n",
    "        <li> \n",
    "            <i> Amplo Acesso a Recursos</i>: Os recursos disponíveis na rede da AWS podem ser consumidos de diversas maneiras.\n",
    "        </li>\n",
    "        <li> \n",
    "            <i> Multi-Posse e Compartilhamento de Recursos</i>: Todos os clientes do provedor usufruirão da mesma infraestrutura simultaneamente.\n",
    "        </li>\n",
    "        <li> \n",
    "            <i> Elasticidade e Escalabilidade</i>: A obtenção ou descarte de recursos acontece de maneira instantânea. Isso pode acontecer tanto por desejo do usuário, quanto via monitoramento da demanda por parte da AWS.\n",
    "        </li>\n",
    "        <li> \n",
    "            <i> Serviço sob Medida</i>: Pague apenas pelo poder computacional utilizado.\n",
    "        </li>\n",
    "    </ul>\n",
    "</div>"
   ]
  },
  {
   "cell_type": "markdown",
   "id": "53dd3461-b35d-45e7-b30a-a06b5e158b77",
   "metadata": {},
   "source": [
    "<h3 style='font-size:30px;font-style:italic'> Six Advantages of Cloud Computing</h3>\n",
    "<div> \n",
    "    <ul style='font-size:20px'> \n",
    "        <li> \n",
    "            <i> CAPEX por OPEX</i>: O Capital Expenditure será reduzido por conta do menor uso de servidores próprios. Por sua vez, o OPEX tende a crescer por conta das tarifas de aluguel da AWS.\n",
    "        </li>\n",
    "        <li> \n",
    "            <i> Se Beneficie das Economias de Escala</i>: A provisão de computação sob demanda oferece a otimização de custos à empresa.\n",
    "        </li>\n",
    "        <li> \n",
    "            <i> Parar de Estimar Capacidade Necessária</i>: A Escalabilidade da AWS torna dispensável a necessidade de cálculos de demandas futuras.\n",
    "        </li>\n",
    "        <li> \n",
    "            <i> Mais Velocidade e Agilidade</i>: A possibilidade de auto-serviço e escalabilidade acelera e agiliza a produtividade dos seus consumidores.\n",
    "        </li>\n",
    "        <li> \n",
    "            <i> Gastos zero com Data Centers</i>: Uma vez terceirizando a provisão de servidores, a posse de um data center torna-se desnecessária.\n",
    "        </li>\n",
    "        <li> \n",
    "            <i> Torne-se Global em Minutos</i>: Aproveite a presença mundial da AWS a fim de disponibilizar os serviços da sua empresa internacionalmente.\n",
    "        </li>\n",
    "    </ul>\n",
    "</div>"
   ]
  },
  {
   "cell_type": "markdown",
   "id": "5716fc8b-2704-4076-ac35-25880d7e2599",
   "metadata": {},
   "source": [
    "<p style='color:red'> Artigo Red Hat; The Different Types of Cloud Computing</p>"
   ]
  }
 ],
 "metadata": {
  "kernelspec": {
   "display_name": "Python 3 (ipykernel)",
   "language": "python",
   "name": "python3"
  },
  "language_info": {
   "codemirror_mode": {
    "name": "ipython",
    "version": 3
   },
   "file_extension": ".py",
   "mimetype": "text/x-python",
   "name": "python",
   "nbconvert_exporter": "python",
   "pygments_lexer": "ipython3",
   "version": "3.8.10"
  }
 },
 "nbformat": 4,
 "nbformat_minor": 5
}
