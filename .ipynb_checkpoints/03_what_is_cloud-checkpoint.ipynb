{
 "cells": [
  {
   "cell_type": "markdown",
   "id": "15fd0b41-bd33-4996-b87f-d0a7801ecce7",
   "metadata": {},
   "source": [
    "<h1 style='font-size:40px'> What is Cloud Computing?</h1>\n",
    "<h2 style='font-size:30px'> Traditional IT Overview</h2>\n",
    "<div> \n",
    "    <ul style='font-size:20px'> \n",
    "        <li> \n",
    "            Quando realizamos uma requisição a um site, nossos dados são primeiramente transferidos a um roteador. Esse equipamento é responsável por emiti-los até o servidor onde a página está hospedada.\n",
    "        </li>\n",
    "        <li> \n",
    "            A fim de garantir que o servidor correto receba o sinal, usa-se aparelhos conhecidos como switch. \n",
    "        </li>\n",
    "    </ul>\n",
    "</div>"
   ]
  },
  {
   "cell_type": "markdown",
   "id": "6cce1afc-41d1-4b9c-99fe-636ca0747ab5",
   "metadata": {},
   "source": [
    "<center> \n",
    "    <img src='img/03_signals.png'>\n",
    "</center>"
   ]
  },
  {
   "cell_type": "markdown",
   "id": "0679ad43-4b6d-43a2-b810-165ca941d4cf",
   "metadata": {},
   "source": [
    "<h3 style='font-size:30px;font-style:italic'> O problema dos Data Centers Locais</h3>\n",
    "<div> \n",
    "    <ul style='font-size:20px'> \n",
    "        <li> \n",
    "            Os donos do website - ou qualquer outro serviço - que é hospedado em um servidor local precisam lidar com uma série de problemas/riscos.\n",
    "        </li>\n",
    "        <li>\n",
    "            Poderíamos mencionar os custos de manutenção, necessidade de uma equipe disponível 24/7 e a possibilidade de desastres na localidade do data center.\n",
    "        </li>\n",
    "    </ul>\n",
    "</div>"
   ]
  },
  {
   "cell_type": "markdown",
   "id": "5716fc8b-2704-4076-ac35-25880d7e2599",
   "metadata": {},
   "source": [
    "<p style='color:red'> Descrição de requisição com servidores</p>"
   ]
  }
 ],
 "metadata": {
  "kernelspec": {
   "display_name": "Python 3 (ipykernel)",
   "language": "python",
   "name": "python3"
  },
  "language_info": {
   "codemirror_mode": {
    "name": "ipython",
    "version": 3
   },
   "file_extension": ".py",
   "mimetype": "text/x-python",
   "name": "python",
   "nbconvert_exporter": "python",
   "pygments_lexer": "ipython3",
   "version": "3.8.10"
  }
 },
 "nbformat": 4,
 "nbformat_minor": 5
}
