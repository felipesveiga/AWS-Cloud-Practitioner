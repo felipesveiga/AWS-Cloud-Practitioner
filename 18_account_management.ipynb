{
 "cells": [
  {
   "cell_type": "markdown",
   "id": "58a30b07-2b84-424e-8141-f61cfc89b092",
   "metadata": {},
   "source": [
    "<h1 style='font-size:40px'>Account Management, Billing & Support</h1>"
   ]
  },
  {
   "cell_type": "markdown",
   "id": "b7266c05-56cf-49b9-a32e-eca90edf6fb2",
   "metadata": {},
   "source": [
    "<h2 style='font-size:30px'> Organizations Overview</h2>\n",
    "<div> \n",
    "    <ul style='font-size:20px'> \n",
    "        <li> \n",
    "            Serviço focado em grandes empresas, que permite o gerenciamento de múltiplas contas AWS. Todas elas estarão sob responsabilidade da conta master.\n",
    "        </li>\n",
    "        <li>\n",
    "            O uso do AWS Organizations permite a centralização de pagamentos por um único método, e descontos, considerando o uso agregado de recursos (múltiplos S3, EC2...).\n",
    "        </li>\n",
    "        <li>\n",
    "            O Organizations ainda oferece o Service Control Policies (SCP), que permite a restrição de privilégios para as contas.\n",
    "        </li>\n",
    "    </ul>\n",
    " </div>"
   ]
  },
  {
   "cell_type": "markdown",
   "id": "3df9b3fb-d9a4-44ee-b012-3d0f58134bf0",
   "metadata": {},
   "source": [
    "<h3 style='font-size:30px;font-style:italic'> Multi Account Strategies</h3>\n",
    "<div> \n",
    "    <ul style='font-size:20px'> \n",
    "        <li> \n",
    "            O serviço permite diversas arquiteturas de contas. Podemos separá-las por departamento, ambiente de desenvolvimento, ou projeto!\n",
    "        </li>\n",
    "        <li>\n",
    "            É recomendável encaminhar os logs de todas as contas ao CloudTrail da conta master.\n",
    "        </li>\n",
    "    </ul>\n",
    " </div>"
   ]
  },
  {
   "cell_type": "markdown",
   "id": "5c55e7ae-3949-49d2-9533-57c0613d47fc",
   "metadata": {},
   "source": [
    "<p style='color:red'> Iniciei Aula 213; Aula 213 (2:35); DESLIGAR VM'S ao final da aula!!</p>"
   ]
  }
 ],
 "metadata": {
  "kernelspec": {
   "display_name": "Python 3 (ipykernel)",
   "language": "python",
   "name": "python3"
  },
  "language_info": {
   "codemirror_mode": {
    "name": "ipython",
    "version": 3
   },
   "file_extension": ".py",
   "mimetype": "text/x-python",
   "name": "python",
   "nbconvert_exporter": "python",
   "pygments_lexer": "ipython3",
   "version": "3.12.3"
  }
 },
 "nbformat": 4,
 "nbformat_minor": 5
}
