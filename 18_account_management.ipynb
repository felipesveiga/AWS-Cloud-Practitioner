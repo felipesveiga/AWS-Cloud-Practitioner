{
 "cells": [
  {
   "cell_type": "markdown",
   "id": "58a30b07-2b84-424e-8141-f61cfc89b092",
   "metadata": {},
   "source": [
    "<h1 style='font-size:40px'>Account Management, Billing & Support</h1>"
   ]
  },
  {
   "cell_type": "markdown",
   "id": "b7266c05-56cf-49b9-a32e-eca90edf6fb2",
   "metadata": {},
   "source": [
    "<h2 style='font-size:30px'> Organizations Overview</h2>\n",
    "<div> \n",
    "    <ul style='font-size:20px'> \n",
    "        <li> \n",
    "            Serviço focado em grandes empresas, que permite o gerenciamento de múltiplas contas AWS. Todas elas estarão sob responsabilidade da conta master.\n",
    "        </li>\n",
    "        <li>\n",
    "            O uso do AWS Organizations permite a centralização de pagamentos por um único método, e descontos, considerando o uso agregado de recursos (múltiplos S3, EC2...).\n",
    "        </li>\n",
    "        <li>\n",
    "            O Organizations ainda oferece o Service Control Policies (SCP), que permite a restrição de privilégios para as contas.\n",
    "        </li>\n",
    "    </ul>\n",
    " </div>"
   ]
  },
  {
   "cell_type": "markdown",
   "id": "3df9b3fb-d9a4-44ee-b012-3d0f58134bf0",
   "metadata": {},
   "source": [
    "<h3 style='font-size:30px;font-style:italic'> Multi Account Strategies</h3>\n",
    "<div> \n",
    "    <ul style='font-size:20px'> \n",
    "        <li> \n",
    "            O serviço permite diversas arquiteturas de contas. Podemos criar Organization Units (OU's), em que cada departamento receberá uma conta subordinada à nossa master.\n",
    "        </li>\n",
    "        <li>\n",
    "            É recomendável encaminhar os logs de todas as contas ao CloudTrail da conta master.\n",
    "        </li>\n",
    "    </ul>\n",
    " </div>"
   ]
  },
  {
   "cell_type": "markdown",
   "id": "bdc31ca0-0345-4627-b71f-1048e624143b",
   "metadata": {},
   "source": [
    "<figure>\n",
    "    <center style='margin-top:20px'>\n",
    "        <img src='img/18_ou.png'>\n",
    "            <figcaption> Sua organização receberá uma Root OU</figcaption>\n",
    "    </center>\n",
    "</figure>"
   ]
  },
  {
   "cell_type": "markdown",
   "id": "68d2a4fd-f921-4674-90bd-3115ca96349c",
   "metadata": {},
   "source": [
    "<h3 style='font-size:30px;font-style:italic'> Service Control Policies (SCP)</h3>\n",
    "<div> \n",
    "    <ul style='font-size:20px'> \n",
    "        <li> \n",
    "            O SCP é uma relação de quais serviços uma determinada OU/conta estará habilitada a consumir. Sua políticas são vigentes, inclusive para o root user da conta em questão.\n",
    "        </li>\n",
    "        <li>\n",
    "            O SCP apenas não consegue afetar roles relacionadas a serviços - roles que permitem os serviços AWS a se integrarem com o AWS Organizations. \n",
    "        </li>\n",
    "    </ul>\n",
    " </div>"
   ]
  },
  {
   "cell_type": "markdown",
   "id": "2c5d062f-8554-4097-a66f-61dd95d35463",
   "metadata": {},
   "source": [
    "<figure>\n",
    "    <center style='margin-top:20px'>\n",
    "        <img src='img/18_scp_hierarchy.png'>\n",
    "            <figcaption> Observe que as políticas de OU's subordinadas têm a capacidade de filtrarem as permissões das OU's superiores. Em face de policies contraditórias entre as unidades, precederá aquela da entidade superior.</figcaption>\n",
    "    </center>\n",
    "</figure>"
   ]
  },
  {
   "cell_type": "markdown",
   "id": "acd0fb04-a4da-4d14-b222-ee4646d5668e",
   "metadata": {
    "jp-MarkdownHeadingCollapsed": true
   },
   "source": [
    "<h2 style='font-size:30px'> Organizations Hands On</h2>\n",
    "<div> \n",
    "    <ul style='font-size:20px'> \n",
    "        <li> \n",
    "            Demonstração do uso do AWS Organizations.\n",
    "        </li>\n",
    "        <li>\n",
    "            Uma coisa que reparei foi que o SCP precisa ser habilitado para que funcione.\n",
    "        </li>\n",
    "    </ul>\n",
    " </div>"
   ]
  },
  {
   "cell_type": "markdown",
   "id": "f8a6a30a-68ae-4d4c-91af-49a1c32de892",
   "metadata": {
    "jp-MarkdownHeadingCollapsed": true
   },
   "source": [
    "<h2 style='font-size:30px'> Organizations Consolidated Billing</h2>\n",
    "<div> \n",
    "    <ul style='font-size:20px'> \n",
    "        <li> \n",
    "            Como já mencionado, o AWS Organizations permite que as cobranças de todas as contas sejam consolidadas em uma única só.  \n",
    "        </li>\n",
    "        <li>\n",
    "            Existe ainda um benefício relativo a Instâncias Reservadas, em que caso uma das sub-contas não esteja usufruindo de todas ao seu dispor, podemos conferir o sistema de precificação dessas máquinas a instâncias comuns.\n",
    "        </li>\n",
    "    </ul>\n",
    " </div>"
   ]
  },
  {
   "cell_type": "markdown",
   "id": "5c55e7ae-3949-49d2-9533-57c0613d47fc",
   "metadata": {},
   "source": [
    "<p style='color:red'> Terminei Aula 213; Aula 214; DESLIGAR VM'S ao final da aula!!</p>"
   ]
  }
 ],
 "metadata": {
  "kernelspec": {
   "display_name": "Python 3 (ipykernel)",
   "language": "python",
   "name": "python3"
  },
  "language_info": {
   "codemirror_mode": {
    "name": "ipython",
    "version": 3
   },
   "file_extension": ".py",
   "mimetype": "text/x-python",
   "name": "python",
   "nbconvert_exporter": "python",
   "pygments_lexer": "ipython3",
   "version": "3.12.3"
  }
 },
 "nbformat": 4,
 "nbformat_minor": 5
}
