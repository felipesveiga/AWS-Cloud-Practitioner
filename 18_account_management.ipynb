{
 "cells": [
  {
   "cell_type": "markdown",
   "id": "58a30b07-2b84-424e-8141-f61cfc89b092",
   "metadata": {},
   "source": [
    "<h1 style='font-size:40px'>Account Management, Billing & Support</h1>"
   ]
  },
  {
   "cell_type": "markdown",
   "id": "b7266c05-56cf-49b9-a32e-eca90edf6fb2",
   "metadata": {},
   "source": [
    "<h2 style='font-size:30px'> Organizations Overview</h2>\n",
    "<div> \n",
    "    <ul style='font-size:20px'> \n",
    "        <li> \n",
    "            Serviço focado em grandes empresas, que permite o gerenciamento de múltiplas contas AWS. Todas elas estarão sob responsabilidade da conta master.\n",
    "        </li>\n",
    "        <li>\n",
    "            O uso do AWS Organizations permite a centralização de pagamentos por um único método, e descontos, considerando o uso agregado de recursos (múltiplos S3, EC2...).\n",
    "        </li>\n",
    "        <li>\n",
    "            O Organizations ainda oferece o Service Control Policies (SCP), que permite a restrição de privilégios para as contas.\n",
    "        </li>\n",
    "    </ul>\n",
    " </div>"
   ]
  },
  {
   "cell_type": "markdown",
   "id": "3df9b3fb-d9a4-44ee-b012-3d0f58134bf0",
   "metadata": {},
   "source": [
    "<h3 style='font-size:30px;font-style:italic'> Multi Account Strategies</h3>\n",
    "<div> \n",
    "    <ul style='font-size:20px'> \n",
    "        <li> \n",
    "            O serviço permite diversas arquiteturas de contas. Podemos criar Organization Units (OU's), em que cada departamento receberá uma conta subordinada à nossa master.\n",
    "        </li>\n",
    "        <li>\n",
    "            É recomendável encaminhar os logs de todas as contas ao CloudTrail da conta master.\n",
    "        </li>\n",
    "    </ul>\n",
    " </div>"
   ]
  },
  {
   "cell_type": "markdown",
   "id": "bdc31ca0-0345-4627-b71f-1048e624143b",
   "metadata": {},
   "source": [
    "<figure>\n",
    "    <center style='margin-top:20px'>\n",
    "        <img src='img/18_ou.png'>\n",
    "            <figcaption> Sua organização receberá uma Root OU</figcaption>\n",
    "    </center>\n",
    "</figure>"
   ]
  },
  {
   "cell_type": "markdown",
   "id": "68d2a4fd-f921-4674-90bd-3115ca96349c",
   "metadata": {},
   "source": [
    "<h3 style='font-size:30px;font-style:italic'> Service Control Policies (SCP)</h3>\n",
    "<div> \n",
    "    <ul style='font-size:20px'> \n",
    "        <li> \n",
    "            O SCP é uma relação de quais serviços uma determinada OU/conta estará habilitada a consumir. Sua políticas são vigentes, inclusive para o root user da conta em questão.\n",
    "        </li>\n",
    "        <li>\n",
    "            O SCP apenas não consegue afetar roles relacionadas a serviços - roles que permitem os serviços AWS a se integrarem com o AWS Organizations. \n",
    "        </li>\n",
    "    </ul>\n",
    " </div>"
   ]
  },
  {
   "cell_type": "markdown",
   "id": "2c5d062f-8554-4097-a66f-61dd95d35463",
   "metadata": {},
   "source": [
    "<figure>\n",
    "    <center style='margin-top:20px'>\n",
    "        <img src='img/18_scp_hierarchy.png'>\n",
    "            <figcaption> Observe que as políticas de OU's subordinadas têm a capacidade de filtrarem as permissões das OU's superiores. Em face de policies contraditórias entre as unidades, precederá aquela da entidade superior.</figcaption>\n",
    "    </center>\n",
    "</figure>"
   ]
  },
  {
   "cell_type": "markdown",
   "id": "acd0fb04-a4da-4d14-b222-ee4646d5668e",
   "metadata": {
    "jp-MarkdownHeadingCollapsed": true
   },
   "source": [
    "<h2 style='font-size:30px'> Organizations Hands On</h2>\n",
    "<div> \n",
    "    <ul style='font-size:20px'> \n",
    "        <li> \n",
    "            Demonstração do uso do AWS Organizations.\n",
    "        </li>\n",
    "        <li>\n",
    "            Uma coisa que reparei foi que o SCP precisa ser habilitado para que funcione.\n",
    "        </li>\n",
    "    </ul>\n",
    " </div>"
   ]
  },
  {
   "cell_type": "markdown",
   "id": "f8a6a30a-68ae-4d4c-91af-49a1c32de892",
   "metadata": {},
   "source": [
    "<h2 style='font-size:30px'> Organizations Consolidated Billing</h2>\n",
    "<div> \n",
    "    <ul style='font-size:20px'> \n",
    "        <li> \n",
    "            Como já mencionado, o AWS Organizations permite que as cobranças de todas as contas sejam consolidadas em uma única só.  \n",
    "        </li>\n",
    "        <li>\n",
    "            Existe ainda um benefício relativo a Instâncias Reservadas, em que caso uma das sub-contas não esteja usufruindo de todas ao seu dispor, podemos conferir o sistema de precificação dessas máquinas a instâncias comuns.\n",
    "        </li>\n",
    "    </ul>\n",
    " </div>"
   ]
  },
  {
   "cell_type": "markdown",
   "id": "e9059d3a-1fe7-4752-8ea2-5bf7b8bd7674",
   "metadata": {
    "jp-MarkdownHeadingCollapsed": true
   },
   "source": [
    "<h2 style='font-size:30px'> AWS Control Tower Overview</h2>\n",
    "<div> \n",
    "    <ul style='font-size:20px'> \n",
    "        <li> \n",
    "            Permite a criação de um ambiente multi-contas (AWS Organizations), com a definição automática de algumas políticas de compliance.\n",
    "        </li>\n",
    "        <li>\n",
    "            Em seu menu, podemos já configurar ajustes de cobrança, criar OU's\n",
    "        </li>\n",
    "    </ul>\n",
    " </div>"
   ]
  },
  {
   "cell_type": "markdown",
   "id": "d4b152e4-dbc1-4320-a70b-487334ea1af4",
   "metadata": {
    "jp-MarkdownHeadingCollapsed": true
   },
   "source": [
    "<h2 style='font-size:30px'> AWS Resource Access Manager (AWS RAM)</h2>\n",
    "<div> \n",
    "    <ul style='font-size:20px'> \n",
    "        <li> \n",
    "            O AWS RAM possibilita o- compartilhamento de recursos de uma determinada conta com outras (S3 Buckets, VPC's).\n",
    "        </li>\n",
    "    </ul>\n",
    " </div>"
   ]
  },
  {
   "cell_type": "markdown",
   "id": "ba383abf-a988-44fb-9b8c-b04eb9b156e8",
   "metadata": {},
   "source": [
    "<h2 style='font-size:30px'> AWS Service Catalog - Overview</h2>\n",
    "<div> \n",
    "    <ul style='font-size:20px'> \n",
    "        <li> \n",
    "            Serviço que automatiza a criação de recursos AWS, de maneira padronizada.\n",
    "        </li>\n",
    "        <li>\n",
    "            O responsável depositará no Service Catalog templates de Cloud Formation, que serão utilizados na geração de novos recursos.\n",
    "        </li>\n",
    "    </ul>\n",
    " </div>"
   ]
  },
  {
   "cell_type": "markdown",
   "id": "ce4826d2-b37b-4b00-85b2-92cd2303bc15",
   "metadata": {},
   "source": [
    "<h2 style='font-size:30px'> Pricing Models of the Cloud</h2>\n",
    "<div> \n",
    "    <ul style='font-size:20px'> \n",
    "        <li> \n",
    "            A AWS oferece 4 principais sistemas de precificação:\n",
    "            <ul> \n",
    "                <li> \n",
    "                    <i> Pay as you go:</i> Pagamento de acordo com consumo do recurso.\n",
    "                </li>\n",
    "                <li> \n",
    "                    <i> Save when you reserve:</i> Reserve o recurso por um certo período de tempo.\n",
    "                </li>\n",
    "                <li> \n",
    "                    <i> Pay less by using more:</i> Precificação baseada no volume de uso do produto.\n",
    "                </li>\n",
    "                <li> \n",
    "                    <i> Pay less as AWS grows:</i> A AWS tende a baratear seus preços, conforme expande os seus recursos.\n",
    "                </li>\n",
    "            </ul>\n",
    "        </li>\n",
    "        <li>\n",
    "            A aula, de maneira geral, foi uma recapitulação dos sistemas de preços dos principais serviços da AWS.\n",
    "        </li>\n",
    "    </ul>\n",
    " </div>"
   ]
  },
  {
   "cell_type": "markdown",
   "id": "c5ac745b-2893-425c-b893-bb1ec8213bcc",
   "metadata": {},
   "source": [
    "<h2 style='font-size:30px'> Estimating Costs in the Cloud - Pricing Calculator</h2>\n",
    "<div> \n",
    "    <ul style='font-size:20px'> \n",
    "        <li> \n",
    "            A Pricing Calculator é uma simples ferramenta de estimativa de preços pelo uso de recursos da AWS. \n",
    "        </li>\n",
    "        <li>\n",
    "            Com ele, você poderá informar as configurações e o tempo de utilização pretendidos. A AWS retornará o valor esperado. \n",
    "        </li>\n",
    "    </ul>\n",
    " </div>"
   ]
  },
  {
   "cell_type": "markdown",
   "id": "269fc2d6-5b18-41a7-ac4f-ab616c0c6c3d",
   "metadata": {},
   "source": [
    "<h2 style='font-size:30px'> Tracking Costs in the Cloud - Billing Dashboard, Cost Allocation Tags, Reports</h2>\n",
    "<div> \n",
    "    <ul style='font-size:20px'> \n",
    "        <li> \n",
    "            Iremos explorar nesta aula mais 4 recursos da AWS voltados ao monitoramento de custos.\n",
    "        </li>\n",
    "    </ul>\n",
    " </div>"
   ]
  },
  {
   "cell_type": "markdown",
   "id": "3bef8eda-d78c-4ef3-8114-7879fde6d445",
   "metadata": {},
   "source": [
    "<h3 style='font-size:30px;font-style:italic'> Billing Dashboard</h3>\n",
    "<div> \n",
    "    <ul style='font-size:20px'> \n",
    "        <li> \n",
    "            Dashboard que fornece detalhamento sobre custos da sua conta.\n",
    "        </li>\n",
    "    </ul>\n",
    " </div>"
   ]
  },
  {
   "cell_type": "markdown",
   "id": "b558c2ac-5f97-41d3-bbe9-b328c7577078",
   "metadata": {},
   "source": [
    "<h3 style='font-size:30px;font-style:italic'> Cost Allocation Tags</h3>\n",
    "<div> \n",
    "    <ul style='font-size:20px'> \n",
    "        <li> \n",
    "            A AWS possibilita que você tenha a visão agregada sobre os custos com base nas tags de seus recursos.\n",
    "        </li>\n",
    "        <li>\n",
    "            As tags podem ser tanto definidas pelo usuário, quanto pela própria AWS.\n",
    "        </li>\n",
    "        <li>\n",
    "            Você ainda pode criar os chamados Resource Groups, que são grupos de recursos com tags em comum.\n",
    "        </li>\n",
    "    </ul>\n",
    " </div>"
   ]
  },
  {
   "cell_type": "markdown",
   "id": "db80b9c7-c191-41dd-9ebe-34d05bf3a88e",
   "metadata": {},
   "source": [
    "<h3 style='font-size:30px;font-style:italic'> Cost and Usage Reports</h3>\n",
    "<div> \n",
    "    <ul style='font-size:20px'> \n",
    "        <li> \n",
    "            São os relatórios que oferecem a visão mais granular sobre os custos da sua conta.\n",
    "        </li>\n",
    "        <li>\n",
    "            Informam quando um determinado custo foi cobrado, e por qual motivo!\n",
    "        </li>\n",
    "    </ul>\n",
    " </div>"
   ]
  },
  {
   "cell_type": "markdown",
   "id": "103ef1d1-d9bd-425e-acd5-8e69baf36794",
   "metadata": {},
   "source": [
    "<h3 style='font-size:30px;font-style:italic'> Cost Explorer</h3>\n",
    "<div> \n",
    "    <ul style='font-size:20px'> \n",
    "        <li> \n",
    "            Ferramenta que permite você criar relatórios customizados sobre custos e uso da AWS.\n",
    "        </li>\n",
    "        <li>\n",
    "            Capaz de agregar informações de todas as suas contas.\n",
    "        </li>\n",
    "        <li>\n",
    "            Inclui serviço de previsão de custos, com base em seu consumo nos últimos 12 meses\n",
    "        </li>\n",
    "    </ul>\n",
    " </div>"
   ]
  },
  {
   "cell_type": "markdown",
   "id": "e99996e1-3ef9-4e9a-8972-5014323737a0",
   "metadata": {},
   "source": [
    "<h2 style='font-size:30px'> Monitoring Costs in the Cloud - Billing Alarms & AWS Budgets</h2>"
   ]
  },
  {
   "cell_type": "markdown",
   "id": "3821e018-fdbe-4e06-8b35-6f144513b8d7",
   "metadata": {},
   "source": [
    "<h3 style='font-size:30px;font-style:italic'> Billing Alarms</h3>\n",
    "<div> \n",
    "    <ul style='font-size:20px'> \n",
    "        <li> \n",
    "            Como já vimos, podemos criar alarmes de custos, com base no volume atual de cobranças da sua conta.\n",
    "        </li>\n",
    "        <li>\n",
    "            Uma vez configurado, você receberá um aviso, assim que seu consumo ultrapassar o threshold determinado.\n",
    "        </li>\n",
    "    </ul>\n",
    " </div>"
   ]
  },
  {
   "cell_type": "markdown",
   "id": "822e7570-3ecb-4b31-a1a2-fbabe1579186",
   "metadata": {},
   "source": [
    "<h3 style='font-size:30px;font-style:italic'> Budgets</h3>\n",
    "<div> \n",
    "    <ul style='font-size:20px'> \n",
    "        <li> \n",
    "            Budgets são uma modalidade de alerta um pouco mais específica. Você deve definir um orçamento para uma determinada periodicidade. Quando o threshold for ultrapassado, dentro do período de tempo escolhido, um SNS será encaminhado para os emails definidos.\n",
    "        </li>\n",
    "        <li>\n",
    "            Existem 4 tipos de budgets: de uso, custo, reserva e saving plan.\n",
    "        </li>\n",
    "    </ul>\n",
    " </div>"
   ]
  },
  {
   "cell_type": "markdown",
   "id": "06e95fc5-ba67-4141-b038-0e8be19cd950",
   "metadata": {},
   "source": [
    "<h2 style='font-size:30px'> AWS Cost Anomaly Detection</h2>\n",
    "<div> \n",
    "    <ul style='font-size:20px'> \n",
    "        <li> \n",
    "            Serviço que utiliza ML a fim de identificar anomalias em uso e custos na AWS.\n",
    "        </li>\n",
    "        <li>\n",
    "            Monitora serviços, contas, tags...\n",
    "        </li>\n",
    "        <li>\n",
    "            Encaminha ao cliente um relatório com a causa raiz do desvio do padrão de uso via SNS.\n",
    "        </li>\n",
    "    </ul>\n",
    "</div>"
   ]
  },
  {
   "cell_type": "markdown",
   "id": "4ac6764b-3216-49e9-8a48-0d4698a9143a",
   "metadata": {},
   "source": [
    "<h2 style='font-size:30px'> AWS Service Quotas</h2>\n",
    "<div> \n",
    "    <ul style='font-size:20px'> \n",
    "        <li> \n",
    "            Serviço de imposição de cotas de uso dos recursos AWS.\n",
    "        </li>\n",
    "        <li>\n",
    "            Uma vez atingido o limite de uso, você pode definir alarmes no CloudWatch, desligar os seus recursos, ou providenciar uma expansão da sua cota.\n",
    "        </li>\n",
    "    </ul>\n",
    "</div>"
   ]
  },
  {
   "cell_type": "markdown",
   "id": "48fb0f57-e8ab-4c9e-99a0-0df7e69de4ef",
   "metadata": {},
   "source": [
    "<h2 style='font-size:30px'> AWS Trusted Advisor</h2>\n",
    "<div> \n",
    "    <ul style='font-size:20px'> \n",
    "        <li> \n",
    "            Serviço de aconselhamento de melhores práticas na AWS.\n",
    "        </li>\n",
    "        <li>\n",
    "            Providencia recomendações em questões como otimização de custos, segurança, tolerância a quedas...\n",
    "        </li>\n",
    "        <li>\n",
    "            Possui versão gratuita, mas o serviço completo é somente oferecido no Business & Enterprise Support Plan.\n",
    "        </li>\n",
    "    </ul>\n",
    "</div>"
   ]
  },
  {
   "cell_type": "markdown",
   "id": "3d8cf179-e147-4d20-b4df-3d2f26e06026",
   "metadata": {},
   "source": [
    "<h2 style='font-size:30px'> Support Plans for AWS</h2>\n",
    "<div> \n",
    "    <ul style='font-size:20px'> \n",
    "        <li> \n",
    "            A AWS oferece 4 planos de suporte a seus clientes, cada um com seu nível de priorização.\n",
    "        </li>\n",
    "    </ul>\n",
    "</div>"
   ]
  },
  {
   "cell_type": "markdown",
   "id": "c7f1787d-ab5a-43dd-9b52-f35a284d664b",
   "metadata": {},
   "source": [
    "<h3 style='font-size:30px;font-style:italic'> AWS Basic Support Plan</h3>\n",
    "<div> \n",
    "    <ul style='font-size:20px'> \n",
    "        <li> \n",
    "            Oferece acesso 24x7 ao serviço de consumidor, documentação, fóruns de suporte e tratados da AWS.\n",
    "        </li>\n",
    "        <li>\n",
    "            Acesso ao Personal Health Dashboard.\n",
    "        </li>\n",
    "        <li>\n",
    "            Acesso limitado ao Trusted Advisor.\n",
    "        </li>\n",
    "    </ul>\n",
    " </div>"
   ]
  },
  {
   "cell_type": "markdown",
   "id": "5c55e7ae-3949-49d2-9533-57c0613d47fc",
   "metadata": {},
   "source": [
    "<p style='color:red'> Terminei Aulas 227 a 229; Iniciei 230; Aula 230 (0:50); DESLIGAR VM'S ao final da aula!!</p>"
   ]
  }
 ],
 "metadata": {
  "kernelspec": {
   "display_name": "Python 3 (ipykernel)",
   "language": "python",
   "name": "python3"
  },
  "language_info": {
   "codemirror_mode": {
    "name": "ipython",
    "version": 3
   },
   "file_extension": ".py",
   "mimetype": "text/x-python",
   "name": "python",
   "nbconvert_exporter": "python",
   "pygments_lexer": "ipython3",
   "version": "3.12.3"
  }
 },
 "nbformat": 4,
 "nbformat_minor": 5
}
