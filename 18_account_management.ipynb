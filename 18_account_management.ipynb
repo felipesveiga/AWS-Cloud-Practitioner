{
 "cells": [
  {
   "cell_type": "markdown",
   "id": "58a30b07-2b84-424e-8141-f61cfc89b092",
   "metadata": {},
   "source": [
    "<h1 style='font-size:40px'>Account Management, Billing & Support</h1>"
   ]
  },
  {
   "cell_type": "markdown",
   "id": "5c55e7ae-3949-49d2-9533-57c0613d47fc",
   "metadata": {},
   "source": [
    "<p style='color:red'> Vi aulas 210 e 211; Fiz o quiz de ML; Seção 18; DESLIGAR VM'S ao final da aula!!</p>"
   ]
  }
 ],
 "metadata": {
  "kernelspec": {
   "display_name": "Python 3 (ipykernel)",
   "language": "python",
   "name": "python3"
  },
  "language_info": {
   "codemirror_mode": {
    "name": "ipython",
    "version": 3
   },
   "file_extension": ".py",
   "mimetype": "text/x-python",
   "name": "python",
   "nbconvert_exporter": "python",
   "pygments_lexer": "ipython3",
   "version": "3.12.3"
  }
 },
 "nbformat": 4,
 "nbformat_minor": 5
}
