{
 "cells": [
  {
   "cell_type": "markdown",
   "id": "2af93731-1df4-420f-9a90-c438650811a2",
   "metadata": {},
   "source": [
    "<h1 style='font-size:40px'> Leveraging the AWS Global Infrastructure</h1>\n",
    "<div> \n",
    "    <ul style='font-size:20px'> \n",
    "        <li>   \n",
    "            Aprenderemos nessa seção a utilizar os recursos da AWS voltados a aplicações multi/regiões.\n",
    "        </li>\n",
    "    </ul>\n",
    " </div>"
   ]
  },
  {
   "cell_type": "markdown",
   "id": "7092c3cf-ab72-486b-8b14-2558dfb5f127",
   "metadata": {},
   "source": [
    "<h2 style='font-size:30px'> Why Global Applications?</h2>\n",
    "<div> \n",
    "    <ul style='font-size:20px'> \n",
    "        <li>   \n",
    "            Globalizar nossas aplicações possibilita uma menor latência para usuários de outras partes do mundo, assim como diminui as chances de queda do serviço, em caso de desastres. \n",
    "        </li>\n",
    "        <li>\n",
    "            Vale também mencionar que disponibilizar o software em diversas localizações decresce o risco de quedas por ataques hackers.\n",
    "        </li>\n",
    "    </ul>\n",
    " </div>"
   ]
  },
  {
   "cell_type": "markdown",
   "id": "f408a7a5-d483-48d1-a22e-2dbaf29d9c94",
   "metadata": {},
   "source": [
    "<h3 style='font-size:30px;font-style:italic'> Edge Locations</h3>\n",
    "<div> \n",
    "    <ul style='font-size:20px'> \n",
    "        <li> \n",
    "            Edge Locations são data centers normalmente localizados em grandes centros urbanos cuja função é garantir uma rápida distribuição de conteúdo.\n",
    "        </li>\n",
    "        <li>\n",
    "            Esses servidores são de uso exclusivo dos serviços da AWS, e não podem ser acessados diretamente pelo usuário.\n",
    "        </li>\n",
    "    </ul>\n",
    " </div>"
   ]
  },
  {
   "cell_type": "markdown",
   "id": "a78c474d-8eab-4d56-bc87-e1a032191165",
   "metadata": {},
   "source": [
    "<h2 style='font-size:30px'> Route 53 Overview</h2>\n",
    "<div> \n",
    "    <ul style='font-size:20px'> \n",
    "        <li>   \n",
    "            O Route 53 é um serviço de DNS próprio da Amazon. Ele funciona para uma variedade de requisições (IPv4, IPv6, hostname-hostname...).\n",
    "        </li>\n",
    "    </ul>\n",
    " </div>"
   ]
  },
  {
   "cell_type": "markdown",
   "id": "3d10818a-76fa-4571-b4bd-aed6bb447bb1",
   "metadata": {},
   "source": [
    "<figure><center style='margin-top:20px'> \n",
    "    <img src='img/12_dns_diagram.png'>\n",
    "    <figcaption> Exemplo do funcionamento do Route 53.</figcaption>\n",
    "    </center>\n",
    "</figure>"
   ]
  },
  {
   "cell_type": "markdown",
   "id": "d7a97adf-b825-44de-b70b-2a7e29c6dd1b",
   "metadata": {},
   "source": [
    "<h3 style='font-size:30px;font-style:italic'> O que é DNS?</h3>\n",
    "<div> \n",
    "    <ul style='font-size:20px'> \n",
    "        <li> \n",
    "            O Domain Name System é um sistema de conversão de URL's para o IP do servidor que hospeda o site desejado.\n",
    "        </li>\n",
    "    </ul>\n",
    " </div>"
   ]
  },
  {
   "cell_type": "markdown",
   "id": "005696cb-3ed9-4ed6-a5d5-02fd9fe9c08a",
   "metadata": {},
   "source": [
    "<h3 style='font-size:30px;font-style:italic'> Routing Policies</h3>\n",
    "<div> \n",
    "    <ul style='font-size:20px'> \n",
    "        <li> \n",
    "            O Route 53 possui uma série de políticas de direcionamento do tráfego, junto com o processo de tradução dos endereços.\n",
    "        </li>\n",
    "    </ul>\n",
    " </div>"
   ]
  },
  {
   "cell_type": "markdown",
   "id": "ccc94266-a548-439c-bfc8-4e8517cbb94e",
   "metadata": {},
   "source": [
    "<h4 style='font-size:30px;font-style:italic;text-decoration:underline'> Simple Routing Policy</h4>\n",
    "<div> \n",
    "    <ul style='font-size:20px'> \n",
    "        <li> \n",
    "            É a tradução simples de um domain name para um endereço de IP.\n",
    "            <center style='margin-top:20px'> \n",
    "                <img src='img/12_simple_routing.png'>\n",
    "            </center>\n",
    "        </li>\n",
    "    </ul>\n",
    " </div>"
   ]
  },
  {
   "cell_type": "markdown",
   "id": "d6c9e3b3-764e-4083-a262-c11c846f4d22",
   "metadata": {},
   "source": [
    "<h4 style='font-size:30px;font-style:italic;text-decoration:underline'> Weighted Routing Policy</h4>\n",
    "<div> \n",
    "    <ul style='font-size:20px'> \n",
    "        <li> \n",
    "            Atua como um ELB, fazendo com que cada servidor receba uma porcentagem específica do tráfego.\n",
    "            <center style='margin-top:20px'> \n",
    "                <img src='img/12_weighted_policy.png'>\n",
    "            </center>\n",
    "        </li>\n",
    "    </ul>\n",
    " </div>"
   ]
  },
  {
   "cell_type": "markdown",
   "id": "896376d8-84da-40cd-bd72-43c47d9710fb",
   "metadata": {},
   "source": [
    "<h4 style='font-size:30px;font-style:italic;text-decoration:underline'> Latency Routing Policy</h4>\n",
    "<div> \n",
    "    <ul style='font-size:20px'> \n",
    "        <li> \n",
    "            Direciona as requisições para o servidor mais próximo de seu respectivo cliente.\n",
    "            <center style='margin-top:20px'> \n",
    "                <img src='img/12_latency_routing.png'>\n",
    "            </center>\n",
    "        </li>\n",
    "    </ul>\n",
    " </div>"
   ]
  },
  {
   "cell_type": "markdown",
   "id": "86537a3b-b2af-4341-a9e8-647c47cb69df",
   "metadata": {},
   "source": [
    "<h4 style='font-size:30px;font-style:italic;text-decoration:underline'> Failover Routing Policy</h4>\n",
    "<div> \n",
    "    <ul style='font-size:20px'> \n",
    "        <li> \n",
    "            Instruído a dirigir o tráfego para um servidor de backup, caso o principal venha a falhar.\n",
    "            <center style='margin-top:20px'> \n",
    "                <img src='img/12_failover_routing.png'>\n",
    "            </center>\n",
    "        </li>\n",
    "    </ul>\n",
    " </div>"
   ]
  },
  {
   "cell_type": "markdown",
   "id": "994f7db0-7db7-43de-b98a-13bdf252e50d",
   "metadata": {},
   "source": [
    "<h2 style='font-size:30px'> Route 53 Hands-On</h2>\n",
    "<div> \n",
    "    <ul style='font-size:20px'> \n",
    "        <li>   \n",
    "            Tutorial prático do Route 53. Os serviços utilizados aqui não estão inclusos na free-tier.\n",
    "        </li>\n",
    "    </ul>\n",
    " </div>"
   ]
  },
  {
   "cell_type": "markdown",
   "id": "6d756b06-b422-480d-ab1a-6de1d6d0f1df",
   "metadata": {},
   "source": [
    "<h2 style='font-size:30px'> CloudFront Overview</h2>\n",
    "<div> \n",
    "    <ul style='font-size:20px'> \n",
    "        <li>   \n",
    "            O CloudFront é um serviço de Content Delivery Network (CDN) para armazenamento em cache de queries bastante requisitadas na sua aplicação. Tem proteção DDoS, por meio de integração com Shield e AWS Web Application Firewall.\n",
    "        </li>\n",
    "        <li>\n",
    "            Em aplicações globais, a requisição de um cliente pode ser direcionada a um Point of Presence. Esse cluster de servidores irá requisitar os servidores reais da aplicação para resgatar o conteúdo desejado ao usuário.\n",
    "        </li>\n",
    "        <li>\n",
    "            Uma vez com esse resultado, o Point of Presence poderá armazená-lo em cache para caso outro usuário faça a mesma consulta.\n",
    "        </li>\n",
    "    </ul>\n",
    " </div>"
   ]
  },
  {
   "cell_type": "markdown",
   "id": "d992071f-0bdc-47eb-a3e2-ded3f9acf844",
   "metadata": {},
   "source": [
    "<h3 style='font-size:30px;font-style:italic'> Origins</h3>\n",
    "<div> \n",
    "    <ul style='font-size:20px'> \n",
    "        <li> \n",
    "            O ponto de origem das informações acessadas pelo CloudFront podem ser tanto Buckets do S3, quanto qualquer entidade alcançável com o protocolo HTTP.\n",
    "        </li>\n",
    "        <li>\n",
    "            No caso do S3, podemos associar o bucket ao serviço de Origin Access Control (OAC), que garantirá que apenas o CloudFront possa entrar nele.\n",
    "        </li>\n",
    "    </ul>\n",
    " </div>"
   ]
  },
  {
   "cell_type": "markdown",
   "id": "4f3f00e0-290c-46d8-9382-ceaa7ad69f69",
   "metadata": {},
   "source": [
    "<h2 style='font-size:30px'> S3 Transfer Acceleration</h2>\n",
    "<div> \n",
    "    <ul style='font-size:20px'> \n",
    "        <li>   \n",
    "            O S3 Transfer Acceleration é um serviço que busca aumentar a velocidade média de downloads e uploads de arquivos do S3.\n",
    "        </li>\n",
    "        <li>\n",
    "            Ao invés de encaminharmos os arquivos diretamente ao bucket, os transferimos a uma Edge Location, que os passará ao bucket por meio da rede privada da AWS.\n",
    "        </li>\n",
    "    </ul>\n",
    " </div>"
   ]
  },
  {
   "cell_type": "markdown",
   "id": "5090f1d6-b444-4260-8fc3-7e80abbf5638",
   "metadata": {},
   "source": [
    "<h2 style='font-size:30px'> AWS Global Accelerator</h2>\n",
    "<div> \n",
    "    <ul style='font-size:20px'> \n",
    "        <li>   \n",
    "            Serviço que busca acelerar as requisições feitas às aplicações disponibilizadas na AWS.\n",
    "        </li>\n",
    "        <li>\n",
    "            Basicamente, faz com que a requisição seja levada a uma edge location que, por sua vez, a encaminhará à aplicação por meio da rede interna da AWS. \n",
    "        </li>\n",
    "        <li>\n",
    "            Sua aplicação recebe dois IP estáticos com o uso desse serviço.\n",
    "        </li>\n",
    "    </ul>\n",
    " </div>"
   ]
  },
  {
   "cell_type": "markdown",
   "id": "d1687802-023e-4b7c-a5ba-d9853866f229",
   "metadata": {},
   "source": [
    "<h2 style='font-size:30px'> AWS Outposts</h2>\n",
    "<div> \n",
    "    <ul style='font-size:20px'> \n",
    "        <li> \n",
    "            AWS Outposts são server racks que possibilitam que você utilize serviços da AWS em sua infra on-premises. \n",
    "        </li>\n",
    "        <li>\n",
    "            Com isso, você poderá interagir com a sua infra adaptada da mesma forma como você lida com a infra AWS.\n",
    "        </li>\n",
    "        <li>\n",
    "            Possibilita que você consuma os serviços AWS com baixa latência e segurança dentro da infra da sua empresa!\n",
    "        </li>\n",
    "    </ul>\n",
    " </div>"
   ]
  },
  {
   "cell_type": "markdown",
   "id": "2bb048ad-c47b-4fbf-bc14-08080336c80b",
   "metadata": {},
   "source": [
    "<center style='margin-top:20px'> \n",
    "    <figure>\n",
    "        <img src='img/12_outposts_services.png'>\n",
    "        <figcaption> Alguns dos serviços disponíveis no AWS Outposts</figcaption>\n",
    "    </figure>\n",
    "</center>"
   ]
  },
  {
   "cell_type": "markdown",
   "id": "24ea23f1-a638-4cc6-b355-4241683345e0",
   "metadata": {},
   "source": [
    "<h2 style='font-size:30px'> AWS WaveLenght</h2>\n",
    "<div> \n",
    "    <ul style='font-size:20px'> \n",
    "        <li> \n",
    "        </li>\n",
    "    </ul>\n",
    " </div>"
   ]
  },
  {
   "cell_type": "markdown",
   "id": "f56b5e36-042f-4734-ad35-7b713df357bf",
   "metadata": {},
   "source": [
    "<p style='color:red'> Vi Aula 144; Aula 145; DESLIGAR VM'S ao final da aula!!</p>"
   ]
  }
 ],
 "metadata": {
  "kernelspec": {
   "display_name": "Python 3 (ipykernel)",
   "language": "python",
   "name": "python3"
  },
  "language_info": {
   "codemirror_mode": {
    "name": "ipython",
    "version": 3
   },
   "file_extension": ".py",
   "mimetype": "text/x-python",
   "name": "python",
   "nbconvert_exporter": "python",
   "pygments_lexer": "ipython3",
   "version": "3.11.7"
  }
 },
 "nbformat": 4,
 "nbformat_minor": 5
}
