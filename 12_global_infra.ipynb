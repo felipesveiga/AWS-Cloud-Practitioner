{
 "cells": [
  {
   "cell_type": "markdown",
   "id": "2af93731-1df4-420f-9a90-c438650811a2",
   "metadata": {},
   "source": [
    "<h1 style='font-size:40px'> Leveraging the AWS Global Infrastructure</h1>"
   ]
  },
  {
   "cell_type": "markdown",
   "id": "f56b5e36-042f-4734-ad35-7b713df357bf",
   "metadata": {},
   "source": [
    "<p style='color:red'> Vi Summary da seção 11 e fiz o Quis; Aula 137; DESLIGAR VM'S ao final da aula!!</p>"
   ]
  }
 ],
 "metadata": {
  "kernelspec": {
   "display_name": "Python 3 (ipykernel)",
   "language": "python",
   "name": "python3"
  },
  "language_info": {
   "codemirror_mode": {
    "name": "ipython",
    "version": 3
   },
   "file_extension": ".py",
   "mimetype": "text/x-python",
   "name": "python",
   "nbconvert_exporter": "python",
   "pygments_lexer": "ipython3",
   "version": "3.11.7"
  }
 },
 "nbformat": 4,
 "nbformat_minor": 5
}
