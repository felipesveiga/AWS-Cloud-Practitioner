{
 "cells": [
  {
   "cell_type": "markdown",
   "id": "fe6a2788-4f23-423b-adf4-06b9b81ed791",
   "metadata": {},
   "source": [
    "<h1 style='font-size:40px'> Other Compute Services: ECS, Lambda, Batch, Lightsail</h1>"
   ]
  },
  {
   "cell_type": "markdown",
   "id": "038a67e3-96a1-469c-9d6e-afba95416a92",
   "metadata": {},
   "source": [
    "<h2 style='font-size:30px'> What is Docker?</h2>\n",
    "<div> \n",
    "    <ul style='font-size:20px'> \n",
    "        <li> \n",
    "            Docker é uma plataforma de desenvolvimento de software voltada ao deploy de apps. Nós implantamos nossos projetos dentro de containers - ambientes isolados com seu próprio OS e softwares próprios.\n",
    "        </li>\n",
    "        <li>\n",
    "            Com os containers em mãos, podemos acionar nosso projeto em qualquer máquina, sem nos preocuparmos com problemas de compatibilidade ou de execução.\n",
    "        </li>\n",
    "        <li>\n",
    "            Sua principal vantagem é que podemos encaminhar diversos projetos para uma única VM, ao invés de termos que criar uma máquina para cada um.\n",
    "        </li>\n",
    "    </ul>\n",
    " </div>"
   ]
  },
  {
   "cell_type": "markdown",
   "id": "6f151cd1-296e-478e-8d2a-ab23dba48489",
   "metadata": {},
   "source": [
    "<h3 style='font-size:30px;font-style:italic'> Where are Docker Images Stored?</h3>\n",
    "<div> \n",
    "    <ul style='font-size:20px'> \n",
    "        <li> \n",
    "            O Docker possui um repositório público, de onde imagens de OS's e softwares podem ser baixadas.\n",
    "        </li>\n",
    "        <li>\n",
    "            A AWS ainda tem um repositório próprio, de onde podemos também baixar essas imagens (ECR).\n",
    "        </li>\n",
    "    </ul>\n",
    "</div>"
   ]
  },
  {
   "cell_type": "markdown",
   "id": "b1f1e959-19f3-426f-adbd-bd1a19eca857",
   "metadata": {},
   "source": [
    "<h2 style='font-size:30px'> ECS, Fargate & ECR Overview</h2>\n",
    "<h3 style='font-size:30px;font-style:italic'> ECS</h3>\n",
    "<div> \n",
    "    <ul style='font-size:20px'> \n",
    "        <li> \n",
    "            O ECS é um serviço que podemos criar containers de Docker em instâncias EC2. Tem integração com o ALB.\n",
    "        </li>\n",
    "        <li>\n",
    "            Com ele, a AWS lida com o ligamento e desligamento dos containers para nós. Ele sozinho escolherá a instância onde colocará o container.\n",
    "        </li>\n",
    "        <li>\n",
    "            No entanto, nós precisamos criar as VM's do EC2 por conta própria...\n",
    "        </li>\n",
    "    </ul>\n",
    " </div>"
   ]
  },
  {
   "cell_type": "markdown",
   "id": "56c0d522-4c10-4417-82b1-0868cf284e5c",
   "metadata": {},
   "source": [
    "<h3 style='font-size:30px;font-style:italic'> Fargate</h3>\n",
    "<div> \n",
    "    <ul style='font-size:20px'> \n",
    "        <li> \n",
    "            Serviço similar ao ECS, mas serveless. Ou seja, não precisamos criar uma VM com a qual ele vai interagir.\n",
    "        </li>\n",
    "        <li>\n",
    "            Você só vai precisar informar a quantidade de CPU e RAM necessária.\n",
    "        </li>\n",
    "    </ul>\n",
    " </div>"
   ]
  },
  {
   "cell_type": "markdown",
   "id": "c8726893-4753-42cb-a487-629a8d5bf21e",
   "metadata": {},
   "source": [
    "<h3 style='font-size:30px;font-style:italic'> ECR</h3>\n",
    "<div> \n",
    "    <ul style='font-size:20px'> \n",
    "        <li> \n",
    "            É um repositório, onde vamos armazenar imagens que poderão ser usadas pelo ECS ou Fargate.\n",
    "        </li>\n",
    "    </ul>\n",
    " </div>"
   ]
  },
  {
   "cell_type": "markdown",
   "id": "caad404d-8dc9-48ba-aa47-4498e665e0f7",
   "metadata": {},
   "source": [
    "<h2 style='font-size:30px'> Serveless Introduction</h2>\n",
    "<div> \n",
    "    <ul style='font-size:20px'> \n",
    "        <li> \n",
    "            Serveless é um termo utilizado para se referir a serviços de cloud em que o usuário final não precisa provisionar ou gerenciar servidores. Com isso, o desenvolvedor poderá se focar na parte essencial de sua aplicação (storage, DB's, etc).\n",
    "        </li>\n",
    "        <li>\n",
    "            Na AWS, podemos mencionar o S3, DynamoDB, Fargate e Lambda como serviços serveless.\n",
    "        </li>\n",
    "    </ul>\n",
    " </div>"
   ]
  },
  {
   "cell_type": "markdown",
   "id": "577485d4-cb5a-4fef-8e72-65f9b1f5f27b",
   "metadata": {},
   "source": [
    "<h2 style='font-size:30px'> Lambda Overview</h2>\n",
    "<div> \n",
    "    <ul style='font-size:20px'> \n",
    "        <li> \n",
    "            Lambda é o serviço da AWS de execução automática de pequenas funções/algoritmos. Podemos entendê-lo como um Agendador de Tarefas da AWS.\n",
    "        </li>\n",
    "        <li>\n",
    "            É um serviço serveless, o que siginifica que não precisamos provisionar servidores para hospedar essas funções.\n",
    "        </li>\n",
    "    </ul>\n",
    " </div>"
   ]
  },
  {
   "cell_type": "markdown",
   "id": "56edb6a3-d44d-46f4-8069-6a85ea3e2fb6",
   "metadata": {},
   "source": [
    "<h3 style='font-size:30px;font-style:italic'> Benefits of AWS Lambda</h3>\n",
    "<div> \n",
    "    <ul style='font-size:20px'> \n",
    "        <li> \n",
    "            Possui suporte para várias linguagens de programação. Além disso, é integrado com os serviços AWS.\n",
    "        </li>\n",
    "        <li>\n",
    "            Monitoração por CloudWatch.\n",
    "        </li>\n",
    "        <li>\n",
    "            Escolhemos a quantidade de RAM para nossas Lambda's. O seu aumento ocasiona o aprimoramento de CPU e rede, também! Podemos definir um timeout de até 15 minutos.\n",
    "        </li>\n",
    "    </ul>\n",
    " </div>"
   ]
  },
  {
   "cell_type": "markdown",
   "id": "029ca30e-e565-44f4-9211-0b7d631677a3",
   "metadata": {},
   "source": [
    "<h3 style='font-size:30px;font-style:italic'> Lambda Container Image</h3>\n",
    "<div> \n",
    "    <ul style='font-size:20px'> \n",
    "        <li> \n",
    "            Podemos também rodar imagens de Docker, sobre as nossas Lambda's. Para isso, a imagem tem que ter a Lambda Runtime API implementada.\n",
    "        </li>\n",
    "        <li>\n",
    "            No entanto, o uso do ECS ou Fargate ainda é preferível.\n",
    "        </li>\n",
    "    </ul>\n",
    " </div>"
   ]
  },
  {
   "cell_type": "markdown",
   "id": "41b9dc43-119c-4916-99b6-3aa16e999cca",
   "metadata": {},
   "source": [
    "<h3 style='font-size:30px;font-style:italic'> Tarefas Agendadas (CRON JOB's)</h3>\n",
    "<div> \n",
    "    <ul style='font-size:20px'> \n",
    "        <li> \n",
    "            Podemos agendar nossas Lambda's com o uso do CloudWatch Events EventBridge.\n",
    "        </li>\n",
    "    </ul>\n",
    " </div>"
   ]
  },
  {
   "cell_type": "markdown",
   "id": "1e629db3-e293-4232-997d-4d4e8bc625a5",
   "metadata": {},
   "source": [
    "<h3 style='font-size:30px;font-style:italic'> AWS Lambda Pricing </h3>\n",
    "<div> \n",
    "    <ul style='font-size:20px'> \n",
    "        <li> \n",
    "            O pagamento do serviço Lambda é feito por chamada ($0.02 a cada 1 MI de calls) e duração\n",
    "        </li>\n",
    "    </ul>\n",
    " </div>"
   ]
  },
  {
   "cell_type": "markdown",
   "id": "ef6ff647-0b9f-4126-9a59-b4b4eb31fe4f",
   "metadata": {},
   "source": [
    "<h2 style='font-size:30px'> Lambda Hands On</h2>\n",
    "<div> \n",
    "    <ul style='font-size:20px'> \n",
    "        <li> \n",
    "            No portal do Lambda, podemos trabalhar com funções de teste já criadas pela Amazon para experimentarmos o serviço.\n",
    "        </li>\n",
    "        <li>\n",
    "            Uma vez gerada a função, conseguimos criar inputs de teste para avaliar seu funcionamento. Na própria tela da função, temos uma tab de monitoração da automação.\n",
    "        </li>\n",
    "    </ul>\n",
    " </div>"
   ]
  },
  {
   "cell_type": "markdown",
   "id": "955d9254-e7db-45cf-8e51-ccae64fd3201",
   "metadata": {},
   "source": [
    "<h2 style='font-size:30px'> API Gateway Overview</h2>\n",
    "<div> \n",
    "    <ul style='font-size:20px'> \n",
    "        <li>\n",
    "            Serviço de criação de API's serveless na AWS. Tem suporte para REST API e WebSocket API.\n",
    "        </li>\n",
    "    </ul>\n",
    " </div>"
   ]
  },
  {
   "cell_type": "markdown",
   "id": "be7e243a-2113-4d8f-8012-6749ad60a93d",
   "metadata": {},
   "source": [
    "<h2 style='font-size:30px'> AWS Batch</h2>\n",
    "<div> \n",
    "    <ul style='font-size:20px'> \n",
    "        <li>\n",
    "            O Batch é um serviço de execução de tarefas, via instâncias EC2. Dada uma carga de trabalho, a própria AWS provisionará o poder computacional ideal.\n",
    "        </li>\n",
    "        <li>\n",
    "            Você precisará definir containers ECS que serão usados pelas VM's.\n",
    "        </li>\n",
    "        <li>\n",
    "            Diferentemente do Lambda, não há tempo máximo para execução, nem espaço de disco limitado.\n",
    "        </li>\n",
    "    </ul>\n",
    " </div>"
   ]
  },
  {
   "cell_type": "markdown",
   "id": "28d878b3-fcd6-48c5-86c6-1b1e79e31867",
   "metadata": {},
   "source": [
    "<h2 style='font-size:30px'> AWS Lightsail</h2>\n",
    "<div> \n",
    "    <ul style='font-size:20px'> \n",
    "        <li>\n",
    "            É um serviço de múltiplas funcionalidades (requisição de VM's, storage, rede), voltado a pessoas com pouca experiência de Cloud Computing.\n",
    "        </li>\n",
    "        <li>\n",
    "            Possui precificação baixa e previsível. Oferece templates de aplicações web, e ambientes de dev e teste. \n",
    "        </li>\n",
    "        <li>\n",
    "            Alta disponibilidade, mas sem auto-escalabilidade.\n",
    "        </li>\n",
    "    </ul>\n",
    " </div>"
   ]
  }
 ],
 "metadata": {
  "kernelspec": {
   "display_name": "Python 3 (ipykernel)",
   "language": "python",
   "name": "python3"
  },
  "language_info": {
   "codemirror_mode": {
    "name": "ipython",
    "version": 3
   },
   "file_extension": ".py",
   "mimetype": "text/x-python",
   "name": "python",
   "nbconvert_exporter": "python",
   "pygments_lexer": "ipython3",
   "version": "3.11.7"
  }
 },
 "nbformat": 4,
 "nbformat_minor": 5
}
