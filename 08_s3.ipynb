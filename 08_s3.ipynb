{
 "cells": [
  {
   "cell_type": "markdown",
   "id": "88476927-7de4-4e85-8306-25f2b4a4bb43",
   "metadata": {},
   "source": [
    "<h1 style='font-size:40px'> Amazon S3</h1>"
   ]
  },
  {
   "cell_type": "markdown",
   "id": "52c31f61-6a15-42b8-b080-a108f0911ca9",
   "metadata": {
    "tags": []
   },
   "source": [
    "<h2 style='font-size:30px'> S3 Overview</h2>\n",
    "<h3 style='font-size:30px;font-style:italic'> Section Introduction</h3>\n",
    "<div> \n",
    "    <ul style='font-size:20px'> \n",
    "        <li> \n",
    "            O S3 é o serviço de armazenamento da AWS, um dos mais famosos da plataforma. \n",
    "        </li>\n",
    "    </ul>\n",
    "</div>"
   ]
  },
  {
   "cell_type": "markdown",
   "id": "166e80aa-c202-41d9-a31d-6619437361a0",
   "metadata": {},
   "source": [
    "<p style='color:red'> Aula 71 (0:35);  DESLIGAR VM'S ao final da aula!!</p>"
   ]
  }
 ],
 "metadata": {
  "kernelspec": {
   "display_name": "Python 3 (ipykernel)",
   "language": "python",
   "name": "python3"
  },
  "language_info": {
   "codemirror_mode": {
    "name": "ipython",
    "version": 3
   },
   "file_extension": ".py",
   "mimetype": "text/x-python",
   "name": "python",
   "nbconvert_exporter": "python",
   "pygments_lexer": "ipython3",
   "version": "3.12.0"
  }
 },
 "nbformat": 4,
 "nbformat_minor": 5
}
