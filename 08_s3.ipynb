{
 "cells": [
  {
   "cell_type": "markdown",
   "id": "88476927-7de4-4e85-8306-25f2b4a4bb43",
   "metadata": {},
   "source": [
    "<h1 style='font-size:40px'> Amazon S3</h1>"
   ]
  },
  {
   "cell_type": "markdown",
   "id": "52c31f61-6a15-42b8-b080-a108f0911ca9",
   "metadata": {
    "tags": []
   },
   "source": [
    "<h2 style='font-size:30px'> S3 Overview</h2>\n",
    "<h3 style='font-size:30px;font-style:italic'> Section Introduction</h3>\n",
    "<div> \n",
    "    <ul style='font-size:20px'> \n",
    "        <li> \n",
    "            O S3 é o serviço de armazenamento da AWS, um dos mais famosos da plataforma. \n",
    "        </li>\n",
    "    </ul>\n",
    "</div>"
   ]
  },
  {
   "cell_type": "markdown",
   "id": "eb8f907e-ee50-4c1e-bb67-242d226b9eb4",
   "metadata": {},
   "source": [
    "<h3 style='font-size:30px;font-style:italic'> Amazon S3 Use Cases</h3>\n",
    "<div> \n",
    "    <ul style='font-size:20px'> \n",
    "        <li> \n",
    "            O S3 pode ser usado tanto no armazenamento de arquivos, quanto para hospedagem de sites e aplicativos.\n",
    "        </li>\n",
    "        <li>\n",
    "            É bastante popular na criação de data lakes, no contexto de Engenharia de Dados.\n",
    "        </li>\n",
    "    </ul>\n",
    "</div>"
   ]
  },
  {
   "cell_type": "markdown",
   "id": "a50b20f1-cc10-4dd2-b1a8-c86df812d8b5",
   "metadata": {},
   "source": [
    "<h3 style='font-size:30px;font-style:italic'> Amazon S3 - Buckets</h3>\n",
    "<div> \n",
    "    <ul style='font-size:20px'> \n",
    "        <li> \n",
    "            Buckets são diretórios do S3 dentro dos quais podemos armazenar objetos (arquivos). \n",
    "        </li>\n",
    "        <li>\n",
    "            Os buckets são definidos ao nível de região. Dentro dela, eles devem ter um nome único entre todos os outros buckets das demais contas da AWS.\n",
    "        </li>\n",
    "    </ul>\n",
    "</div>"
   ]
  },
  {
   "cell_type": "markdown",
   "id": "1148f32e-73e7-447b-959c-410e267c021b",
   "metadata": {},
   "source": [
    "<h3 style='font-size:30px;font-style:italic'> Amazon S3 - Objects</h3>\n",
    "<div> \n",
    "    <ul style='font-size:20px'> \n",
    "        <li> \n",
    "            Os objetos são identificados por um path. Ele sempre começará como s3://&lt;nome_bucket&gt;\n",
    "        </li>\n",
    "        <li>\n",
    "            Após esse caminho padrão, haverá a <strong>key</strong>, que é a localização do objeto dentro desse bucket. Ela poderá conter um prefixo (caminho com \"subdiretórios\") e o nome do objeto.\n",
    "        </li>\n",
    "        <li>\n",
    "            Vale notar que o conceito de subdiretório não existe no S3. Você deve imaginar tudo como chaves.\n",
    "            <center style='margin-top:20px'> \n",
    "                <img src='img/07_key.png'>\n",
    "            </center>\n",
    "        </li>\n",
    "    </ul>\n",
    "</div>"
   ]
  },
  {
   "cell_type": "markdown",
   "id": "a5e10e93-4290-4e07-a88d-6c9bd18b0672",
   "metadata": {},
   "source": [
    "<h3 style='font-size:30px;font-style:italic'> Amazon S3 - Objects (Propriedades)</h3>\n",
    "<div> \n",
    "    <ul style='font-size:20px'> \n",
    "        <li> \n",
    "            O S3 admite arquivos de até 5TB de tamanho. Caso o objeto tenha mais de 5GB, o upload deverá ser feito por chunks. \n",
    "        </li>\n",
    "        <li>\n",
    "            Os metadados dos objetos são armazenados no formato &lt;chave&gt;:&lt;valor&gt;. Você também pode vincular tags a eles, da mesma forma que em outros produtos da AWS. \n",
    "        </li>\n",
    "        <li>\n",
    "            Podemos habilitar o versionamento do arquivo também. Nesse caso, um ID será alocado a cada versão dele.\n",
    "        </li>\n",
    "    </ul>\n",
    "</div>"
   ]
  },
  {
   "cell_type": "markdown",
   "id": "34384a30-e4e6-409e-b6dc-162fddfd4919",
   "metadata": {},
   "source": [
    "<h2 style='font-size:30px'> S3 Hands On</h2>\n",
    "<div> \n",
    "    <ul style='font-size:20px'> \n",
    "        <li>\n",
    "            Nessa aula, aprendemos a criar buckets dentro do S3 e fazer upload de arquivos a eles. \n",
    "        </li>\n",
    "        <li> \n",
    "            Quando o objeto é armazenado dentro do bucket, ele recebe uma URL pública. Mas ela apenas funcionará caso permitamos que o bucket receba acesso público.\n",
    "        </li>\n",
    "        <li>\n",
    "            O acesso \"privado\" ao objeto é feito com as chamadas presigned URL's. Elas contém as credenciais do usuário para que a AWS verifique se ele tem permissão para abrir o documento.\n",
    "        </li>\n",
    "    </ul>\n",
    "</div>"
   ]
  },
  {
   "cell_type": "markdown",
   "id": "4b47f2e6-8f2c-4d70-87ab-fedc81c71a67",
   "metadata": {},
   "source": [
    "<h2 style='font-size:30px'> S3 Security: Bucket Policy</h2>\n",
    "<div> \n",
    "    <ul style='font-size:20px'> \n",
    "        <li>\n",
    "            Existem inúmeras técnicas de protegermos o conteúdo de nossos buckets. \n",
    "            <ul> \n",
    "                <li> \n",
    "                    <i> Encriptação:</i> O S3 fornece chaves de encriptação para mascararmos os objetos de nossos buckets.\n",
    "                </li>\n",
    "                <li> \n",
    "                    <i> IAM Policies:</i> Por meio do IAM, conseguimos definir quais requests de API devem ser permitidos a um determinado usuário. \n",
    "                </li>\n",
    "                <li> \n",
    "                    <i> Bucket Policies:</i> Definem quais usuários podem acessar ou não o bucket.\n",
    "                </li>\n",
    "            </ul>\n",
    "        </li>\n",
    "    </ul>\n",
    "</div>"
   ]
  },
  {
   "cell_type": "markdown",
   "id": "7ee0f92e-cd0c-4a13-8ddb-dce72570707f",
   "metadata": {},
   "source": [
    "<h3 style='font-size:30px;font-style:italic'> S3 - Bucket Policies</h3>\n",
    "<div> \n",
    "    <ul style='font-size:20px'> \n",
    "        <li> \n",
    "            As Bucket Policies nada mais são que JSON's com as configurações de permissionamento. Se assemelham bastante com as Permissions do IAM.\n",
    "        </li>\n",
    "        <li>\n",
    "            Podemos usar S3 Policies a fim de:\n",
    "            <ul> \n",
    "                <li> \n",
    "                    Garantir acesso público ou de outras contas AWS ao bucket.\n",
    "                </li>\n",
    "                <li> \n",
    "                    Obrigar a encriptação de objetos no upload.\n",
    "                </li>\n",
    "            </ul>\n",
    "            <center style='margin-top:20px'> \n",
    "                <img src='img/08_s3_policies.png'\n",
    "            </center>\n",
    "        </li>\n",
    "    </ul>\n",
    "</div>"
   ]
  },
  {
   "cell_type": "markdown",
   "id": "1ce9aa6b-d295-4f7f-ab91-5d9218126f7c",
   "metadata": {},
   "source": [
    "<h3 style='font-size:30px;font-style:italic'> IAM Permissions</h3>\n",
    "<div> \n",
    "    <ul style='font-size:20px'> \n",
    "        <li> \n",
    "            Os acessos de uma conta AWS podem ser também garantidos com permissões IAM. Em seu JSON, podemos especificar uma habilitação do usuário de entrar em um Bucket.\n",
    "        </li>\n",
    "    </ul>\n",
    "</div>"
   ]
  },
  {
   "cell_type": "markdown",
   "id": "674d3e36-b0cb-4ecf-ad9e-18756e24c29a",
   "metadata": {},
   "source": [
    "<h3 style='font-size:30px;font-style:italic'> EC2 Instance Access</h3>\n",
    "<div> \n",
    "    <ul style='font-size:20px'> \n",
    "        <li> \n",
    "            Como aprendemos em módulos anteriores, podemos conferir o acesso de instâncias ao Bucket com IAM Roles\n",
    "        </li>\n",
    "    </ul>\n",
    "</div>"
   ]
  },
  {
   "cell_type": "markdown",
   "id": "e76ef2dc-3b0b-4ed8-b9fa-4ed23882c16f",
   "metadata": {},
   "source": [
    "<h3 style='font-size:30px;font-style:italic'> Cross-Account Access</h3>\n",
    "<div> \n",
    "    <ul style='font-size:20px'> \n",
    "        <li> \n",
    "            Quando quisermos habilitar o acesso de um IAM User de outra conta ao Bucket, devemos criar uma S3 Bucket Policy.\n",
    "        </li>\n",
    "    </ul>\n",
    "</div>"
   ]
  },
  {
   "cell_type": "markdown",
   "id": "8976c6ee-ef3a-4116-bcde-2d972ed5a7b1",
   "metadata": {},
   "source": [
    "<h3 style='font-size:30px;font-style:italic'> Bucket Settings for Block Public Access</h3>\n",
    "<div> \n",
    "    <ul style='font-size:20px'> \n",
    "        <li> \n",
    "            Quando estamos criando nosso bucket, a AWS já nos possibilita impedir o acesso público a ele.\n",
    "        </li>\n",
    "        <li> \n",
    "            Caso você queira que nenhum de seus buckets possa ter acesso público, você pode definir esse bloqueio no nível de sua conta.\n",
    "        </li>\n",
    "    </ul>\n",
    "</div>"
   ]
  },
  {
   "cell_type": "markdown",
   "id": "e473cd44-af7f-4502-b367-6efca83cb721",
   "metadata": {},
   "source": [
    "<h2 style='font-size:30px'> S3 Security: Bucket Policy Hands On</h2>\n",
    "<div> \n",
    "    <ul style='font-size:20px'> \n",
    "        <li>\n",
    "            Nessa aula, aprendemos a habilitar acesso público a um S3 Bucket.\n",
    "        </li>\n",
    "        <li>\n",
    "            Antes de tudo, devemos acessar as Permissions do nosso Bucket e desmarcar todas as opções da seção <strong> Block public acess (bucket settings)</strong>. Note isso não garante o acesso público por si só, já que essas configurações servem para apenas anular S3 Policies ou ACL's que garantem tal tipo de visibilidade.\n",
    "            <center style='margin-top:20px'> \n",
    "                <img src='img/08_block_public.png'>\n",
    "            </center>\n",
    "        </li>\n",
    "    </ul>\n",
    "</div>"
   ]
  },
  {
   "cell_type": "markdown",
   "id": "221bd77c-4f28-4f79-9698-213ddd798887",
   "metadata": {},
   "source": [
    "<h3 style='font-size:30px;font-style:italic'> Criando a S3 Policy</h3>\n",
    "<div> \n",
    "    <ul style='font-size:20px'> \n",
    "        <li> \n",
    "            Uma vez desmarcadas as opções, crie a sua S3 Bucket Policy indo em \"Bucket Policy\", ainda no menu de Permissions. Clique em \"Edit\", e depois em \"Policy Generator\".\n",
    "        </li>\n",
    "        <li>\n",
    "            Preencha o formulário indicando que você desejar gerar uma S3 Policy. Como desejamos garantir o acesso público ao conteúdo do Bucket, insira um * em \"Principal\" e \"GetObject\" no Dropdown de \"Actions\".\n",
    "            <center style='margin-top:20px'> \n",
    "                <img src='img/08_policy_generator.png'\n",
    "            </center>\n",
    "        </li>\n",
    "        <li>\n",
    "            Copie o JSON gerado e cole-o na declaração da Policy. Uma vez salvas as mudanças, todos os conteúdos do seu bucket poderão ser acessados publicamente!\n",
    "        </li>\n",
    "    </ul>\n",
    "</div>"
   ]
  },
  {
   "cell_type": "markdown",
   "id": "0f93437c-ca04-40a9-95ce-142ca8d04dc1",
   "metadata": {},
   "source": [
    "<h2 style='font-size:30px'> S3 Website Overview</h2>\n",
    "<div> \n",
    "    <ul style='font-size:20px'> \n",
    "        <li>\n",
    "            O S3 também consegue hostear sites estáticos. Para isso, é essencial o bucket que o hospeda ter o acesso público permitido.\n",
    "        </li>\n",
    "    </ul>\n",
    "</div>"
   ]
  },
  {
   "cell_type": "markdown",
   "id": "eee5f41d-f834-4c4b-8ec9-5bea0499780e",
   "metadata": {},
   "source": [
    "<h2 style='font-size:30px'> S3 Website Hands On</h2>\n",
    "<div> \n",
    "    <ul style='font-size:20px'> \n",
    "        <li>\n",
    "            A hospedagem de um site estático pode ser permitida na aba \"Properties\" do seu bucket, em \"Static website hosting\".\n",
    "        </li>\n",
    "        <li> \n",
    "            Ao habilitar o hosteamento, você deve informar o arquivo da página principal da sua aplicação (index.html).\n",
    "        </li>\n",
    "    </ul>\n",
    "</div>"
   ]
  },
  {
   "cell_type": "markdown",
   "id": "8b4b6838-3c08-4c72-a68f-7a1c5718eaad",
   "metadata": {},
   "source": [
    "<h2 style='font-size:30px'> S3 Versioning Overview</h2>\n",
    "<div> \n",
    "    <ul style='font-size:20px'> \n",
    "        <li>\n",
    "            A AWS permite o versionamento dos arquivos do seu Bucket logo em seu criação.\n",
    "        </li>\n",
    "        <li>\n",
    "            Dessa forma, qualquer ação de overwrite dos objetos acarretará na criação de uma nova versão deles. Isso é ótimo, caso precisemos dar rollback.\n",
    "        </li>\n",
    "        <li>\n",
    "            O versionamento também garante a recuperação de arquivos, caso haja deleção não intencional.\n",
    "        </li>\n",
    "    </ul>\n",
    "</div>"
   ]
  },
  {
   "cell_type": "markdown",
   "id": "27dc09dd-b3d5-4194-9f37-f2316ab3ebca",
   "metadata": {},
   "source": [
    "<h3 style='font-size:30px;font-style:italic'>Observações</h3>\n",
    "<div> \n",
    "    <ul style='font-size:20px'> \n",
    "        <li> \n",
    "            Qualquer arquivo não versionado ficará com versão null após a habilitação.\n",
    "        </li>\n",
    "        <li>\n",
    "            A suspenção de versionamento não deletará as versões dos objetos.\n",
    "        </li>\n",
    "    </ul>\n",
    "</div>"
   ]
  },
  {
   "cell_type": "markdown",
   "id": "d473a8e0-c83c-44f4-b917-413b4dfff88d",
   "metadata": {},
   "source": [
    "<h2 style='font-size:30px'> S3 Versioning Hands On</h2>\n",
    "<div> \n",
    "    <ul style='font-size:20px'> \n",
    "        <li>\n",
    "            Habilitando o versionamento de objetos, permitimos um conjunto de ações dentro do bucket, que podem parecer um tanto confusas.\n",
    "        </li>\n",
    "        <li>\n",
    "            Na listagem dos objetos, aparecerá um toggle \"Show Versions\". Quando está desligado, a tela somente mostra os arquivos do bucket; mas ao ligá-lo, a relação de versões dos arquivos aparece \n",
    "        </li>\n",
    "        <li>\n",
    "            Com isso, deletar um objeto com \"Show Versions\" desligado apenas o fará sumir da relação de arquivos, criando uma versão sua recuperável com a marcação \"Delete Marker\". Agora, quando apagamos um item com o \"Show Versions\" ligado, estamos deletando uma versão do objeto, sendo isso irreversível.\n",
    "        </li>\n",
    "    </ul>\n",
    "</div>"
   ]
  },
  {
   "cell_type": "markdown",
   "id": "3d89b8bf-3c80-43d7-89e3-6924c6a4d30e",
   "metadata": {},
   "source": [
    "<h3 style='font-size:30px;font-style:italic'> Recuperação de Arquivos Deletados</h3>\n",
    "<div> \n",
    "    <ul style='font-size:20px'> \n",
    "        <li> \n",
    "            Para recuperar um arquivo deletado, apenas apague a sua versão com \"Delete Marker\".\n",
    "        </li>\n",
    "    </ul>\n",
    "</div>"
   ]
  },
  {
   "cell_type": "markdown",
   "id": "1a7d06e1-b0eb-4315-bb4b-78e78a6ca2ae",
   "metadata": {},
   "source": [
    "<h2 style='font-size:30px'> S3 Replication Overview</h2>\n",
    "<div> \n",
    "    <ul style='font-size:20px'> \n",
    "        <li>\n",
    "            Consiste na replicação do conteúdo de um bucket em outro, podendo isso ser feito em repositórios de regiões distintas (CRR), ou iguais (SRR).\n",
    "        </li>\n",
    "        <li>\n",
    "            Garanta que esses buckets tenham versionamento habilitado e as permissões IAM necessárias.\n",
    "        </li>\n",
    "        <li>\n",
    "            Os buckets podem pertencer a contas diferentes também!\n",
    "        </li>\n",
    "    </ul>\n",
    "</div>"
   ]
  },
  {
   "cell_type": "markdown",
   "id": "88a891b3-567a-4aad-95be-efc6c942787a",
   "metadata": {},
   "source": [
    "<h2 style='font-size:30px'> S3 Replication Hands On</h2>\n",
    "<div> \n",
    "    <ul style='font-size:20px'> \n",
    "        <li>\n",
    "            A habilitação da replicação deve ser feita na aba de Management do seu bucket.\n",
    "        </li>\n",
    "        <li>\n",
    "            Por lá, você pode escolher o escopo da sua regra, assim como o bucket-alvo. Em IAM Role, coloque \"Create new Role\".\n",
    "        </li>\n",
    "        <li>\n",
    "            Uma vez ativada, os objetos depositados no bucket de origem serão colocados automaticamente no de destino.\n",
    "        </li>\n",
    "    </ul>\n",
    "</div>"
   ]
  },
  {
   "cell_type": "markdown",
   "id": "e27206d5-8f86-4546-bee4-f0585240bbf4",
   "metadata": {},
   "source": [
    "<h2 style='font-size:30px'> S3 Storage Classes Overview</h2>\n",
    "<div> \n",
    "    <ul style='font-size:20px'> \n",
    "        <li>\n",
    "            Storage Classes são modalidades de armazenamento de objetos nos S3 Buckets, cada uma com um certo grau de <i>availability</i>.\n",
    "        </li>\n",
    "        <li>\n",
    "            Entenda availability como o quão frequente o objeto está disponível para ser prontamente acessado.\n",
    "        </li>\n",
    "    </ul>\n",
    "</div>"
   ]
  },
  {
   "cell_type": "markdown",
   "id": "0d6cd55c-c2a4-4286-ac2f-2c485b675291",
   "metadata": {},
   "source": [
    "<h3 style='font-size:30px;font-style:italic'> S3 Standard</h3>\n",
    "<div> \n",
    "    <ul style='font-size:20px'> \n",
    "        <li> \n",
    "            É a Storage Class de uso geral do S3. Possui uma availability de 99.99% e apresenta baixa latência e alto throughput.\n",
    "        </li>\n",
    "        <li>\n",
    "            Indicado para Big Data Analytics; aplicações web e de gaming; e distribuição de conteúdo.\n",
    "        </li>\n",
    "    </ul>\n",
    "</div>"
   ]
  },
  {
   "cell_type": "markdown",
   "id": "82eea575-4183-423e-ad74-572bdbda85d9",
   "metadata": {},
   "source": [
    "<h3 style='font-size:30px;font-style:italic'> S3 Standard-Infrequent Access (IA)</h3>\n",
    "<div> \n",
    "    <ul style='font-size:20px'> \n",
    "        <li> \n",
    "            Recomendado para objetos pouco acessados, mas que precisam ser rapidamente carregados quando precisados.\n",
    "        </li>\n",
    "        <li>\n",
    "            Possui custos menores, mas cobra pelo carregamento das informações.\n",
    "        </li>\n",
    "        <li>\n",
    "            Possui duas modalidades:\n",
    "        </li>\n",
    "    </ul>\n",
    "</div>"
   ]
  },
  {
   "cell_type": "markdown",
   "id": "166e80aa-c202-41d9-a31d-6619437361a0",
   "metadata": {},
   "source": [
    "<p style='color:red'> Aula 81 (2:40), explicar modalidades do S3 Standard-IA;  DESLIGAR VM'S ao final da aula!!</p>"
   ]
  }
 ],
 "metadata": {
  "kernelspec": {
   "display_name": "Python 3 (ipykernel)",
   "language": "python",
   "name": "python3"
  },
  "language_info": {
   "codemirror_mode": {
    "name": "ipython",
    "version": 3
   },
   "file_extension": ".py",
   "mimetype": "text/x-python",
   "name": "python",
   "nbconvert_exporter": "python",
   "pygments_lexer": "ipython3",
   "version": "3.11.7"
  }
 },
 "nbformat": 4,
 "nbformat_minor": 5
}
