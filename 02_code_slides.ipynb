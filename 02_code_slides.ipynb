{
 "cells": [
  {
   "cell_type": "markdown",
   "id": "0eaf447f-bb63-4b31-8d5f-23e435f79368",
   "metadata": {},
   "source": [
    "<h1 style='font-size:40px'>Code & Slides Download </h1>\n",
    "<div> \n",
    "    <ul style='font-size:20px'> \n",
    "        <li> \n",
    "            Contém apenas orientações sobre acesso aos slides das aulas.\n",
    "        </li>\n",
    "    </ul>\n",
    "</div>"
   ]
  }
 ],
 "metadata": {
  "kernelspec": {
   "display_name": "Python 3 (ipykernel)",
   "language": "python",
   "name": "python3"
  },
  "language_info": {
   "codemirror_mode": {
    "name": "ipython",
    "version": 3
   },
   "file_extension": ".py",
   "mimetype": "text/x-python",
   "name": "python",
   "nbconvert_exporter": "python",
   "pygments_lexer": "ipython3",
   "version": "3.8.10"
  }
 },
 "nbformat": 4,
 "nbformat_minor": 5
}
