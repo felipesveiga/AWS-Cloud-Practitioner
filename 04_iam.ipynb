{
 "cells": [
  {
   "cell_type": "markdown",
   "id": "07c8b965-1c0a-448f-9f9f-ec6c94a2d570",
   "metadata": {},
   "source": [
    "<h1 style='font-size:40px'> IAM - Identity and Access Management</h1>"
   ]
  },
  {
   "cell_type": "markdown",
   "id": "8c0bec11-80af-42c6-970d-cee22dd0b29b",
   "metadata": {},
   "source": [
    "<h2 style='font-size:30px'> IAM Introduction: Users, Groups, Policies</h2>\n",
    "<div> \n",
    "    <ul style='font-size:20px'> \n",
    "        <li> \n",
    "            Aprenderemos neste módulo a lidar com a IAM, sistema de gerenciamento de acessos e identificação da AWS.\n",
    "        </li>\n",
    "        <li> \n",
    "            Existem dois tipos de usuários na AWS: os root - equivlente a um administrador -  e IAM - cujas permissões são gerenciadas pelo root.\n",
    "        </li>\n",
    "        <li> \n",
    "            Esses usuários podem ser alocados a grupos condizentes a os seus papéis na organização. Observe que a AWS não permite que existam sub-grupos (Desenvolvedores -> Desenvolvedores front-end).\n",
    "            <center style='margin-top:20px'> \n",
    "                <img src='img/04_groups.png'>\n",
    "            </center>\n",
    "        </li>\n",
    "    </ul>\n",
    "</div>"
   ]
  },
  {
   "cell_type": "markdown",
   "id": "83ee85ab-5042-47b0-ab5a-d663710fff17",
   "metadata": {},
   "source": [
    "<h3 style='font-size:30px;font-style:italic'> IAM: Permissions</h3>\n",
    "<div> \n",
    "    <ul style='font-size:20px'> \n",
    "        <li> \n",
    "            As permissões detidas por um grupo ou usuário são definidas em um JSON.\n",
    "        </li>\n",
    "        <li>\n",
    "            Busque conceder apenas as permissões das quais um usuário precisa (least priviledge principle): não exponha sua empresa a riscos desnecessários!\n",
    "            <center style='margin-top:20px'> \n",
    "                <img src='img/04_json.png'>\n",
    "            </center>\n",
    "        </li>\n",
    "    </ul>\n",
    "</div>"
   ]
  },
  {
   "cell_type": "markdown",
   "id": "93690c1d-9923-4f2f-abfe-d08305140da0",
   "metadata": {},
   "source": [
    "<h2 style='font-size:30px'> IAM Users & Groups Hands On</h2>\n",
    "<div> \n",
    "    <ul style='font-size:20px'> \n",
    "        <li> \n",
    "            Quando for interagir com a AWS, evite utilizar a root account. Crie uma conta IAM com apenas as permissões necessárias.\n",
    "        </li>\n",
    "        <li> \n",
    "            Entre em IAM, clique na aba Users e depois em Add Users.\n",
    "        </li>\n",
    "        <li> \n",
    "            Evite conceder permissões exclusivas ao usuário. Ao invés disso, crie primeiro um grupo com as policies precisadas e aloque-o nele, como na imagem abaixo:\n",
    "            <center style='margin-top:20px'>\n",
    "                <img src='img/04_policies.png'>\n",
    "            </center>\n",
    "        </li>\n",
    "    </ul>\n",
    "</div>"
   ]
  },
  {
   "cell_type": "markdown",
   "id": "3fd61bd1-e827-4b7f-980c-7af2445a32cd",
   "metadata": {},
   "source": [
    "<h3 style='font-size:30px;font-style:italic'> Tags</h3>\n",
    "<div> \n",
    "    <ul style='font-size:20px'> \n",
    "        <li> \n",
    "            Nós podemos ainda customizar o nosso usuário inserindo tags chave:valor. Esses dados vão, provavelmente, ser inseridos no JSON de permissões ao final da criação.\n",
    "             <center style='margin-top:20px'>\n",
    "                <img src='img/04_tags.png'>\n",
    "            </center>\n",
    "        </li>\n",
    "    </ul>\n",
    "</div>"
   ]
  },
  {
   "cell_type": "markdown",
   "id": "da92ef0e-8cfe-4951-9391-e111e27942f4",
   "metadata": {},
   "source": [
    "<h3 style='font-size:30px;font-style:italic'> Aliases</h3>\n",
    "<div> \n",
    "    <ul style='font-size:20px'> \n",
    "        <li> \n",
    "            Loggins em usuários IAM requerem que a pessoa insira um identificador da conta AWS. Esse, por padrão, é um código numérico, mas é possível definir um alias cuja memorização seja mais fácil.\n",
    "        </li>\n",
    "        <li>\n",
    "            A criação do Alias estará disponível no canto direito do menu \"Dashboard\".\n",
    "             <center style='margin-top:20px'>\n",
    "                <img src='img/04_login_iam.png'>\n",
    "            </center>\n",
    "        </li>\n",
    "        <li style='margin-top:20px'> \n",
    "            Ao logar na sua IAM, o canto superior da tela mostrará a informação &lt userIAM@aliasconta &gt.\n",
    "        </li>\n",
    "    </ul>\n",
    "</div>"
   ]
  },
  {
   "cell_type": "markdown",
   "id": "cb306c8f-a346-4551-ac63-f792730f46ba",
   "metadata": {},
   "source": [
    "<p style='color:red'> Aula 16</p>"
   ]
  }
 ],
 "metadata": {
  "kernelspec": {
   "display_name": "Python 3 (ipykernel)",
   "language": "python",
   "name": "python3"
  },
  "language_info": {
   "codemirror_mode": {
    "name": "ipython",
    "version": 3
   },
   "file_extension": ".py",
   "mimetype": "text/x-python",
   "name": "python",
   "nbconvert_exporter": "python",
   "pygments_lexer": "ipython3",
   "version": "3.8.10"
  }
 },
 "nbformat": 4,
 "nbformat_minor": 5
}
