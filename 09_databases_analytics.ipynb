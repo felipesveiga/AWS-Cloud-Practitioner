{
 "cells": [
  {
   "cell_type": "markdown",
   "id": "694e1a17-6fa2-475a-bdca-76f6477ce2fa",
   "metadata": {},
   "source": [
    "<h1 style='font-size:40px'> Databases & Analytics</h1>"
   ]
  },
  {
   "cell_type": "markdown",
   "id": "e2b33cfe-1baa-45fc-98a6-7e3dd23cad84",
   "metadata": {},
   "source": [
    "<h2 style='font-size:30px'> Databases Introduction</h2>\n",
    "<div> \n",
    "    <ul style='font-size:20px'> \n",
    "        <li> \n",
    "            As empresas podem não se contentar em armazenar os seus dados em sistemas de gerenciamento de arquivos, preferindo recorrer a base de dados em determinados casos.\n",
    "        </li>\n",
    "        <li>\n",
    "            A AWS oferece uma série de serviços voltados a diferentes tipos de bases de dados.\n",
    "        </li>\n",
    "    </ul>\n",
    " </div>"
   ]
  },
  {
   "cell_type": "markdown",
   "id": "a6c2c231-6f14-46fa-834d-a88bcf70881d",
   "metadata": {},
   "source": [
    "<h3 style='font-size:30px;font-style:italic'> Benefícios das Bases de Dados AWS</h3>\n",
    "<div> \n",
    "    <ul style='font-size:20px'> \n",
    "        <li> \n",
    "            Provisionamento rápido, com recursos prontos para escalabilidade.\n",
    "        </li>\n",
    "        <li>\n",
    "            Backups e restores automatizados. Atualizações de OS lidados pela AWS.\n",
    "        </li>\n",
    "        <li>\n",
    "            Recursos de monitoramento e alerta.\n",
    "        </li>\n",
    "    </ul>\n",
    "</div>"
   ]
  },
  {
   "cell_type": "markdown",
   "id": "82e48872-38b3-4826-bf71-3a023a2f3247",
   "metadata": {},
   "source": [
    "<h2 style='font-size:30px'> RDS & Aurora Overview</h2>\n",
    "<div> \n",
    "    <ul style='font-size:20px'> \n",
    "        <li> \n",
    "            RDS é o serviço de gerenciamento de bases de dados relacionais da AWS.\n",
    "        </li>\n",
    "        <li>\n",
    "            Suporta todos os principais bancos de dados do mercado (SQL Server, Oracle, MySQL).\n",
    "        </li>\n",
    "    </ul>\n",
    " </div>"
   ]
  },
  {
   "cell_type": "markdown",
   "id": "bee33d9a-439d-4e1c-b429-ef650da507eb",
   "metadata": {},
   "source": [
    "<h3 style='font-size:30px;font-style:italic'> Vantagens do RDS</h3>\n",
    "<div> \n",
    "    <ul style='font-size:20px'> \n",
    "        <li> \n",
    "            Além de todos os benefícios já mencionados, vale dizer que o RDS suporta a replicação de suas bases de dados em múltiplas AZ's (Disaster Recovery), além da criação de backups com EBS Volumes.\n",
    "        </li>\n",
    "        <li>\n",
    "            No entanto, você não pode acessar os servidores do RDS via SSH...\n",
    "        </li>\n",
    "    </ul>\n",
    "</div>"
   ]
  },
  {
   "cell_type": "markdown",
   "id": "c30ce97b-2736-467a-b843-ce5c15368f88",
   "metadata": {},
   "source": [
    "<h3 style='font-size:30px;font-style:italic'> RDS Solution Architecture</h3>\n",
    "<div> \n",
    "    <ul style='font-size:20px'> \n",
    "        <li> \n",
    "            As bases de dados vão estar hospedadas em várias instâncias EC2. Elas estarão por trás de um ELB, que gerenciará o direcionamento do tráfego.\n",
    "            <center style='margin-top:20px'> \n",
    "                <img src='img/09_rds_architecture.png'>\n",
    "            </center>\n",
    "        </li>\n",
    "    </ul>\n",
    "</div>"
   ]
  },
  {
   "cell_type": "markdown",
   "id": "3c5ba8ac-4780-4e1a-b348-5948235a3628",
   "metadata": {},
   "source": [
    "<h3 style='font-size:30px;font-style:italic'> Amazon Aurora</h3>\n",
    "<div> \n",
    "    <ul style='font-size:20px'> \n",
    "        <li> \n",
    "            Aurora é a solução de criação de bancos de dados relacionais com otimização para Cloud Computing. Tem suporte para PostgreSQL e MySQL, com performance superior em comparação com esses bancos no RDS.\n",
    "        </li>\n",
    "        <li>\n",
    "            O armazenamento do Aurora se expande automaticamente em passos de 10 GB até 128 TB.\n",
    "        </li>\n",
    "        <li>\n",
    "            É 20% mais caro do que o RDS, mas é mais eficiente a custos.\n",
    "        </li>\n",
    "    </ul>\n",
    "</div>"
   ]
  },
  {
   "cell_type": "markdown",
   "id": "18602ef4-2a57-4bdd-83bc-2ff77e7886d0",
   "metadata": {},
   "source": [
    "<h3 style='font-size:30px;font-style:italic'> Amazon Aurora Serveless</h3>\n",
    "<div> \n",
    "    <ul style='font-size:20px'> \n",
    "        <li> \n",
    "            É uma modalidade do Amazon Aurora com instanciação de bases de dados automática. O serviço instanciará novas bases de dados Aurora de acordo com a demanda. Todas elas compartilharão o mesmo volume de armazenamento.\n",
    "        </li>\n",
    "        <li>\n",
    "            Garante menos overhead de gerenciamento. Pagamento por segundo usado. \n",
    "        </li>\n",
    "        <li>\n",
    "            Adequado para workloads pouco frequentes, ou intermitentes.\n",
    "        </li>\n",
    "    </ul>\n",
    "</div>"
   ]
  },
  {
   "cell_type": "markdown",
   "id": "456cd8e2-de6e-4aac-bb15-e6175ca8bbc0",
   "metadata": {},
   "source": [
    "<h2 style='font-size:30px'> RDS Hands On</h2>\n",
    "<div> \n",
    "    <ul style='font-size:20px'> \n",
    "        <li> \n",
    "            O RDS possibilita a criação de bases de dados relacionais rapidamente. Em poucos cliques, sua aplicação já estará disponível para uso.\n",
    "        </li>\n",
    "        <li>\n",
    "            Você consegue, inclusive, definir se a DB vai ser pública ou privada.\n",
    "        </li>\n",
    "    </ul>\n",
    " </div>"
   ]
  },
  {
   "cell_type": "markdown",
   "id": "8c3ebf0b-57a1-404d-8c57-b3b9f038ac39",
   "metadata": {},
   "source": [
    "<h3 style='font-size:30px;font-style:italic'> Snapshots</h3>\n",
    "<div> \n",
    "    <ul style='font-size:20px'> \n",
    "        <li> \n",
    "            Podemos também resgatar snapshots das DB's. A Amazon permite que nós criemos novas bases a partir deles (restores), compartilhemos com outras contas, movê-los para outra região, ou até pô-los em um S3! \n",
    "        </li>\n",
    "    </ul>\n",
    "</div>"
   ]
  },
  {
   "cell_type": "markdown",
   "id": "789ce0db-706c-4101-a8f1-1720042b0988",
   "metadata": {},
   "source": [
    "<h2 style='font-size:30px'> RDS Deployments Options</h2>\n",
    "<div> \n",
    "    <ul style='font-size:20px'> \n",
    "        <li> \n",
    "            Vamos aqui aprender os diferentes tipos de deployments que podem ser feitos no RDS, um especializado em um tipo de falha.\n",
    "        </li>\n",
    "    </ul>\n",
    " </div>"
   ]
  },
  {
   "cell_type": "markdown",
   "id": "d600cba3-7feb-4f77-b3b7-3f18fd3549de",
   "metadata": {},
   "source": [
    "<h3 style='font-size:30px;font-style:italic'> Read Replicas</h3>\n",
    "<div> \n",
    "    <ul style='font-size:20px'> \n",
    "        <li> \n",
    "            Cria réplicas de sua base de dados principal.\n",
    "        </li>\n",
    "        <li>\n",
    "            Seu objetivo é estressar menos a sua main DB para requisições de read. Essas poderão ser direcionadas para as suas réplicas também.\n",
    "        </li>\n",
    "        <li>\n",
    "            Você pode criar até 15 réplicas.\n",
    "        </li>\n",
    "    </ul>\n",
    "</div>"
   ]
  },
  {
   "cell_type": "markdown",
   "id": "a92ef0db-d069-475b-8727-2bf67bd9574b",
   "metadata": {},
   "source": [
    "<h3 style='font-size:30px;font-style:italic'> Multi A-Z</h3>\n",
    "<div> \n",
    "    <ul style='font-size:20px'> \n",
    "        <li> \n",
    "            Fornece uma DB-reserva em outra AZ, em caso de problemas.\n",
    "        </li>\n",
    "        <li>\n",
    "            Essa nova DB é apenas acessível, em caso de indisponibilidade da DB principal.\n",
    "        </li>\n",
    "        <li>\n",
    "            Podemos criar apenas 1 DB de failover.\n",
    "        </li>\n",
    "    </ul>\n",
    "</div>"
   ]
  },
  {
   "cell_type": "markdown",
   "id": "164ab6a5-274d-438e-bd31-4cdf19aed1f4",
   "metadata": {},
   "source": [
    "<h3 style='font-size:30px;font-style:italic'> Multi Region</h3>\n",
    "<div> \n",
    "    <ul style='font-size:20px'> \n",
    "        <li> \n",
    "            Cria Read Replicas em outras Regiões.\n",
    "        </li>\n",
    "        <li>\n",
    "            Ideal para garantir baixas latências da sua aplicação em outros lugares do globo. Também serve para recuperação de desastres.\n",
    "        </li>\n",
    "        <li>\n",
    "            Envolve o pagamento de uma taxa de replicação.\n",
    "        </li>\n",
    "    </ul>\n",
    "</div>"
   ]
  },
  {
   "cell_type": "markdown",
   "id": "7c92d7b2-dc38-42a7-a4d4-d4f1aad1b898",
   "metadata": {},
   "source": [
    "<h2 style='font-size:30px'> ElastiCache Overview</h2>\n",
    "<div> \n",
    "    <ul style='font-size:20px'> \n",
    "        <li> \n",
    "            É o serviço que cria bases de dados na memória de seu servidor. Bastante voltado a fluxos de queries repetidas.\n",
    "        </li>\n",
    "        <li>\n",
    "            Ideal para fluxos de carga intensos que demandam alta performance e baixa latência.\n",
    "        </li>\n",
    "        <li>\n",
    "            A Amazon fica com a responsabilidade de gerir a infra que hospeda a base.\n",
    "        </li>\n",
    "    </ul>\n",
    " </div>"
   ]
  },
  {
   "cell_type": "markdown",
   "id": "f0294563-f563-4985-8d25-64dc937c1f5f",
   "metadata": {},
   "source": [
    "<h3 style='font-size:30px;font-style:italic'> Arquitetura ElastiCache</h3>\n",
    "<div> \n",
    "    <ul style='font-size:20px'> \n",
    "        <li> \n",
    "            A ideia do ElasticCache é direcionar queries comuns e intensas à sua DB in-memory, aliviando a carga computacional da sua RDS DB. \n",
    "            <center style='margin-top:20px'> \n",
    "                <img src='img/09_elasticache.png'>\n",
    "            </center>\n",
    "        </li>\n",
    "    </ul>\n",
    "</div>"
   ]
  },
  {
   "cell_type": "markdown",
   "id": "a015e6e6-26fc-405e-ae67-ac9ae9c585b1",
   "metadata": {},
   "source": [
    "<h2 style='font-size:30px'> DynamoDB Overview</h2>\n",
    "<div> \n",
    "    <ul style='font-size:20px'> \n",
    "        <li> \n",
    "            É o serviço de bases NoSQL, auto-escalável, capaz de lidar com milhões de requisições por segundo, com centenas de TB's de armazenamento.\n",
    "        </li>\n",
    "        <li>\n",
    "            Os dados são armazenados em tabelas, mas com prenchimento mais flexível do que no RDS. As células podem receber dicionários, listas como valor também.\n",
    "        </li>\n",
    "        <li>\n",
    "            Como o Dynamo DB é um serviço de DB não relacionais, não podemos fazer JOIN's entre as nossas tabelas.\n",
    "        </li>\n",
    "    </ul>\n",
    " </div>"
   ]
  },
  {
   "cell_type": "markdown",
   "id": "a8264677-cbe8-4bbb-9c9a-63644f745dec",
   "metadata": {},
   "source": [
    "<h3 style='font-size:30px;font-style:italic'>  Dynamo DB Accelerator - DAX</h3>\n",
    "<div> \n",
    "    <ul style='font-size:20px'> \n",
    "        <li> \n",
    "            É o serviço do Dynamo DB para bases em cache.\n",
    "        </li>\n",
    "        <li>\n",
    "            Oferece baixíssima latência, além de ser altamente escalável e disponível.\n",
    "        </li>\n",
    "    </ul>\n",
    "</div>"
   ]
  },
  {
   "cell_type": "markdown",
   "id": "fc8a8abf-a5cc-4220-a0dc-72738f357c32",
   "metadata": {},
   "source": [
    "<h2 style='font-size:30px'> DynamoDB Hands On</h2>\n",
    "<div> \n",
    "    <ul style='font-size:20px'> \n",
    "        <li> \n",
    "            Aula em que praticamos a criação de tabelas no Dynamo DB.\n",
    "        </li>\n",
    "        <li>\n",
    "            Toda tabela deve conter uma chave primária, que será o principal identificador das linhas.\n",
    "        </li>\n",
    "    </ul>\n",
    " </div>"
   ]
  },
  {
   "cell_type": "markdown",
   "id": "e25a01a4-ab08-466f-9b4b-c6ca2a532c7a",
   "metadata": {},
   "source": [
    "<p style='color:red'> Praticar criação de tabelas no Dynamo DB, Aula 98. DESLIGAR VM'S ao final da aula!!</p>"
   ]
  }
 ],
 "metadata": {
  "kernelspec": {
   "display_name": "Python 3 (ipykernel)",
   "language": "python",
   "name": "python3"
  },
  "language_info": {
   "codemirror_mode": {
    "name": "ipython",
    "version": 3
   },
   "file_extension": ".py",
   "mimetype": "text/x-python",
   "name": "python",
   "nbconvert_exporter": "python",
   "pygments_lexer": "ipython3",
   "version": "3.11.7"
  }
 },
 "nbformat": 4,
 "nbformat_minor": 5
}
