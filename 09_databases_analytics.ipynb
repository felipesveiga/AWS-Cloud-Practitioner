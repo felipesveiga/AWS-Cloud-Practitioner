{
 "cells": [
  {
   "cell_type": "markdown",
   "id": "694e1a17-6fa2-475a-bdca-76f6477ce2fa",
   "metadata": {},
   "source": [
    "<h1 style='font-size:40px'> Databases & Analytics</h1>"
   ]
  },
  {
   "cell_type": "markdown",
   "id": "e2b33cfe-1baa-45fc-98a6-7e3dd23cad84",
   "metadata": {},
   "source": [
    "<h2 style='font-size:30px'> Databases Introduction</h2>\n",
    "<div> \n",
    "    <ul style='font-size:20px'> \n",
    "        <li> \n",
    "            As empresas podem não se contentar em armazenar os seus dados em sistemas de gerenciamento de arquivos, preferindo recorrer a base de dados em determinados casos.\n",
    "        </li>\n",
    "    </ul>\n",
    " </div>"
   ]
  },
  {
   "cell_type": "markdown",
   "id": "e25a01a4-ab08-466f-9b4b-c6ca2a532c7a",
   "metadata": {},
   "source": [
    "<p style='color:red'> Rever Storage Classes, Aula 91;  DESLIGAR VM'S ao final da aula!!</p>"
   ]
  }
 ],
 "metadata": {
  "kernelspec": {
   "display_name": "Python 3 (ipykernel)",
   "language": "python",
   "name": "python3"
  },
  "language_info": {
   "codemirror_mode": {
    "name": "ipython",
    "version": 3
   },
   "file_extension": ".py",
   "mimetype": "text/x-python",
   "name": "python",
   "nbconvert_exporter": "python",
   "pygments_lexer": "ipython3",
   "version": "3.11.7"
  }
 },
 "nbformat": 4,
 "nbformat_minor": 5
}
