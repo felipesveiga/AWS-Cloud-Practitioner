{
 "cells": [
  {
   "cell_type": "markdown",
   "id": "694e1a17-6fa2-475a-bdca-76f6477ce2fa",
   "metadata": {},
   "source": [
    "<h1 style='font-size:40px'> Databases & Analytics</h1>"
   ]
  },
  {
   "cell_type": "markdown",
   "id": "e2b33cfe-1baa-45fc-98a6-7e3dd23cad84",
   "metadata": {},
   "source": [
    "<h2 style='font-size:30px'> Databases Introduction</h2>\n",
    "<div> \n",
    "    <ul style='font-size:20px'> \n",
    "        <li> \n",
    "            As empresas podem não se contentar em armazenar os seus dados em sistemas de gerenciamento de arquivos, preferindo recorrer a base de dados em determinados casos.\n",
    "        </li>\n",
    "        <li>\n",
    "            A AWS oferece uma série de serviços voltados a diferentes tipos de bases de dados.\n",
    "        </li>\n",
    "    </ul>\n",
    " </div>"
   ]
  },
  {
   "cell_type": "markdown",
   "id": "a6c2c231-6f14-46fa-834d-a88bcf70881d",
   "metadata": {},
   "source": [
    "<h3 style='font-size:30px;font-style:italic'> Benefícios das Bases de Dados AWS</h3>\n",
    "<div> \n",
    "    <ul style='font-size:20px'> \n",
    "        <li> \n",
    "            Provisionamento rápido, com recursos prontos para escalabilidade.\n",
    "        </li>\n",
    "        <li>\n",
    "            Backups e restores automatizados. Atualizações de OS lidados pela AWS.\n",
    "        </li>\n",
    "        <li>\n",
    "            Recursos de monitoramento e alerta.\n",
    "        </li>\n",
    "    </ul>\n",
    "</div>"
   ]
  },
  {
   "cell_type": "markdown",
   "id": "82e48872-38b3-4826-bf71-3a023a2f3247",
   "metadata": {},
   "source": [
    "<h2 style='font-size:30px'> RDS & Aurora Overview</h2>\n",
    "<div> \n",
    "    <ul style='font-size:20px'> \n",
    "        <li> \n",
    "            RDS é o serviço de gerenciamento de bases de dados relacionais da AWS.\n",
    "        </li>\n",
    "        <li>\n",
    "            Suporta todos os principais bancos de dados do mercado (SQL Server, Oracle, MySQL).\n",
    "        </li>\n",
    "    </ul>\n",
    " </div>"
   ]
  },
  {
   "cell_type": "markdown",
   "id": "bee33d9a-439d-4e1c-b429-ef650da507eb",
   "metadata": {},
   "source": [
    "<h3 style='font-size:30px;font-style:italic'> Vantagens do RDS</h3>\n",
    "<div> \n",
    "    <ul style='font-size:20px'> \n",
    "        <li> \n",
    "            Além de todos os benefícios já mencionados, vale dizer que o RDS suporta a replicação de suas bases de dados em múltiplas AZ's (Disaster Recovery), além da criação de backups com EBS Volumes.\n",
    "        </li>\n",
    "        <li>\n",
    "            No entanto, você não pode acessar os servidores do RDS via SSH...\n",
    "        </li>\n",
    "    </ul>\n",
    "</div>"
   ]
  },
  {
   "cell_type": "markdown",
   "id": "c30ce97b-2736-467a-b843-ce5c15368f88",
   "metadata": {},
   "source": [
    "<h3 style='font-size:30px;font-style:italic'> RDS Solution Architecture</h3>\n",
    "<div> \n",
    "    <ul style='font-size:20px'> \n",
    "        <li> \n",
    "            As bases de dados vão estar hospedadas em várias instâncias EC2. Elas estarão por trás de um ELB, que gerenciará o direcionamento do tráfego.\n",
    "            <center style='margin-top:20px'> \n",
    "                <img src='img/09_rds_architecture.png'>\n",
    "            </center>\n",
    "        </li>\n",
    "    </ul>\n",
    "</div>"
   ]
  },
  {
   "cell_type": "markdown",
   "id": "3c5ba8ac-4780-4e1a-b348-5948235a3628",
   "metadata": {},
   "source": [
    "<h3 style='font-size:30px;font-style:italic'> Amazon Aurora</h3>\n",
    "<div> \n",
    "    <ul style='font-size:20px'> \n",
    "        <li> \n",
    "            Aurora é a solução de criação de bancos de dados relacionais com otimização para Cloud Computing. Tem suporte para PostgreSQL e MySQL, com performance superior em comparação com esses bancos no RDS.\n",
    "        </li>\n",
    "        <li>\n",
    "            O armazenamento do Aurora se expande automaticamente em passos de 10 GB até 128 TB.\n",
    "        </li>\n",
    "        <li>\n",
    "            É 20% mais caro do que o RDS, mas é mais eficiente a custos.\n",
    "        </li>\n",
    "    </ul>\n",
    "</div>"
   ]
  },
  {
   "cell_type": "markdown",
   "id": "18602ef4-2a57-4bdd-83bc-2ff77e7886d0",
   "metadata": {},
   "source": [
    "<h3 style='font-size:30px;font-style:italic'> Amazon Aurora Serveless</h3>\n",
    "<div> \n",
    "    <ul style='font-size:20px'> \n",
    "        <li> \n",
    "            É uma modalidade do Amazon Aurora com instanciação de bases de dados automática. O serviço instanciará novas bases de dados Aurora de acordo com a demanda. Todas elas compartilharão o mesmo volume de armazenamento.\n",
    "        </li>\n",
    "        <li>\n",
    "            Garante menos overhead de gerenciamento. Pagamento por segundo usado. \n",
    "        </li>\n",
    "        <li>\n",
    "            Adequado para workloads pouco frequentes, ou intermitentes.\n",
    "        </li>\n",
    "    </ul>\n",
    "</div>"
   ]
  },
  {
   "cell_type": "markdown",
   "id": "456cd8e2-de6e-4aac-bb15-e6175ca8bbc0",
   "metadata": {},
   "source": [
    "<h2 style='font-size:30px'> RDS Hands On</h2>\n",
    "<div> \n",
    "    <ul style='font-size:20px'> \n",
    "        <li> \n",
    "            O RDS possibilita a criação de bases de dados relacionais rapidamente. Em poucos cliques, sua aplicação já estará disponível para uso.\n",
    "        </li>\n",
    "        <li>\n",
    "            Você consegue, inclusive, definir se a DB vai ser pública ou privada.\n",
    "        </li>\n",
    "    </ul>\n",
    " </div>"
   ]
  },
  {
   "cell_type": "markdown",
   "id": "8c3ebf0b-57a1-404d-8c57-b3b9f038ac39",
   "metadata": {},
   "source": [
    "<h3 style='font-size:30px;font-style:italic'> Snapshots</h3>\n",
    "<div> \n",
    "    <ul style='font-size:20px'> \n",
    "        <li> \n",
    "            Podemos também resgatar snapshots das DB's. A Amazon permite que nós criemos novas bases a partir deles (restores), compartilhemos com outras contas, movê-los para outra região, ou até pô-los em um S3! \n",
    "        </li>\n",
    "    </ul>\n",
    "</div>"
   ]
  },
  {
   "cell_type": "markdown",
   "id": "789ce0db-706c-4101-a8f1-1720042b0988",
   "metadata": {},
   "source": [
    "<h2 style='font-size:30px'> RDS Deployments Options</h2>\n",
    "<div> \n",
    "    <ul style='font-size:20px'> \n",
    "        <li> \n",
    "            Vamos aqui aprender os diferentes tipos de deployments que podem ser feitos no RDS, um especializado em um tipo de falha.\n",
    "        </li>\n",
    "    </ul>\n",
    " </div>"
   ]
  },
  {
   "cell_type": "markdown",
   "id": "d600cba3-7feb-4f77-b3b7-3f18fd3549de",
   "metadata": {},
   "source": [
    "<h3 style='font-size:30px;font-style:italic'> Read Replicas</h3>\n",
    "<div> \n",
    "    <ul style='font-size:20px'> \n",
    "        <li> \n",
    "            Cria réplicas de sua base de dados principal.\n",
    "        </li>\n",
    "        <li>\n",
    "            Seu objetivo é estressar menos a sua main DB para requisições de read. Essas poderão ser direcionadas para as suas réplicas também.\n",
    "        </li>\n",
    "        <li>\n",
    "            Você pode criar até 15 réplicas.\n",
    "        </li>\n",
    "    </ul>\n",
    "</div>"
   ]
  },
  {
   "cell_type": "markdown",
   "id": "a92ef0db-d069-475b-8727-2bf67bd9574b",
   "metadata": {},
   "source": [
    "<h3 style='font-size:30px;font-style:italic'> Multi A-Z</h3>\n",
    "<div> \n",
    "    <ul style='font-size:20px'> \n",
    "        <li> \n",
    "            Fornece uma DB-reserva em outra AZ, em caso de problemas.\n",
    "        </li>\n",
    "        <li>\n",
    "            Essa nova DB é apenas acessível, em caso de indisponibilidade da DB principal.\n",
    "        </li>\n",
    "        <li>\n",
    "            Podemos criar apenas 1 DB de failover.\n",
    "        </li>\n",
    "    </ul>\n",
    "</div>"
   ]
  },
  {
   "cell_type": "markdown",
   "id": "164ab6a5-274d-438e-bd31-4cdf19aed1f4",
   "metadata": {},
   "source": [
    "<h3 style='font-size:30px;font-style:italic'> Multi Region</h3>\n",
    "<div> \n",
    "    <ul style='font-size:20px'> \n",
    "        <li> \n",
    "            Cria Read Replicas em outras Regiões.\n",
    "        </li>\n",
    "        <li>\n",
    "            Ideal para garantir baixas latências da sua aplicação em outros lugares do globo. Também serve para recuperação de desastres.\n",
    "        </li>\n",
    "        <li>\n",
    "            Envolve o pagamento de uma taxa de replicação.\n",
    "        </li>\n",
    "    </ul>\n",
    "</div>"
   ]
  },
  {
   "cell_type": "markdown",
   "id": "7c92d7b2-dc38-42a7-a4d4-d4f1aad1b898",
   "metadata": {},
   "source": [
    "<h2 style='font-size:30px'> ElastiCache Overview</h2>\n",
    "<div> \n",
    "    <ul style='font-size:20px'> \n",
    "        <li> \n",
    "            É o serviço que cria bases de dados na memória de seu servidor. Bastante voltado a fluxos de queries repetidas.\n",
    "        </li>\n",
    "        <li>\n",
    "            Ideal para fluxos de carga intensos que demandam alta performance e baixa latência.\n",
    "        </li>\n",
    "        <li>\n",
    "            A Amazon fica com a responsabilidade de gerir a infra que hospeda a base.\n",
    "        </li>\n",
    "    </ul>\n",
    " </div>"
   ]
  },
  {
   "cell_type": "markdown",
   "id": "f0294563-f563-4985-8d25-64dc937c1f5f",
   "metadata": {},
   "source": [
    "<h3 style='font-size:30px;font-style:italic'> Arquitetura ElastiCache</h3>\n",
    "<div> \n",
    "    <ul style='font-size:20px'> \n",
    "        <li> \n",
    "            A ideia do ElasticCache é direcionar queries comuns e intensas à sua DB in-memory, aliviando a carga computacional da sua RDS DB. \n",
    "            <center style='margin-top:20px'> \n",
    "                <img src='img/09_elasticache.png'>\n",
    "            </center>\n",
    "        </li>\n",
    "    </ul>\n",
    "</div>"
   ]
  },
  {
   "cell_type": "markdown",
   "id": "a015e6e6-26fc-405e-ae67-ac9ae9c585b1",
   "metadata": {},
   "source": [
    "<h2 style='font-size:30px'> DynamoDB Overview</h2>\n",
    "<div> \n",
    "    <ul style='font-size:20px'> \n",
    "        <li> \n",
    "            É o serviço de bases NoSQL, auto-escalável, capaz de lidar com milhões de requisições por segundo. Tem centenas de TB's de armazenamento.\n",
    "        </li>\n",
    "        <li>\n",
    "            Os dados são armazenados em tabelas, mas com prenchimento mais flexível do que no RDS. As células podem receber dicionários, listas como valor também.\n",
    "        </li>\n",
    "        <li>\n",
    "            Como o Dynamo DB é um serviço de DB não relacionais, não podemos fazer JOIN's entre as nossas tabelas.\n",
    "        </li>\n",
    "    </ul>\n",
    " </div>"
   ]
  },
  {
   "cell_type": "markdown",
   "id": "a8264677-cbe8-4bbb-9c9a-63644f745dec",
   "metadata": {},
   "source": [
    "<h3 style='font-size:30px;font-style:italic'>  Dynamo DB Accelerator - DAX</h3>\n",
    "<div> \n",
    "    <ul style='font-size:20px'> \n",
    "        <li> \n",
    "            É o serviço do Dynamo DB para bases em cache.\n",
    "        </li>\n",
    "        <li>\n",
    "            Oferece baixíssima latência, além de ser altamente escalável e disponível.\n",
    "        </li>\n",
    "    </ul>\n",
    "</div>"
   ]
  },
  {
   "cell_type": "markdown",
   "id": "fc8a8abf-a5cc-4220-a0dc-72738f357c32",
   "metadata": {},
   "source": [
    "<h2 style='font-size:30px'> DynamoDB Hands On</h2>\n",
    "<div> \n",
    "    <ul style='font-size:20px'> \n",
    "        <li> \n",
    "            Aula em que praticamos a criação de tabelas no Dynamo DB.\n",
    "        </li>\n",
    "        <li>\n",
    "            Toda tabela deve conter uma chave primária, que será o principal identificador das linhas.\n",
    "        </li>\n",
    "    </ul>\n",
    " </div>"
   ]
  },
  {
   "cell_type": "markdown",
   "id": "8b446e09-5059-406d-8c56-99325e93f864",
   "metadata": {},
   "source": [
    "<h2 style='font-size:30px'> DynamoDB Global Tables</h2>\n",
    "<div> \n",
    "    <ul style='font-size:20px'> \n",
    "        <li> \n",
    "            Nós podemos replicar nossas tabelas do Dynamo DB em múltiplas regiões, garantindo acessos com baixa latência.\n",
    "        </li>\n",
    "        <li>\n",
    "            No caso, a replicação será do tipo Active-Active (permissão de read/write de qualquer região).\n",
    "        </li>\n",
    "    </ul>\n",
    " </div>"
   ]
  },
  {
   "cell_type": "markdown",
   "id": "582a0dde-ed40-4e50-9278-f3ec2825ff37",
   "metadata": {},
   "source": [
    "<h2 style='font-size:30px'> Redshift Overview</h2>\n",
    "<div> \n",
    "    <ul style='font-size:20px'> \n",
    "        <li> \n",
    "            Serviço de bases de dados com enfoque em data analytics e warehousing. Pode se integrar ao AWS Quicksight ou Tableau facilmente.\n",
    "        </li>\n",
    "        <li>\n",
    "            Dados armazenados no formato colunar. As consultas são feitas em SQL e têm uma execução altamente paralelizada.\n",
    "        </li>\n",
    "        <li>\n",
    "            A ingestão dos dados não é feita continuamente, e sim com uma frequência menor (por hora, por dia...).\n",
    "        </li>\n",
    "    </ul>\n",
    " </div>"
   ]
  },
  {
   "cell_type": "markdown",
   "id": "eeb19ad7-7404-4ccc-b538-c94d9d73363b",
   "metadata": {},
   "source": [
    "<h3 style='font-size:30px;font-style:italic'> Redshift Serveless</h3>\n",
    "<div> \n",
    "    <ul style='font-size:20px'> \n",
    "        <li> \n",
    "            Modalidade do Redshift em que o provisionamento de mais armazenamento é feito automaticamente.\n",
    "        </li>\n",
    "        <li>\n",
    "            O pagamento é feito com base na computação e armazenamento usados.\n",
    "        </li>\n",
    "        <li>\n",
    "            Apropriado para aplicações de dashboard, analytics em tempo real.\n",
    "        </li>\n",
    "    </ul>\n",
    "</div>"
   ]
  },
  {
   "cell_type": "markdown",
   "id": "d80051f4-4a8c-4304-9879-23c74b1f6a3a",
   "metadata": {},
   "source": [
    "<h2 style='font-size:30px'> EMR Overview</h2>\n",
    "<div> \n",
    "    <ul style='font-size:20px'> \n",
    "        <li> \n",
    "            O Elastic MapReduce é um serviço de criação de clusters Hadoop, com o enfoque no processamento de grandes volumes de dados. A instanciação e configuração de VM's EC2 é feita automaticamente.\n",
    "        </li>\n",
    "        <li>\n",
    "            Serviço auto-escalável e integrado com Spot Instances.\n",
    "        </li>\n",
    "        <li>\n",
    "            Apropriado para processamento de dados, machine learning e big data.\n",
    "        </li>\n",
    "    </ul>\n",
    " </div>"
   ]
  },
  {
   "cell_type": "markdown",
   "id": "dd8bae6a-0264-4566-9107-f989d2824528",
   "metadata": {},
   "source": [
    "<h2 style='font-size:30px'> Athena Overview</h2>\n",
    "<div> \n",
    "    <ul style='font-size:20px'> \n",
    "        <li> \n",
    "            É um serviço serveless de queries SQL de objetos armazenados no S3.\n",
    "        </li>\n",
    "        <li>\n",
    "            A taxação é feita por TB de dados escaneados. Por isso, opte por datasets comprimidos ou colunares, visando redução de custos.\n",
    "        </li>\n",
    "        <li>\n",
    "            Use esse serviço em projetos de BI e analytics!\n",
    "        </li>\n",
    "    </ul>\n",
    " </div>"
   ]
  },
  {
   "cell_type": "markdown",
   "id": "0aebaeec-e901-4f4d-831f-436dae9687c3",
   "metadata": {},
   "source": [
    "<h2 style='font-size:30px'> QuickSight Overview</h2>\n",
    "<div> \n",
    "    <ul style='font-size:20px'> \n",
    "        <li> \n",
    "            O Amazon QuickSight é o serviço de dataviz da AWS. Com ele, você consegue montar facilmente dashboards abastecidos por dados do RDS, S3, RedShift, etc. \n",
    "        </li>\n",
    "    </ul>\n",
    " </div>"
   ]
  },
  {
   "cell_type": "markdown",
   "id": "bf90f074-ccdd-493d-a6ef-50f2249c4cbf",
   "metadata": {},
   "source": [
    "<h2 style='font-size:30px'> DocumentDB Overview</h2>\n",
    "<div> \n",
    "    <ul style='font-size:20px'> \n",
    "        <li> \n",
    "            O DocumentDB é o serviço de bases MongoDB no Aurora. É totalmente gerenciado e altamente disponível, com replicação dos dados em 3 AZ's. \n",
    "        </li>\n",
    "        <li>\n",
    "            Se escala tanto em termos de armazenamento (de 10 em 10 GB), quanto de capacidade para recebimento de requisições.\n",
    "        </li>\n",
    "    </ul>\n",
    " </div>"
   ]
  },
  {
   "cell_type": "markdown",
   "id": "47a7621c-f6a5-4a23-8345-1be4b2217857",
   "metadata": {},
   "source": [
    "<h2 style='font-size:30px'> Neptune Overview</h2>\n",
    "<div> \n",
    "    <ul style='font-size:20px'> \n",
    "        <li> \n",
    "            O Neptune é o serviço de bases de dados de grafos.\n",
    "        </li>\n",
    "        <li>\n",
    "            É replicável em 3 AZ's, com até 15 cópias de leitura. \n",
    "        </li>\n",
    "        <li>\n",
    "            Alta capacidade de armazenamento, com baixíssima latência.\n",
    "        </li>\n",
    "    </ul>\n",
    " </div>"
   ]
  },
  {
   "cell_type": "markdown",
   "id": "1e7d3c05-ca6c-4aa0-ad97-ce47c5864f70",
   "metadata": {},
   "source": [
    "<h2 style='font-size:30px'> Timestream Overview</h2>\n",
    "<div> \n",
    "    <ul style='font-size:20px'> \n",
    "        <li> \n",
    "            Serviço de DB's voltado a séries temporais. Contém funções especializadas para análise desse tipo de dataset.\n",
    "        </li>\n",
    "        <li>\n",
    "            Serviço altamente disponível e escalável! É muito mais rápido e barato do que os serviços de bases relacionais.\n",
    "        </li>\n",
    "    </ul>\n",
    " </div>"
   ]
  },
  {
   "cell_type": "markdown",
   "id": "76fa9188-36af-49d5-9cf7-e1c215b83358",
   "metadata": {},
   "source": [
    "<h2 style='font-size:30px'>  QLDB Overview</h2>\n",
    "<div> \n",
    "    <ul style='font-size:20px'> \n",
    "        <li> \n",
    "            O Quantum Ledger Database é um serviço de bases de dados em que não é permitida a edição ou deleção das instâncias da tabela.\n",
    "        </li>\n",
    "        <li>\n",
    "            Serviço totalmente gerenciado, serveless e altamente disponível (replicação em 3 AZ's).\n",
    "        </li>\n",
    "        <li>\n",
    "            Usado para registro de transações financeiras e de mudanças feitas à sua aplicação. Não possui componente de descentralização.\n",
    "        </li>\n",
    "    </ul>\n",
    " </div>"
   ]
  },
  {
   "cell_type": "markdown",
   "id": "5aa6ce57-c84a-4d93-ad19-a4c20ebb89a2",
   "metadata": {},
   "source": [
    "<h2 style='font-size:30px'> Managed Blockchain Overview</h2>\n",
    "<div> \n",
    "    <ul style='font-size:20px'> \n",
    "        <li> \n",
    "            A Blockchain possibilita a montagem de aplicações em que múltiplas partes podem executar transações, sem a necessidade de uma entidade central.\n",
    "        </li>\n",
    "        <li>\n",
    "            O Amazon Managed Blockchain, podemos entrar em redes de blockchain públicas, ou criar a nossa rede escalável privada.\n",
    "        </li>\n",
    "        <li>\n",
    "            Compatível com Hyperledger Fabric e Ethereum.\n",
    "        </li>\n",
    "    </ul>\n",
    " </div>"
   ]
  },
  {
   "cell_type": "markdown",
   "id": "7f2370c2-4865-4f6d-96c4-be445d6eeb08",
   "metadata": {},
   "source": [
    "<h2 style='font-size:30px'> Glue Overview</h2>\n",
    "<div> \n",
    "    <ul style='font-size:20px'> \n",
    "        <li> \n",
    "            Glue é o serviço de ETL da Amazon. Nele, você pode extrair dados do S3, RDS, etc e criar um novo dataset.\n",
    "        </li>\n",
    "        <li> \n",
    "            Serviço totalmente serveless.\n",
    "        </li>\n",
    "    </ul>\n",
    " </div>"
   ]
  },
  {
   "cell_type": "markdown",
   "id": "74ddec94-02d6-48de-8dfa-85e9788769ba",
   "metadata": {},
   "source": [
    "<h3 style='font-size:30px;font-style:italic'> Glue Data Catalog</h3>\n",
    "<div> \n",
    "    <ul style='font-size:20px'> \n",
    "        <li> \n",
    "            É um catálogo de datasets, que menciona metadados como nomes das colunas e datatypes.\n",
    "        </li>\n",
    "        <li>\n",
    "            Pode ser usado por serviços como Athena, Redshift ou EMR. \n",
    "        </li>\n",
    "    </ul>\n",
    "</div>"
   ]
  },
  {
   "cell_type": "markdown",
   "id": "e25a01a4-ab08-466f-9b4b-c6ca2a532c7a",
   "metadata": {},
   "source": [
    "<p style='color:red'> Vi Managed Blockchain e Glue; Aula 109. DESLIGAR VM'S ao final da aula!!</p>"
   ]
  }
 ],
 "metadata": {
  "kernelspec": {
   "display_name": "Python 3 (ipykernel)",
   "language": "python",
   "name": "python3"
  },
  "language_info": {
   "codemirror_mode": {
    "name": "ipython",
    "version": 3
   },
   "file_extension": ".py",
   "mimetype": "text/x-python",
   "name": "python",
   "nbconvert_exporter": "python",
   "pygments_lexer": "ipython3",
   "version": "3.11.7"
  }
 },
 "nbformat": 4,
 "nbformat_minor": 5
}
